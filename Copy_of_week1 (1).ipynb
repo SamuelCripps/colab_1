{
  "nbformat": 4,
  "nbformat_minor": 0,
  "metadata": {
    "colab": {
      "provenance": []
    },
    "kernelspec": {
      "name": "python3",
      "display_name": "Python 3"
    },
    "language_info": {
      "name": "python"
    }
  },
  "cells": [
    {
      "cell_type": "markdown",
      "source": [
        "**Welcome to your first assignment of Summer Analytics 2023! We hope you are excited to implement and test everything you have learnt up until now.<a href = \"https://drive.google.com/file/d/1U73P58VAc4EXM98Or9feKnVx9I9FOP_L/view?usp=sharing\"> The dataset</a> which you'll use includes information about Movies.**"
      ],
      "metadata": {
        "id": "7t7O3hPJQQ1h"
      }
    },
    {
      "cell_type": "markdown",
      "source": [
        " We've got an interesting set of questions for you to get a basic understanding of pandas and data visualization libraries. GOOD LUCK!\n",
        "\n",
        "Let's get started with importing numpy, pandas, seaborn and matplotlib!"
      ],
      "metadata": {
        "id": "8yDZv8F_QiqH"
      }
    },
    {
      "cell_type": "markdown",
      "source": [
        "Note - matplotlib should be imported with the command :\n",
        "\n",
        "**import matplotlib.pyplot as plt**"
      ],
      "metadata": {
        "id": "p-nMuCNQQxx_"
      }
    },
    {
      "cell_type": "markdown",
      "source": [
        "Start by importing all important libraries"
      ],
      "metadata": {
        "id": "nz8BTfnCRC8v"
      }
    },
    {
      "cell_type": "code",
      "execution_count": null,
      "metadata": {
        "id": "rKkyeMJiO0up"
      },
      "outputs": [],
      "source": [
        "import seaborn as sns\n",
        "import matplotlib.pyplot as plt\n",
        "import pandas as pd\n",
        "import numpy as np\n",
        "import cufflinks as cf\n",
        "import plotly.express as px"
      ]
    },
    {
      "cell_type": "code",
      "source": [
        "from google.colab import drive\n",
        "drive.mount('/content/drive')"
      ],
      "metadata": {
        "id": "I1i0YCmgjDmD",
        "outputId": "acb9e1e4-dfc0-4ae0-bf0a-95c26970aea0",
        "colab": {
          "base_uri": "https://localhost:8080/"
        }
      },
      "execution_count": null,
      "outputs": [
        {
          "output_type": "stream",
          "name": "stdout",
          "text": [
            "Drive already mounted at /content/drive; to attempt to forcibly remount, call drive.mount(\"/content/drive\", force_remount=True).\n"
          ]
        }
      ]
    },
    {
      "cell_type": "markdown",
      "source": [
        "Read the csv file and assign it to a variable ."
      ],
      "metadata": {
        "id": "2N8LabERRONN"
      }
    },
    {
      "cell_type": "code",
      "source": [
        "movies = pd.read_csv('/content/drive/MyDrive/Datasets/imdb_top_1000.csv')"
      ],
      "metadata": {
        "id": "vnjh3IZmRO72"
      },
      "execution_count": null,
      "outputs": []
    },
    {
      "cell_type": "markdown",
      "source": [
        "Display shape of dataframe"
      ],
      "metadata": {
        "id": "EifdwomBRPxy"
      }
    },
    {
      "cell_type": "code",
      "source": [
        "movies.shape"
      ],
      "metadata": {
        "id": "lM8S9INfRSt3",
        "outputId": "eecb0b95-13fb-4f37-f556-5940b9f22b68",
        "colab": {
          "base_uri": "https://localhost:8080/"
        }
      },
      "execution_count": null,
      "outputs": [
        {
          "output_type": "execute_result",
          "data": {
            "text/plain": [
              "(1000, 16)"
            ]
          },
          "metadata": {},
          "execution_count": 87
        }
      ]
    },
    {
      "cell_type": "markdown",
      "source": [
        "Print all columns of dataframe"
      ],
      "metadata": {
        "id": "Q9xTIt54RVTY"
      }
    },
    {
      "cell_type": "code",
      "source": [
        "movies.columns"
      ],
      "metadata": {
        "id": "kn3VPvn6RV4_",
        "outputId": "de302542-e123-4f75-b0cd-1c2975dcb4b8",
        "colab": {
          "base_uri": "https://localhost:8080/"
        }
      },
      "execution_count": null,
      "outputs": [
        {
          "output_type": "execute_result",
          "data": {
            "text/plain": [
              "Index(['Poster_Link', 'Series_Title', 'Released_Year', 'Certificate',\n",
              "       'Runtime', 'Genre', 'IMDB_Rating', 'Overview', 'Meta_score', 'Director',\n",
              "       'Star1', 'Star2', 'Star3', 'Star4', 'No_of_Votes', 'Gross'],\n",
              "      dtype='object')"
            ]
          },
          "metadata": {},
          "execution_count": 88
        }
      ]
    },
    {
      "cell_type": "markdown",
      "source": [
        "Remove the column 'Poster_Link' and update the dataframe."
      ],
      "metadata": {
        "id": "3jtm084KRleN"
      }
    },
    {
      "cell_type": "code",
      "source": [
        "movies.drop('Poster_Link', axis = 1)"
      ],
      "metadata": {
        "id": "zYIz3q0ARnuU",
        "outputId": "2825cab8-30df-47ce-cb9b-963a679795d9",
        "colab": {
          "base_uri": "https://localhost:8080/",
          "height": 1000
        }
      },
      "execution_count": null,
      "outputs": [
        {
          "output_type": "execute_result",
          "data": {
            "text/plain": [
              "                 Series_Title Released_Year Certificate  Runtime  \\\n",
              "0    The Shawshank Redemption          1994           A  142 min   \n",
              "1               The Godfather          1972           A  175 min   \n",
              "2             The Dark Knight          2008          UA  152 min   \n",
              "3      The Godfather: Part II          1974           A  202 min   \n",
              "4                12 Angry Men          1957           U   96 min   \n",
              "..                        ...           ...         ...      ...   \n",
              "995    Breakfast at Tiffany's          1961           A  115 min   \n",
              "996                     Giant          1956           G  201 min   \n",
              "997     From Here to Eternity          1953      Passed  118 min   \n",
              "998                  Lifeboat          1944         NaN   97 min   \n",
              "999              The 39 Steps          1935         NaN   86 min   \n",
              "\n",
              "                        Genre  IMDB_Rating  \\\n",
              "0                       Drama          9.3   \n",
              "1                Crime, Drama          9.2   \n",
              "2        Action, Crime, Drama          9.0   \n",
              "3                Crime, Drama          9.0   \n",
              "4                Crime, Drama          9.0   \n",
              "..                        ...          ...   \n",
              "995    Comedy, Drama, Romance          7.6   \n",
              "996            Drama, Western          7.6   \n",
              "997       Drama, Romance, War          7.6   \n",
              "998                Drama, War          7.6   \n",
              "999  Crime, Mystery, Thriller          7.6   \n",
              "\n",
              "                                              Overview  Meta_score  \\\n",
              "0    Two imprisoned men bond over a number of years...        80.0   \n",
              "1    An organized crime dynasty's aging patriarch t...       100.0   \n",
              "2    When the menace known as the Joker wreaks havo...        84.0   \n",
              "3    The early life and career of Vito Corleone in ...        90.0   \n",
              "4    A jury holdout attempts to prevent a miscarria...        96.0   \n",
              "..                                                 ...         ...   \n",
              "995  A young New York socialite becomes interested ...        76.0   \n",
              "996  Sprawling epic covering the life of a Texas ca...        84.0   \n",
              "997  In Hawaii in 1941, a private is cruelly punish...        85.0   \n",
              "998  Several survivors of a torpedoed merchant ship...        78.0   \n",
              "999  A man in London tries to help a counter-espion...        93.0   \n",
              "\n",
              "                 Director              Star1              Star2  \\\n",
              "0          Frank Darabont        Tim Robbins     Morgan Freeman   \n",
              "1    Francis Ford Coppola      Marlon Brando          Al Pacino   \n",
              "2       Christopher Nolan     Christian Bale       Heath Ledger   \n",
              "3    Francis Ford Coppola          Al Pacino     Robert De Niro   \n",
              "4            Sidney Lumet        Henry Fonda        Lee J. Cobb   \n",
              "..                    ...                ...                ...   \n",
              "995         Blake Edwards     Audrey Hepburn     George Peppard   \n",
              "996        George Stevens   Elizabeth Taylor        Rock Hudson   \n",
              "997        Fred Zinnemann     Burt Lancaster   Montgomery Clift   \n",
              "998      Alfred Hitchcock  Tallulah Bankhead        John Hodiak   \n",
              "999      Alfred Hitchcock       Robert Donat  Madeleine Carroll   \n",
              "\n",
              "              Star3           Star4  No_of_Votes        Gross  \n",
              "0        Bob Gunton  William Sadler      2343110   28,341,469  \n",
              "1        James Caan    Diane Keaton      1620367  134,966,411  \n",
              "2     Aaron Eckhart   Michael Caine      2303232  534,858,444  \n",
              "3     Robert Duvall    Diane Keaton      1129952   57,300,000  \n",
              "4     Martin Balsam    John Fiedler       689845    4,360,000  \n",
              "..              ...             ...          ...          ...  \n",
              "995   Patricia Neal     Buddy Ebsen       166544          NaN  \n",
              "996      James Dean   Carroll Baker        34075          NaN  \n",
              "997    Deborah Kerr      Donna Reed        43374   30,500,000  \n",
              "998   Walter Slezak  William Bendix        26471          NaN  \n",
              "999  Lucie Mannheim  Godfrey Tearle        51853          NaN  \n",
              "\n",
              "[1000 rows x 15 columns]"
            ],
            "text/html": [
              "\n",
              "  <div id=\"df-905890f2-0d5e-4ee2-b714-d77e10bc88d6\">\n",
              "    <div class=\"colab-df-container\">\n",
              "      <div>\n",
              "<style scoped>\n",
              "    .dataframe tbody tr th:only-of-type {\n",
              "        vertical-align: middle;\n",
              "    }\n",
              "\n",
              "    .dataframe tbody tr th {\n",
              "        vertical-align: top;\n",
              "    }\n",
              "\n",
              "    .dataframe thead th {\n",
              "        text-align: right;\n",
              "    }\n",
              "</style>\n",
              "<table border=\"1\" class=\"dataframe\">\n",
              "  <thead>\n",
              "    <tr style=\"text-align: right;\">\n",
              "      <th></th>\n",
              "      <th>Series_Title</th>\n",
              "      <th>Released_Year</th>\n",
              "      <th>Certificate</th>\n",
              "      <th>Runtime</th>\n",
              "      <th>Genre</th>\n",
              "      <th>IMDB_Rating</th>\n",
              "      <th>Overview</th>\n",
              "      <th>Meta_score</th>\n",
              "      <th>Director</th>\n",
              "      <th>Star1</th>\n",
              "      <th>Star2</th>\n",
              "      <th>Star3</th>\n",
              "      <th>Star4</th>\n",
              "      <th>No_of_Votes</th>\n",
              "      <th>Gross</th>\n",
              "    </tr>\n",
              "  </thead>\n",
              "  <tbody>\n",
              "    <tr>\n",
              "      <th>0</th>\n",
              "      <td>The Shawshank Redemption</td>\n",
              "      <td>1994</td>\n",
              "      <td>A</td>\n",
              "      <td>142 min</td>\n",
              "      <td>Drama</td>\n",
              "      <td>9.3</td>\n",
              "      <td>Two imprisoned men bond over a number of years...</td>\n",
              "      <td>80.0</td>\n",
              "      <td>Frank Darabont</td>\n",
              "      <td>Tim Robbins</td>\n",
              "      <td>Morgan Freeman</td>\n",
              "      <td>Bob Gunton</td>\n",
              "      <td>William Sadler</td>\n",
              "      <td>2343110</td>\n",
              "      <td>28,341,469</td>\n",
              "    </tr>\n",
              "    <tr>\n",
              "      <th>1</th>\n",
              "      <td>The Godfather</td>\n",
              "      <td>1972</td>\n",
              "      <td>A</td>\n",
              "      <td>175 min</td>\n",
              "      <td>Crime, Drama</td>\n",
              "      <td>9.2</td>\n",
              "      <td>An organized crime dynasty's aging patriarch t...</td>\n",
              "      <td>100.0</td>\n",
              "      <td>Francis Ford Coppola</td>\n",
              "      <td>Marlon Brando</td>\n",
              "      <td>Al Pacino</td>\n",
              "      <td>James Caan</td>\n",
              "      <td>Diane Keaton</td>\n",
              "      <td>1620367</td>\n",
              "      <td>134,966,411</td>\n",
              "    </tr>\n",
              "    <tr>\n",
              "      <th>2</th>\n",
              "      <td>The Dark Knight</td>\n",
              "      <td>2008</td>\n",
              "      <td>UA</td>\n",
              "      <td>152 min</td>\n",
              "      <td>Action, Crime, Drama</td>\n",
              "      <td>9.0</td>\n",
              "      <td>When the menace known as the Joker wreaks havo...</td>\n",
              "      <td>84.0</td>\n",
              "      <td>Christopher Nolan</td>\n",
              "      <td>Christian Bale</td>\n",
              "      <td>Heath Ledger</td>\n",
              "      <td>Aaron Eckhart</td>\n",
              "      <td>Michael Caine</td>\n",
              "      <td>2303232</td>\n",
              "      <td>534,858,444</td>\n",
              "    </tr>\n",
              "    <tr>\n",
              "      <th>3</th>\n",
              "      <td>The Godfather: Part II</td>\n",
              "      <td>1974</td>\n",
              "      <td>A</td>\n",
              "      <td>202 min</td>\n",
              "      <td>Crime, Drama</td>\n",
              "      <td>9.0</td>\n",
              "      <td>The early life and career of Vito Corleone in ...</td>\n",
              "      <td>90.0</td>\n",
              "      <td>Francis Ford Coppola</td>\n",
              "      <td>Al Pacino</td>\n",
              "      <td>Robert De Niro</td>\n",
              "      <td>Robert Duvall</td>\n",
              "      <td>Diane Keaton</td>\n",
              "      <td>1129952</td>\n",
              "      <td>57,300,000</td>\n",
              "    </tr>\n",
              "    <tr>\n",
              "      <th>4</th>\n",
              "      <td>12 Angry Men</td>\n",
              "      <td>1957</td>\n",
              "      <td>U</td>\n",
              "      <td>96 min</td>\n",
              "      <td>Crime, Drama</td>\n",
              "      <td>9.0</td>\n",
              "      <td>A jury holdout attempts to prevent a miscarria...</td>\n",
              "      <td>96.0</td>\n",
              "      <td>Sidney Lumet</td>\n",
              "      <td>Henry Fonda</td>\n",
              "      <td>Lee J. Cobb</td>\n",
              "      <td>Martin Balsam</td>\n",
              "      <td>John Fiedler</td>\n",
              "      <td>689845</td>\n",
              "      <td>4,360,000</td>\n",
              "    </tr>\n",
              "    <tr>\n",
              "      <th>...</th>\n",
              "      <td>...</td>\n",
              "      <td>...</td>\n",
              "      <td>...</td>\n",
              "      <td>...</td>\n",
              "      <td>...</td>\n",
              "      <td>...</td>\n",
              "      <td>...</td>\n",
              "      <td>...</td>\n",
              "      <td>...</td>\n",
              "      <td>...</td>\n",
              "      <td>...</td>\n",
              "      <td>...</td>\n",
              "      <td>...</td>\n",
              "      <td>...</td>\n",
              "      <td>...</td>\n",
              "    </tr>\n",
              "    <tr>\n",
              "      <th>995</th>\n",
              "      <td>Breakfast at Tiffany's</td>\n",
              "      <td>1961</td>\n",
              "      <td>A</td>\n",
              "      <td>115 min</td>\n",
              "      <td>Comedy, Drama, Romance</td>\n",
              "      <td>7.6</td>\n",
              "      <td>A young New York socialite becomes interested ...</td>\n",
              "      <td>76.0</td>\n",
              "      <td>Blake Edwards</td>\n",
              "      <td>Audrey Hepburn</td>\n",
              "      <td>George Peppard</td>\n",
              "      <td>Patricia Neal</td>\n",
              "      <td>Buddy Ebsen</td>\n",
              "      <td>166544</td>\n",
              "      <td>NaN</td>\n",
              "    </tr>\n",
              "    <tr>\n",
              "      <th>996</th>\n",
              "      <td>Giant</td>\n",
              "      <td>1956</td>\n",
              "      <td>G</td>\n",
              "      <td>201 min</td>\n",
              "      <td>Drama, Western</td>\n",
              "      <td>7.6</td>\n",
              "      <td>Sprawling epic covering the life of a Texas ca...</td>\n",
              "      <td>84.0</td>\n",
              "      <td>George Stevens</td>\n",
              "      <td>Elizabeth Taylor</td>\n",
              "      <td>Rock Hudson</td>\n",
              "      <td>James Dean</td>\n",
              "      <td>Carroll Baker</td>\n",
              "      <td>34075</td>\n",
              "      <td>NaN</td>\n",
              "    </tr>\n",
              "    <tr>\n",
              "      <th>997</th>\n",
              "      <td>From Here to Eternity</td>\n",
              "      <td>1953</td>\n",
              "      <td>Passed</td>\n",
              "      <td>118 min</td>\n",
              "      <td>Drama, Romance, War</td>\n",
              "      <td>7.6</td>\n",
              "      <td>In Hawaii in 1941, a private is cruelly punish...</td>\n",
              "      <td>85.0</td>\n",
              "      <td>Fred Zinnemann</td>\n",
              "      <td>Burt Lancaster</td>\n",
              "      <td>Montgomery Clift</td>\n",
              "      <td>Deborah Kerr</td>\n",
              "      <td>Donna Reed</td>\n",
              "      <td>43374</td>\n",
              "      <td>30,500,000</td>\n",
              "    </tr>\n",
              "    <tr>\n",
              "      <th>998</th>\n",
              "      <td>Lifeboat</td>\n",
              "      <td>1944</td>\n",
              "      <td>NaN</td>\n",
              "      <td>97 min</td>\n",
              "      <td>Drama, War</td>\n",
              "      <td>7.6</td>\n",
              "      <td>Several survivors of a torpedoed merchant ship...</td>\n",
              "      <td>78.0</td>\n",
              "      <td>Alfred Hitchcock</td>\n",
              "      <td>Tallulah Bankhead</td>\n",
              "      <td>John Hodiak</td>\n",
              "      <td>Walter Slezak</td>\n",
              "      <td>William Bendix</td>\n",
              "      <td>26471</td>\n",
              "      <td>NaN</td>\n",
              "    </tr>\n",
              "    <tr>\n",
              "      <th>999</th>\n",
              "      <td>The 39 Steps</td>\n",
              "      <td>1935</td>\n",
              "      <td>NaN</td>\n",
              "      <td>86 min</td>\n",
              "      <td>Crime, Mystery, Thriller</td>\n",
              "      <td>7.6</td>\n",
              "      <td>A man in London tries to help a counter-espion...</td>\n",
              "      <td>93.0</td>\n",
              "      <td>Alfred Hitchcock</td>\n",
              "      <td>Robert Donat</td>\n",
              "      <td>Madeleine Carroll</td>\n",
              "      <td>Lucie Mannheim</td>\n",
              "      <td>Godfrey Tearle</td>\n",
              "      <td>51853</td>\n",
              "      <td>NaN</td>\n",
              "    </tr>\n",
              "  </tbody>\n",
              "</table>\n",
              "<p>1000 rows × 15 columns</p>\n",
              "</div>\n",
              "      <button class=\"colab-df-convert\" onclick=\"convertToInteractive('df-905890f2-0d5e-4ee2-b714-d77e10bc88d6')\"\n",
              "              title=\"Convert this dataframe to an interactive table.\"\n",
              "              style=\"display:none;\">\n",
              "        \n",
              "  <svg xmlns=\"http://www.w3.org/2000/svg\" height=\"24px\"viewBox=\"0 0 24 24\"\n",
              "       width=\"24px\">\n",
              "    <path d=\"M0 0h24v24H0V0z\" fill=\"none\"/>\n",
              "    <path d=\"M18.56 5.44l.94 2.06.94-2.06 2.06-.94-2.06-.94-.94-2.06-.94 2.06-2.06.94zm-11 1L8.5 8.5l.94-2.06 2.06-.94-2.06-.94L8.5 2.5l-.94 2.06-2.06.94zm10 10l.94 2.06.94-2.06 2.06-.94-2.06-.94-.94-2.06-.94 2.06-2.06.94z\"/><path d=\"M17.41 7.96l-1.37-1.37c-.4-.4-.92-.59-1.43-.59-.52 0-1.04.2-1.43.59L10.3 9.45l-7.72 7.72c-.78.78-.78 2.05 0 2.83L4 21.41c.39.39.9.59 1.41.59.51 0 1.02-.2 1.41-.59l7.78-7.78 2.81-2.81c.8-.78.8-2.07 0-2.86zM5.41 20L4 18.59l7.72-7.72 1.47 1.35L5.41 20z\"/>\n",
              "  </svg>\n",
              "      </button>\n",
              "      \n",
              "  <style>\n",
              "    .colab-df-container {\n",
              "      display:flex;\n",
              "      flex-wrap:wrap;\n",
              "      gap: 12px;\n",
              "    }\n",
              "\n",
              "    .colab-df-convert {\n",
              "      background-color: #E8F0FE;\n",
              "      border: none;\n",
              "      border-radius: 50%;\n",
              "      cursor: pointer;\n",
              "      display: none;\n",
              "      fill: #1967D2;\n",
              "      height: 32px;\n",
              "      padding: 0 0 0 0;\n",
              "      width: 32px;\n",
              "    }\n",
              "\n",
              "    .colab-df-convert:hover {\n",
              "      background-color: #E2EBFA;\n",
              "      box-shadow: 0px 1px 2px rgba(60, 64, 67, 0.3), 0px 1px 3px 1px rgba(60, 64, 67, 0.15);\n",
              "      fill: #174EA6;\n",
              "    }\n",
              "\n",
              "    [theme=dark] .colab-df-convert {\n",
              "      background-color: #3B4455;\n",
              "      fill: #D2E3FC;\n",
              "    }\n",
              "\n",
              "    [theme=dark] .colab-df-convert:hover {\n",
              "      background-color: #434B5C;\n",
              "      box-shadow: 0px 1px 3px 1px rgba(0, 0, 0, 0.15);\n",
              "      filter: drop-shadow(0px 1px 2px rgba(0, 0, 0, 0.3));\n",
              "      fill: #FFFFFF;\n",
              "    }\n",
              "  </style>\n",
              "\n",
              "      <script>\n",
              "        const buttonEl =\n",
              "          document.querySelector('#df-905890f2-0d5e-4ee2-b714-d77e10bc88d6 button.colab-df-convert');\n",
              "        buttonEl.style.display =\n",
              "          google.colab.kernel.accessAllowed ? 'block' : 'none';\n",
              "\n",
              "        async function convertToInteractive(key) {\n",
              "          const element = document.querySelector('#df-905890f2-0d5e-4ee2-b714-d77e10bc88d6');\n",
              "          const dataTable =\n",
              "            await google.colab.kernel.invokeFunction('convertToInteractive',\n",
              "                                                     [key], {});\n",
              "          if (!dataTable) return;\n",
              "\n",
              "          const docLinkHtml = 'Like what you see? Visit the ' +\n",
              "            '<a target=\"_blank\" href=https://colab.research.google.com/notebooks/data_table.ipynb>data table notebook</a>'\n",
              "            + ' to learn more about interactive tables.';\n",
              "          element.innerHTML = '';\n",
              "          dataTable['output_type'] = 'display_data';\n",
              "          await google.colab.output.renderOutput(dataTable, element);\n",
              "          const docLink = document.createElement('div');\n",
              "          docLink.innerHTML = docLinkHtml;\n",
              "          element.appendChild(docLink);\n",
              "        }\n",
              "      </script>\n",
              "    </div>\n",
              "  </div>\n",
              "  "
            ]
          },
          "metadata": {},
          "execution_count": 89
        }
      ]
    },
    {
      "cell_type": "markdown",
      "source": [
        "Set the 'Series_Title' column as the index of dataframe"
      ],
      "metadata": {
        "id": "ss6QYp4YRrfY"
      }
    },
    {
      "cell_type": "code",
      "source": [
        "movies.set_index('Series_Title')"
      ],
      "metadata": {
        "id": "iXNaEmTkR3tB",
        "outputId": "b4570c23-caca-47a9-fa81-5c6a3522a904",
        "colab": {
          "base_uri": "https://localhost:8080/",
          "height": 1000
        }
      },
      "execution_count": null,
      "outputs": [
        {
          "output_type": "execute_result",
          "data": {
            "text/plain": [
              "                                                                Poster_Link  \\\n",
              "Series_Title                                                                  \n",
              "The Shawshank Redemption  https://m.media-amazon.com/images/M/MV5BMDFkYT...   \n",
              "The Godfather             https://m.media-amazon.com/images/M/MV5BM2MyNj...   \n",
              "The Dark Knight           https://m.media-amazon.com/images/M/MV5BMTMxNT...   \n",
              "The Godfather: Part II    https://m.media-amazon.com/images/M/MV5BMWMwMG...   \n",
              "12 Angry Men              https://m.media-amazon.com/images/M/MV5BMWU4N2...   \n",
              "...                                                                     ...   \n",
              "Breakfast at Tiffany's    https://m.media-amazon.com/images/M/MV5BNGEwMT...   \n",
              "Giant                     https://m.media-amazon.com/images/M/MV5BODk3Yj...   \n",
              "From Here to Eternity     https://m.media-amazon.com/images/M/MV5BM2U3Yz...   \n",
              "Lifeboat                  https://m.media-amazon.com/images/M/MV5BZTBmMj...   \n",
              "The 39 Steps              https://m.media-amazon.com/images/M/MV5BMTY5OD...   \n",
              "\n",
              "                         Released_Year Certificate  Runtime  \\\n",
              "Series_Title                                                  \n",
              "The Shawshank Redemption          1994           A  142 min   \n",
              "The Godfather                     1972           A  175 min   \n",
              "The Dark Knight                   2008          UA  152 min   \n",
              "The Godfather: Part II            1974           A  202 min   \n",
              "12 Angry Men                      1957           U   96 min   \n",
              "...                                ...         ...      ...   \n",
              "Breakfast at Tiffany's            1961           A  115 min   \n",
              "Giant                             1956           G  201 min   \n",
              "From Here to Eternity             1953      Passed  118 min   \n",
              "Lifeboat                          1944         NaN   97 min   \n",
              "The 39 Steps                      1935         NaN   86 min   \n",
              "\n",
              "                                             Genre  IMDB_Rating  \\\n",
              "Series_Title                                                      \n",
              "The Shawshank Redemption                     Drama          9.3   \n",
              "The Godfather                         Crime, Drama          9.2   \n",
              "The Dark Knight               Action, Crime, Drama          9.0   \n",
              "The Godfather: Part II                Crime, Drama          9.0   \n",
              "12 Angry Men                          Crime, Drama          9.0   \n",
              "...                                            ...          ...   \n",
              "Breakfast at Tiffany's      Comedy, Drama, Romance          7.6   \n",
              "Giant                               Drama, Western          7.6   \n",
              "From Here to Eternity          Drama, Romance, War          7.6   \n",
              "Lifeboat                                Drama, War          7.6   \n",
              "The 39 Steps              Crime, Mystery, Thriller          7.6   \n",
              "\n",
              "                                                                   Overview  \\\n",
              "Series_Title                                                                  \n",
              "The Shawshank Redemption  Two imprisoned men bond over a number of years...   \n",
              "The Godfather             An organized crime dynasty's aging patriarch t...   \n",
              "The Dark Knight           When the menace known as the Joker wreaks havo...   \n",
              "The Godfather: Part II    The early life and career of Vito Corleone in ...   \n",
              "12 Angry Men              A jury holdout attempts to prevent a miscarria...   \n",
              "...                                                                     ...   \n",
              "Breakfast at Tiffany's    A young New York socialite becomes interested ...   \n",
              "Giant                     Sprawling epic covering the life of a Texas ca...   \n",
              "From Here to Eternity     In Hawaii in 1941, a private is cruelly punish...   \n",
              "Lifeboat                  Several survivors of a torpedoed merchant ship...   \n",
              "The 39 Steps              A man in London tries to help a counter-espion...   \n",
              "\n",
              "                          Meta_score              Director              Star1  \\\n",
              "Series_Title                                                                    \n",
              "The Shawshank Redemption        80.0        Frank Darabont        Tim Robbins   \n",
              "The Godfather                  100.0  Francis Ford Coppola      Marlon Brando   \n",
              "The Dark Knight                 84.0     Christopher Nolan     Christian Bale   \n",
              "The Godfather: Part II          90.0  Francis Ford Coppola          Al Pacino   \n",
              "12 Angry Men                    96.0          Sidney Lumet        Henry Fonda   \n",
              "...                              ...                   ...                ...   \n",
              "Breakfast at Tiffany's          76.0         Blake Edwards     Audrey Hepburn   \n",
              "Giant                           84.0        George Stevens   Elizabeth Taylor   \n",
              "From Here to Eternity           85.0        Fred Zinnemann     Burt Lancaster   \n",
              "Lifeboat                        78.0      Alfred Hitchcock  Tallulah Bankhead   \n",
              "The 39 Steps                    93.0      Alfred Hitchcock       Robert Donat   \n",
              "\n",
              "                                      Star2           Star3           Star4  \\\n",
              "Series_Title                                                                  \n",
              "The Shawshank Redemption     Morgan Freeman      Bob Gunton  William Sadler   \n",
              "The Godfather                     Al Pacino      James Caan    Diane Keaton   \n",
              "The Dark Knight                Heath Ledger   Aaron Eckhart   Michael Caine   \n",
              "The Godfather: Part II       Robert De Niro   Robert Duvall    Diane Keaton   \n",
              "12 Angry Men                    Lee J. Cobb   Martin Balsam    John Fiedler   \n",
              "...                                     ...             ...             ...   \n",
              "Breakfast at Tiffany's       George Peppard   Patricia Neal     Buddy Ebsen   \n",
              "Giant                           Rock Hudson      James Dean   Carroll Baker   \n",
              "From Here to Eternity      Montgomery Clift    Deborah Kerr      Donna Reed   \n",
              "Lifeboat                        John Hodiak   Walter Slezak  William Bendix   \n",
              "The 39 Steps              Madeleine Carroll  Lucie Mannheim  Godfrey Tearle   \n",
              "\n",
              "                          No_of_Votes        Gross  \n",
              "Series_Title                                        \n",
              "The Shawshank Redemption      2343110   28,341,469  \n",
              "The Godfather                 1620367  134,966,411  \n",
              "The Dark Knight               2303232  534,858,444  \n",
              "The Godfather: Part II        1129952   57,300,000  \n",
              "12 Angry Men                   689845    4,360,000  \n",
              "...                               ...          ...  \n",
              "Breakfast at Tiffany's         166544          NaN  \n",
              "Giant                           34075          NaN  \n",
              "From Here to Eternity           43374   30,500,000  \n",
              "Lifeboat                        26471          NaN  \n",
              "The 39 Steps                    51853          NaN  \n",
              "\n",
              "[1000 rows x 15 columns]"
            ],
            "text/html": [
              "\n",
              "  <div id=\"df-93a369d7-c331-4e95-8320-7312802625ba\">\n",
              "    <div class=\"colab-df-container\">\n",
              "      <div>\n",
              "<style scoped>\n",
              "    .dataframe tbody tr th:only-of-type {\n",
              "        vertical-align: middle;\n",
              "    }\n",
              "\n",
              "    .dataframe tbody tr th {\n",
              "        vertical-align: top;\n",
              "    }\n",
              "\n",
              "    .dataframe thead th {\n",
              "        text-align: right;\n",
              "    }\n",
              "</style>\n",
              "<table border=\"1\" class=\"dataframe\">\n",
              "  <thead>\n",
              "    <tr style=\"text-align: right;\">\n",
              "      <th></th>\n",
              "      <th>Poster_Link</th>\n",
              "      <th>Released_Year</th>\n",
              "      <th>Certificate</th>\n",
              "      <th>Runtime</th>\n",
              "      <th>Genre</th>\n",
              "      <th>IMDB_Rating</th>\n",
              "      <th>Overview</th>\n",
              "      <th>Meta_score</th>\n",
              "      <th>Director</th>\n",
              "      <th>Star1</th>\n",
              "      <th>Star2</th>\n",
              "      <th>Star3</th>\n",
              "      <th>Star4</th>\n",
              "      <th>No_of_Votes</th>\n",
              "      <th>Gross</th>\n",
              "    </tr>\n",
              "    <tr>\n",
              "      <th>Series_Title</th>\n",
              "      <th></th>\n",
              "      <th></th>\n",
              "      <th></th>\n",
              "      <th></th>\n",
              "      <th></th>\n",
              "      <th></th>\n",
              "      <th></th>\n",
              "      <th></th>\n",
              "      <th></th>\n",
              "      <th></th>\n",
              "      <th></th>\n",
              "      <th></th>\n",
              "      <th></th>\n",
              "      <th></th>\n",
              "      <th></th>\n",
              "    </tr>\n",
              "  </thead>\n",
              "  <tbody>\n",
              "    <tr>\n",
              "      <th>The Shawshank Redemption</th>\n",
              "      <td>https://m.media-amazon.com/images/M/MV5BMDFkYT...</td>\n",
              "      <td>1994</td>\n",
              "      <td>A</td>\n",
              "      <td>142 min</td>\n",
              "      <td>Drama</td>\n",
              "      <td>9.3</td>\n",
              "      <td>Two imprisoned men bond over a number of years...</td>\n",
              "      <td>80.0</td>\n",
              "      <td>Frank Darabont</td>\n",
              "      <td>Tim Robbins</td>\n",
              "      <td>Morgan Freeman</td>\n",
              "      <td>Bob Gunton</td>\n",
              "      <td>William Sadler</td>\n",
              "      <td>2343110</td>\n",
              "      <td>28,341,469</td>\n",
              "    </tr>\n",
              "    <tr>\n",
              "      <th>The Godfather</th>\n",
              "      <td>https://m.media-amazon.com/images/M/MV5BM2MyNj...</td>\n",
              "      <td>1972</td>\n",
              "      <td>A</td>\n",
              "      <td>175 min</td>\n",
              "      <td>Crime, Drama</td>\n",
              "      <td>9.2</td>\n",
              "      <td>An organized crime dynasty's aging patriarch t...</td>\n",
              "      <td>100.0</td>\n",
              "      <td>Francis Ford Coppola</td>\n",
              "      <td>Marlon Brando</td>\n",
              "      <td>Al Pacino</td>\n",
              "      <td>James Caan</td>\n",
              "      <td>Diane Keaton</td>\n",
              "      <td>1620367</td>\n",
              "      <td>134,966,411</td>\n",
              "    </tr>\n",
              "    <tr>\n",
              "      <th>The Dark Knight</th>\n",
              "      <td>https://m.media-amazon.com/images/M/MV5BMTMxNT...</td>\n",
              "      <td>2008</td>\n",
              "      <td>UA</td>\n",
              "      <td>152 min</td>\n",
              "      <td>Action, Crime, Drama</td>\n",
              "      <td>9.0</td>\n",
              "      <td>When the menace known as the Joker wreaks havo...</td>\n",
              "      <td>84.0</td>\n",
              "      <td>Christopher Nolan</td>\n",
              "      <td>Christian Bale</td>\n",
              "      <td>Heath Ledger</td>\n",
              "      <td>Aaron Eckhart</td>\n",
              "      <td>Michael Caine</td>\n",
              "      <td>2303232</td>\n",
              "      <td>534,858,444</td>\n",
              "    </tr>\n",
              "    <tr>\n",
              "      <th>The Godfather: Part II</th>\n",
              "      <td>https://m.media-amazon.com/images/M/MV5BMWMwMG...</td>\n",
              "      <td>1974</td>\n",
              "      <td>A</td>\n",
              "      <td>202 min</td>\n",
              "      <td>Crime, Drama</td>\n",
              "      <td>9.0</td>\n",
              "      <td>The early life and career of Vito Corleone in ...</td>\n",
              "      <td>90.0</td>\n",
              "      <td>Francis Ford Coppola</td>\n",
              "      <td>Al Pacino</td>\n",
              "      <td>Robert De Niro</td>\n",
              "      <td>Robert Duvall</td>\n",
              "      <td>Diane Keaton</td>\n",
              "      <td>1129952</td>\n",
              "      <td>57,300,000</td>\n",
              "    </tr>\n",
              "    <tr>\n",
              "      <th>12 Angry Men</th>\n",
              "      <td>https://m.media-amazon.com/images/M/MV5BMWU4N2...</td>\n",
              "      <td>1957</td>\n",
              "      <td>U</td>\n",
              "      <td>96 min</td>\n",
              "      <td>Crime, Drama</td>\n",
              "      <td>9.0</td>\n",
              "      <td>A jury holdout attempts to prevent a miscarria...</td>\n",
              "      <td>96.0</td>\n",
              "      <td>Sidney Lumet</td>\n",
              "      <td>Henry Fonda</td>\n",
              "      <td>Lee J. Cobb</td>\n",
              "      <td>Martin Balsam</td>\n",
              "      <td>John Fiedler</td>\n",
              "      <td>689845</td>\n",
              "      <td>4,360,000</td>\n",
              "    </tr>\n",
              "    <tr>\n",
              "      <th>...</th>\n",
              "      <td>...</td>\n",
              "      <td>...</td>\n",
              "      <td>...</td>\n",
              "      <td>...</td>\n",
              "      <td>...</td>\n",
              "      <td>...</td>\n",
              "      <td>...</td>\n",
              "      <td>...</td>\n",
              "      <td>...</td>\n",
              "      <td>...</td>\n",
              "      <td>...</td>\n",
              "      <td>...</td>\n",
              "      <td>...</td>\n",
              "      <td>...</td>\n",
              "      <td>...</td>\n",
              "    </tr>\n",
              "    <tr>\n",
              "      <th>Breakfast at Tiffany's</th>\n",
              "      <td>https://m.media-amazon.com/images/M/MV5BNGEwMT...</td>\n",
              "      <td>1961</td>\n",
              "      <td>A</td>\n",
              "      <td>115 min</td>\n",
              "      <td>Comedy, Drama, Romance</td>\n",
              "      <td>7.6</td>\n",
              "      <td>A young New York socialite becomes interested ...</td>\n",
              "      <td>76.0</td>\n",
              "      <td>Blake Edwards</td>\n",
              "      <td>Audrey Hepburn</td>\n",
              "      <td>George Peppard</td>\n",
              "      <td>Patricia Neal</td>\n",
              "      <td>Buddy Ebsen</td>\n",
              "      <td>166544</td>\n",
              "      <td>NaN</td>\n",
              "    </tr>\n",
              "    <tr>\n",
              "      <th>Giant</th>\n",
              "      <td>https://m.media-amazon.com/images/M/MV5BODk3Yj...</td>\n",
              "      <td>1956</td>\n",
              "      <td>G</td>\n",
              "      <td>201 min</td>\n",
              "      <td>Drama, Western</td>\n",
              "      <td>7.6</td>\n",
              "      <td>Sprawling epic covering the life of a Texas ca...</td>\n",
              "      <td>84.0</td>\n",
              "      <td>George Stevens</td>\n",
              "      <td>Elizabeth Taylor</td>\n",
              "      <td>Rock Hudson</td>\n",
              "      <td>James Dean</td>\n",
              "      <td>Carroll Baker</td>\n",
              "      <td>34075</td>\n",
              "      <td>NaN</td>\n",
              "    </tr>\n",
              "    <tr>\n",
              "      <th>From Here to Eternity</th>\n",
              "      <td>https://m.media-amazon.com/images/M/MV5BM2U3Yz...</td>\n",
              "      <td>1953</td>\n",
              "      <td>Passed</td>\n",
              "      <td>118 min</td>\n",
              "      <td>Drama, Romance, War</td>\n",
              "      <td>7.6</td>\n",
              "      <td>In Hawaii in 1941, a private is cruelly punish...</td>\n",
              "      <td>85.0</td>\n",
              "      <td>Fred Zinnemann</td>\n",
              "      <td>Burt Lancaster</td>\n",
              "      <td>Montgomery Clift</td>\n",
              "      <td>Deborah Kerr</td>\n",
              "      <td>Donna Reed</td>\n",
              "      <td>43374</td>\n",
              "      <td>30,500,000</td>\n",
              "    </tr>\n",
              "    <tr>\n",
              "      <th>Lifeboat</th>\n",
              "      <td>https://m.media-amazon.com/images/M/MV5BZTBmMj...</td>\n",
              "      <td>1944</td>\n",
              "      <td>NaN</td>\n",
              "      <td>97 min</td>\n",
              "      <td>Drama, War</td>\n",
              "      <td>7.6</td>\n",
              "      <td>Several survivors of a torpedoed merchant ship...</td>\n",
              "      <td>78.0</td>\n",
              "      <td>Alfred Hitchcock</td>\n",
              "      <td>Tallulah Bankhead</td>\n",
              "      <td>John Hodiak</td>\n",
              "      <td>Walter Slezak</td>\n",
              "      <td>William Bendix</td>\n",
              "      <td>26471</td>\n",
              "      <td>NaN</td>\n",
              "    </tr>\n",
              "    <tr>\n",
              "      <th>The 39 Steps</th>\n",
              "      <td>https://m.media-amazon.com/images/M/MV5BMTY5OD...</td>\n",
              "      <td>1935</td>\n",
              "      <td>NaN</td>\n",
              "      <td>86 min</td>\n",
              "      <td>Crime, Mystery, Thriller</td>\n",
              "      <td>7.6</td>\n",
              "      <td>A man in London tries to help a counter-espion...</td>\n",
              "      <td>93.0</td>\n",
              "      <td>Alfred Hitchcock</td>\n",
              "      <td>Robert Donat</td>\n",
              "      <td>Madeleine Carroll</td>\n",
              "      <td>Lucie Mannheim</td>\n",
              "      <td>Godfrey Tearle</td>\n",
              "      <td>51853</td>\n",
              "      <td>NaN</td>\n",
              "    </tr>\n",
              "  </tbody>\n",
              "</table>\n",
              "<p>1000 rows × 15 columns</p>\n",
              "</div>\n",
              "      <button class=\"colab-df-convert\" onclick=\"convertToInteractive('df-93a369d7-c331-4e95-8320-7312802625ba')\"\n",
              "              title=\"Convert this dataframe to an interactive table.\"\n",
              "              style=\"display:none;\">\n",
              "        \n",
              "  <svg xmlns=\"http://www.w3.org/2000/svg\" height=\"24px\"viewBox=\"0 0 24 24\"\n",
              "       width=\"24px\">\n",
              "    <path d=\"M0 0h24v24H0V0z\" fill=\"none\"/>\n",
              "    <path d=\"M18.56 5.44l.94 2.06.94-2.06 2.06-.94-2.06-.94-.94-2.06-.94 2.06-2.06.94zm-11 1L8.5 8.5l.94-2.06 2.06-.94-2.06-.94L8.5 2.5l-.94 2.06-2.06.94zm10 10l.94 2.06.94-2.06 2.06-.94-2.06-.94-.94-2.06-.94 2.06-2.06.94z\"/><path d=\"M17.41 7.96l-1.37-1.37c-.4-.4-.92-.59-1.43-.59-.52 0-1.04.2-1.43.59L10.3 9.45l-7.72 7.72c-.78.78-.78 2.05 0 2.83L4 21.41c.39.39.9.59 1.41.59.51 0 1.02-.2 1.41-.59l7.78-7.78 2.81-2.81c.8-.78.8-2.07 0-2.86zM5.41 20L4 18.59l7.72-7.72 1.47 1.35L5.41 20z\"/>\n",
              "  </svg>\n",
              "      </button>\n",
              "      \n",
              "  <style>\n",
              "    .colab-df-container {\n",
              "      display:flex;\n",
              "      flex-wrap:wrap;\n",
              "      gap: 12px;\n",
              "    }\n",
              "\n",
              "    .colab-df-convert {\n",
              "      background-color: #E8F0FE;\n",
              "      border: none;\n",
              "      border-radius: 50%;\n",
              "      cursor: pointer;\n",
              "      display: none;\n",
              "      fill: #1967D2;\n",
              "      height: 32px;\n",
              "      padding: 0 0 0 0;\n",
              "      width: 32px;\n",
              "    }\n",
              "\n",
              "    .colab-df-convert:hover {\n",
              "      background-color: #E2EBFA;\n",
              "      box-shadow: 0px 1px 2px rgba(60, 64, 67, 0.3), 0px 1px 3px 1px rgba(60, 64, 67, 0.15);\n",
              "      fill: #174EA6;\n",
              "    }\n",
              "\n",
              "    [theme=dark] .colab-df-convert {\n",
              "      background-color: #3B4455;\n",
              "      fill: #D2E3FC;\n",
              "    }\n",
              "\n",
              "    [theme=dark] .colab-df-convert:hover {\n",
              "      background-color: #434B5C;\n",
              "      box-shadow: 0px 1px 3px 1px rgba(0, 0, 0, 0.15);\n",
              "      filter: drop-shadow(0px 1px 2px rgba(0, 0, 0, 0.3));\n",
              "      fill: #FFFFFF;\n",
              "    }\n",
              "  </style>\n",
              "\n",
              "      <script>\n",
              "        const buttonEl =\n",
              "          document.querySelector('#df-93a369d7-c331-4e95-8320-7312802625ba button.colab-df-convert');\n",
              "        buttonEl.style.display =\n",
              "          google.colab.kernel.accessAllowed ? 'block' : 'none';\n",
              "\n",
              "        async function convertToInteractive(key) {\n",
              "          const element = document.querySelector('#df-93a369d7-c331-4e95-8320-7312802625ba');\n",
              "          const dataTable =\n",
              "            await google.colab.kernel.invokeFunction('convertToInteractive',\n",
              "                                                     [key], {});\n",
              "          if (!dataTable) return;\n",
              "\n",
              "          const docLinkHtml = 'Like what you see? Visit the ' +\n",
              "            '<a target=\"_blank\" href=https://colab.research.google.com/notebooks/data_table.ipynb>data table notebook</a>'\n",
              "            + ' to learn more about interactive tables.';\n",
              "          element.innerHTML = '';\n",
              "          dataTable['output_type'] = 'display_data';\n",
              "          await google.colab.output.renderOutput(dataTable, element);\n",
              "          const docLink = document.createElement('div');\n",
              "          docLink.innerHTML = docLinkHtml;\n",
              "          element.appendChild(docLink);\n",
              "        }\n",
              "      </script>\n",
              "    </div>\n",
              "  </div>\n",
              "  "
            ]
          },
          "metadata": {},
          "execution_count": 90
        }
      ]
    },
    {
      "cell_type": "markdown",
      "source": [
        "Print a list of all the unique Genre"
      ],
      "metadata": {
        "id": "f6cj49w0R4PS"
      }
    },
    {
      "cell_type": "code",
      "source": [
        "lst = pd.unique(movies['Genre'])\n",
        "print(lst)"
      ],
      "metadata": {
        "id": "CO4kbBsySVjr",
        "outputId": "550c5941-0e3e-42a2-b2d1-cb93e8c076c2",
        "colab": {
          "base_uri": "https://localhost:8080/"
        }
      },
      "execution_count": null,
      "outputs": [
        {
          "output_type": "stream",
          "name": "stdout",
          "text": [
            "['Drama' 'Crime, Drama' 'Action, Crime, Drama' 'Action, Adventure, Drama'\n",
            " 'Biography, Drama, History' 'Action, Adventure, Sci-Fi' 'Drama, Romance'\n",
            " 'Western' 'Action, Sci-Fi' 'Biography, Crime, Drama'\n",
            " 'Action, Adventure, Fantasy' 'Comedy, Drama, Thriller'\n",
            " 'Adventure, Drama, Sci-Fi' 'Animation, Adventure, Family' 'Drama, War'\n",
            " 'Crime, Drama, Fantasy' 'Comedy, Drama, Romance' 'Crime, Drama, Mystery'\n",
            " 'Crime, Drama, Thriller' 'Action, Drama, Mystery'\n",
            " 'Drama, Family, Fantasy' 'Drama, Music' 'Biography, Comedy, Drama'\n",
            " 'Drama, Mystery, Sci-Fi' 'Biography, Drama, Music'\n",
            " 'Crime, Mystery, Thriller' 'Animation, Adventure, Drama'\n",
            " 'Animation, Drama, War' 'Adventure, Comedy, Sci-Fi'\n",
            " 'Horror, Mystery, Thriller' 'Drama, Romance, War' 'Comedy, Drama, Family'\n",
            " 'Animation, Drama, Fantasy' 'Action, Biography, Drama'\n",
            " 'Animation, Action, Adventure' 'Drama, Western' 'Action, Adventure'\n",
            " 'Comedy, Drama' 'Drama, Family' 'Drama, Mystery, Thriller'\n",
            " 'Mystery, Thriller' 'Drama, Horror' 'Drama, Mystery, War'\n",
            " 'Horror, Sci-Fi' 'Drama, Musical' 'Comedy' 'Drama, Film-Noir'\n",
            " 'Comedy, Drama, War' 'Drama, Thriller, War' 'Drama, Fantasy, Horror'\n",
            " 'Crime, Drama, Music' 'Adventure, Drama, War' 'Drama, Romance, Sci-Fi'\n",
            " 'Comedy, Romance' 'Comedy, Crime' 'Drama, Family, Sport'\n",
            " 'Animation, Adventure, Comedy' 'Adventure, Drama, Thriller'\n",
            " 'Comedy, Crime, Drama' 'Crime, Drama, Sci-Fi' 'Adventure, Sci-Fi'\n",
            " 'Adventure, Biography, Drama' 'Adventure, Mystery, Thriller'\n",
            " 'Mystery, Romance, Thriller' 'Comedy, Musical, Romance'\n",
            " 'Crime, Drama, Film-Noir' 'Drama, Mystery' 'Drama, Sci-Fi'\n",
            " 'Action, Drama, War' 'Action, Drama' 'Adventure, Comedy, Drama'\n",
            " 'Biography, Drama, Sport' 'Action, Comedy, Crime'\n",
            " 'Action, Biography, Crime' 'Drama, Mystery, Romance'\n",
            " 'Action, Drama, Sport' 'Drama, Fantasy, War' 'Action, Drama, Sci-Fi'\n",
            " 'Biography, Drama' 'Action, Comedy, Romance' 'Animation, Family, Fantasy'\n",
            " 'Action, Thriller' 'Action, Adventure, Comedy'\n",
            " 'Adventure, Comedy, Fantasy' 'Adventure, Drama, History'\n",
            " 'Action, Drama, Thriller' 'Comedy, Music, Romance'\n",
            " 'Drama, Fantasy, History' 'Crime, Thriller' 'Adventure, Drama, Western'\n",
            " 'Comedy, War' 'Drama, Thriller' 'Animation, Drama, Family'\n",
            " 'Drama, Romance, Thriller' 'Comedy, Drama, Musical'\n",
            " 'Comedy, Drama, Fantasy' 'Adventure, Comedy, Crime'\n",
            " 'Adventure, Drama, Fantasy' 'Biography, Drama, Family'\n",
            " 'Animation, Comedy, Drama' 'Drama, Sport' 'Animation, Action, Drama'\n",
            " 'Adventure, Drama, Musical' 'Drama, Music, Romance'\n",
            " 'Comedy, Crime, Romance' 'Comedy, Crime, Sport' 'Drama, History, Romance'\n",
            " 'Adventure, Drama' 'Animation, Adventure, Fantasy'\n",
            " 'Horror, Mystery, Sci-Fi' 'Drama, Fantasy, Music'\n",
            " 'Action, Sci-Fi, Thriller' 'Drama, Fantasy' 'Drama, Horror, Thriller'\n",
            " 'Drama, History' 'Film-Noir, Mystery, Thriller'\n",
            " 'Fantasy, Horror, Mystery' 'Action, Crime, Thriller'\n",
            " 'Comedy, Drama, Music' 'Biography, Drama, Thriller'\n",
            " 'Animation, Biography, Drama' 'Action, Mystery, Thriller'\n",
            " 'Crime, Drama, Romance' 'Action, Adventure, Thriller'\n",
            " 'Crime, Drama, Musical' 'Animation, Crime, Mystery'\n",
            " 'Action, Crime, Comedy' 'Mystery, Sci-Fi, Thriller'\n",
            " 'Animation, Action, Crime' 'Comedy, Fantasy, Romance'\n",
            " 'Drama, History, Thriller' 'Animation, Action, Sci-Fi'\n",
            " 'Adventure, Family, Fantasy' 'Drama, Fantasy, Romance'\n",
            " 'Drama, History, War' 'Adventure, Thriller' 'Horror'\n",
            " 'Drama, Family, Musical' 'Action, Drama, Western' 'Crime, Drama, Horror'\n",
            " 'Drama, Film-Noir, Mystery' 'Comedy, Crime, Thriller'\n",
            " 'Film-Noir, Mystery' 'Comedy, Crime, Mystery' 'Drama, Fantasy, Mystery'\n",
            " 'Comedy, Horror' 'Action, Adventure, History' 'Drama, Music, Mystery'\n",
            " 'Comedy, Music' 'Comedy, Family' 'Drama, Music, Musical'\n",
            " 'Action, Adventure, Horror' 'Action, Adventure, Biography'\n",
            " 'Biography, Drama, War' 'Action, Adventure, Western' 'Horror, Thriller'\n",
            " 'Comedy, Mystery, Romance' 'Drama, Thriller, Western'\n",
            " 'Crime, Film-Noir, Thriller' 'Drama, Film-Noir, Romance'\n",
            " 'Crime, Film-Noir, Mystery' 'Action, Adventure, Romance'\n",
            " 'Comedy, Music, Musical' 'Adventure, Horror, Sci-Fi' 'Fantasy, Horror'\n",
            " 'Action, Drama, History' 'Adventure, Comedy, Family'\n",
            " 'Animation, Biography, Crime' 'Adventure, Biography, Crime'\n",
            " 'Adventure, Fantasy' 'Drama, History, Mystery' 'Action, Comedy, Mystery'\n",
            " 'Adventure, Drama, Romance' 'Drama, Sci-Fi, Thriller'\n",
            " 'Crime, Drama, History' 'Action, Comedy, Fantasy' 'Family, Sci-Fi'\n",
            " 'Adventure, History, War' 'Animation, Sci-Fi' 'Family, Fantasy, Musical'\n",
            " 'Thriller' 'Comedy, Family, Fantasy' 'Adventure, Comedy, Film-Noir'\n",
            " 'Film-Noir, Thriller' 'Comedy, Family, Romance' 'Drama, Horror, Sci-Fi'\n",
            " 'Comedy, Musical, War' 'Biography, Drama, Romance'\n",
            " 'Drama, History, Music' 'Animation, Action, Fantasy'\n",
            " 'Animation, Comedy, Fantasy' 'Comedy, Western' 'Action, Adventure, War'\n",
            " 'Drama, Horror, Mystery' 'Animation, Comedy, Crime'\n",
            " 'Action, Adventure, Crime' 'Action, Adventure, Mystery'\n",
            " 'Action, Adventure, Family' 'Action, Crime, Mystery'\n",
            " 'Animation, Drama, Romance' 'Drama, War, Western'\n",
            " 'Adventure, Comedy, War']\n"
          ]
        }
      ]
    },
    {
      "cell_type": "markdown",
      "source": [
        "1. What is the Number of Directors in the given dataset ?"
      ],
      "metadata": {
        "id": "Dfj_ZoVBS97W"
      }
    },
    {
      "cell_type": "code",
      "source": [
        "len(pd.unique(movies['Director']))"
      ],
      "metadata": {
        "id": "92f8NLciTIU_",
        "outputId": "795203d0-2361-4737-a64c-592264954a2a",
        "colab": {
          "base_uri": "https://localhost:8080/"
        }
      },
      "execution_count": null,
      "outputs": [
        {
          "output_type": "execute_result",
          "data": {
            "text/plain": [
              "548"
            ]
          },
          "metadata": {},
          "execution_count": 92
        }
      ]
    },
    {
      "cell_type": "markdown",
      "source": [
        "2. What is the mean, median and standard deviation of IMDB rating in the dataset ?"
      ],
      "metadata": {
        "id": "5UnvBViyTOc9"
      }
    },
    {
      "cell_type": "code",
      "source": [
        "movies.IMDB_Rating.describe()"
      ],
      "metadata": {
        "id": "sOL7O83LTg30",
        "outputId": "84359f25-3b69-491f-8689-a8ddb8b95c51",
        "colab": {
          "base_uri": "https://localhost:8080/"
        }
      },
      "execution_count": null,
      "outputs": [
        {
          "output_type": "execute_result",
          "data": {
            "text/plain": [
              "count    1000.000000\n",
              "mean        7.949300\n",
              "std         0.275491\n",
              "min         7.600000\n",
              "25%         7.700000\n",
              "50%         7.900000\n",
              "75%         8.100000\n",
              "max         9.300000\n",
              "Name: IMDB_Rating, dtype: float64"
            ]
          },
          "metadata": {},
          "execution_count": 93
        }
      ]
    },
    {
      "cell_type": "code",
      "source": [
        "movies.IMDB_Rating.median()"
      ],
      "metadata": {
        "id": "Rb3QAo8vnOb_",
        "outputId": "637df029-fc7d-4350-c916-a1b29fb20bcf",
        "colab": {
          "base_uri": "https://localhost:8080/"
        }
      },
      "execution_count": null,
      "outputs": [
        {
          "output_type": "execute_result",
          "data": {
            "text/plain": [
              "7.9"
            ]
          },
          "metadata": {},
          "execution_count": 94
        }
      ]
    },
    {
      "cell_type": "code",
      "source": [
        "movies.IMDB_Rating.mean()"
      ],
      "metadata": {
        "id": "3wN9aQponVim",
        "outputId": "a3c6555d-56f1-4fac-be0e-9d0a0b95fd1e",
        "colab": {
          "base_uri": "https://localhost:8080/"
        }
      },
      "execution_count": null,
      "outputs": [
        {
          "output_type": "execute_result",
          "data": {
            "text/plain": [
              "7.949299999999999"
            ]
          },
          "metadata": {},
          "execution_count": 95
        }
      ]
    },
    {
      "cell_type": "code",
      "source": [
        "movies.IMDB_Rating.std()"
      ],
      "metadata": {
        "id": "IAljZQYJnWAO",
        "outputId": "ee148799-93ae-4fb6-c1a5-a73c316c3126",
        "colab": {
          "base_uri": "https://localhost:8080/"
        }
      },
      "execution_count": null,
      "outputs": [
        {
          "output_type": "execute_result",
          "data": {
            "text/plain": [
              "0.2754912074920095"
            ]
          },
          "metadata": {},
          "execution_count": 96
        }
      ]
    },
    {
      "cell_type": "markdown",
      "source": [
        "3. Which director has directed the most number of movies?"
      ],
      "metadata": {
        "id": "d_k1zoajTxyx"
      }
    },
    {
      "cell_type": "code",
      "source": [
        "\n",
        "movies.Director.value_counts().sort_values(ascending = False).head(1)"
      ],
      "metadata": {
        "id": "-gvnNqSsT88L",
        "outputId": "1407c205-b62f-4bde-8a2a-c272c1237963",
        "colab": {
          "base_uri": "https://localhost:8080/"
        }
      },
      "execution_count": null,
      "outputs": [
        {
          "output_type": "execute_result",
          "data": {
            "text/plain": [
              "Alfred Hitchcock    14\n",
              "Name: Director, dtype: int64"
            ]
          },
          "metadata": {},
          "execution_count": 97
        }
      ]
    },
    {
      "cell_type": "markdown",
      "source": [
        "4. Name the Movie which has the highest Runtime ?"
      ],
      "metadata": {
        "id": "zGHeeFZnT-yx"
      }
    },
    {
      "cell_type": "code",
      "source": [
        "movies.Runtime.str.replace('min', ' ').astype(int).sort_values().tail(1)"
      ],
      "metadata": {
        "id": "-1BAOzXoUKL1",
        "outputId": "c7c76443-3f1c-4e61-e808-9e49ef70536c",
        "colab": {
          "base_uri": "https://localhost:8080/"
        }
      },
      "execution_count": null,
      "outputs": [
        {
          "output_type": "execute_result",
          "data": {
            "text/plain": [
              "140    321\n",
              "Name: Runtime, dtype: int64"
            ]
          },
          "metadata": {},
          "execution_count": 98
        }
      ]
    },
    {
      "cell_type": "markdown",
      "source": [
        "5. How many movies are released after year 2000 and have IMDB rating > 8.5 ?"
      ],
      "metadata": {
        "id": "ast-zD1gULUS"
      }
    },
    {
      "cell_type": "code",
      "source": [
        "df2=movies[(movies['Released_Year'] >'2000') & (movies['IMDB_Rating']>8.5)]"
      ],
      "metadata": {
        "id": "2SA7L3G-VLom"
      },
      "execution_count": null,
      "outputs": []
    },
    {
      "cell_type": "code",
      "source": [
        "df2.shape[0]"
      ],
      "metadata": {
        "id": "TSZqJL0S8C_C",
        "outputId": "25e22e1b-a117-402e-96e5-b00844b32ddc",
        "colab": {
          "base_uri": "https://localhost:8080/"
        }
      },
      "execution_count": null,
      "outputs": [
        {
          "output_type": "execute_result",
          "data": {
            "text/plain": [
              "11"
            ]
          },
          "metadata": {},
          "execution_count": 100
        }
      ]
    },
    {
      "cell_type": "markdown",
      "source": [
        "Using seaborn make different types of plots, observe the trend and answer the questions.\n",
        "6. Make a countplot of Movies directed by top 5 directors."
      ],
      "metadata": {
        "id": "jYq9gv3aUl1u"
      }
    },
    {
      "cell_type": "code",
      "source": [
        "sns.countplot(x = 'Director', data = movies)"
      ],
      "metadata": {
        "id": "WOYH5X29ViUR",
        "outputId": "f58672fd-3c9c-4034-f6bb-32fd2a438dea",
        "colab": {
          "base_uri": "https://localhost:8080/",
          "height": 467
        }
      },
      "execution_count": null,
      "outputs": [
        {
          "output_type": "execute_result",
          "data": {
            "text/plain": [
              "<Axes: xlabel='Director', ylabel='count'>"
            ]
          },
          "metadata": {},
          "execution_count": 101
        },
        {
          "output_type": "display_data",
          "data": {
            "text/plain": [
              "<Figure size 640x480 with 1 Axes>"
            ],
            "image/png": "[encoded data removed]"
          },
          "metadata": {}
        }
      ]
    },
    {
      "cell_type": "code",
      "source": [
        "dire = movies.Director.value_counts().sort_values(ascending = False).head(5)\n",
        "type(dire)"
      ],
      "metadata": {
        "id": "J6HgwhphqjVk",
        "outputId": "f9dd410b-20f6-4170-b26e-2ea0459215e5",
        "colab": {
          "base_uri": "https://localhost:8080/"
        }
      },
      "execution_count": null,
      "outputs": [
        {
          "output_type": "execute_result",
          "data": {
            "text/plain": [
              "pandas.core.series.Series"
            ]
          },
          "metadata": {},
          "execution_count": 102
        }
      ]
    },
    {
      "cell_type": "code",
      "source": [
        "dire1 = dire.to_frame()\n",
        "dire1"
      ],
      "metadata": {
        "id": "EQp_t5arsM4T",
        "outputId": "e8fe60f0-3db9-46f8-b063-9fdaf7fd0fca",
        "colab": {
          "base_uri": "https://localhost:8080/",
          "height": 206
        }
      },
      "execution_count": null,
      "outputs": [
        {
          "output_type": "execute_result",
          "data": {
            "text/plain": [
              "                  Director\n",
              "Alfred Hitchcock        14\n",
              "Steven Spielberg        13\n",
              "Hayao Miyazaki          11\n",
              "Martin Scorsese         10\n",
              "Akira Kurosawa          10"
            ],
            "text/html": [
              "\n",
              "  <div id=\"df-2606c0b3-ff09-4235-80de-97c83114638c\">\n",
              "    <div class=\"colab-df-container\">\n",
              "      <div>\n",
              "<style scoped>\n",
              "    .dataframe tbody tr th:only-of-type {\n",
              "        vertical-align: middle;\n",
              "    }\n",
              "\n",
              "    .dataframe tbody tr th {\n",
              "        vertical-align: top;\n",
              "    }\n",
              "\n",
              "    .dataframe thead th {\n",
              "        text-align: right;\n",
              "    }\n",
              "</style>\n",
              "<table border=\"1\" class=\"dataframe\">\n",
              "  <thead>\n",
              "    <tr style=\"text-align: right;\">\n",
              "      <th></th>\n",
              "      <th>Director</th>\n",
              "    </tr>\n",
              "  </thead>\n",
              "  <tbody>\n",
              "    <tr>\n",
              "      <th>Alfred Hitchcock</th>\n",
              "      <td>14</td>\n",
              "    </tr>\n",
              "    <tr>\n",
              "      <th>Steven Spielberg</th>\n",
              "      <td>13</td>\n",
              "    </tr>\n",
              "    <tr>\n",
              "      <th>Hayao Miyazaki</th>\n",
              "      <td>11</td>\n",
              "    </tr>\n",
              "    <tr>\n",
              "      <th>Martin Scorsese</th>\n",
              "      <td>10</td>\n",
              "    </tr>\n",
              "    <tr>\n",
              "      <th>Akira Kurosawa</th>\n",
              "      <td>10</td>\n",
              "    </tr>\n",
              "  </tbody>\n",
              "</table>\n",
              "</div>\n",
              "      <button class=\"colab-df-convert\" onclick=\"convertToInteractive('df-2606c0b3-ff09-4235-80de-97c83114638c')\"\n",
              "              title=\"Convert this dataframe to an interactive table.\"\n",
              "              style=\"display:none;\">\n",
              "        \n",
              "  <svg xmlns=\"http://www.w3.org/2000/svg\" height=\"24px\"viewBox=\"0 0 24 24\"\n",
              "       width=\"24px\">\n",
              "    <path d=\"M0 0h24v24H0V0z\" fill=\"none\"/>\n",
              "    <path d=\"M18.56 5.44l.94 2.06.94-2.06 2.06-.94-2.06-.94-.94-2.06-.94 2.06-2.06.94zm-11 1L8.5 8.5l.94-2.06 2.06-.94-2.06-.94L8.5 2.5l-.94 2.06-2.06.94zm10 10l.94 2.06.94-2.06 2.06-.94-2.06-.94-.94-2.06-.94 2.06-2.06.94z\"/><path d=\"M17.41 7.96l-1.37-1.37c-.4-.4-.92-.59-1.43-.59-.52 0-1.04.2-1.43.59L10.3 9.45l-7.72 7.72c-.78.78-.78 2.05 0 2.83L4 21.41c.39.39.9.59 1.41.59.51 0 1.02-.2 1.41-.59l7.78-7.78 2.81-2.81c.8-.78.8-2.07 0-2.86zM5.41 20L4 18.59l7.72-7.72 1.47 1.35L5.41 20z\"/>\n",
              "  </svg>\n",
              "      </button>\n",
              "      \n",
              "  <style>\n",
              "    .colab-df-container {\n",
              "      display:flex;\n",
              "      flex-wrap:wrap;\n",
              "      gap: 12px;\n",
              "    }\n",
              "\n",
              "    .colab-df-convert {\n",
              "      background-color: #E8F0FE;\n",
              "      border: none;\n",
              "      border-radius: 50%;\n",
              "      cursor: pointer;\n",
              "      display: none;\n",
              "      fill: #1967D2;\n",
              "      height: 32px;\n",
              "      padding: 0 0 0 0;\n",
              "      width: 32px;\n",
              "    }\n",
              "\n",
              "    .colab-df-convert:hover {\n",
              "      background-color: #E2EBFA;\n",
              "      box-shadow: 0px 1px 2px rgba(60, 64, 67, 0.3), 0px 1px 3px 1px rgba(60, 64, 67, 0.15);\n",
              "      fill: #174EA6;\n",
              "    }\n",
              "\n",
              "    [theme=dark] .colab-df-convert {\n",
              "      background-color: #3B4455;\n",
              "      fill: #D2E3FC;\n",
              "    }\n",
              "\n",
              "    [theme=dark] .colab-df-convert:hover {\n",
              "      background-color: #434B5C;\n",
              "      box-shadow: 0px 1px 3px 1px rgba(0, 0, 0, 0.15);\n",
              "      filter: drop-shadow(0px 1px 2px rgba(0, 0, 0, 0.3));\n",
              "      fill: #FFFFFF;\n",
              "    }\n",
              "  </style>\n",
              "\n",
              "      <script>\n",
              "        const buttonEl =\n",
              "          document.querySelector('#df-2606c0b3-ff09-4235-80de-97c83114638c button.colab-df-convert');\n",
              "        buttonEl.style.display =\n",
              "          google.colab.kernel.accessAllowed ? 'block' : 'none';\n",
              "\n",
              "        async function convertToInteractive(key) {\n",
              "          const element = document.querySelector('#df-2606c0b3-ff09-4235-80de-97c83114638c');\n",
              "          const dataTable =\n",
              "            await google.colab.kernel.invokeFunction('convertToInteractive',\n",
              "                                                     [key], {});\n",
              "          if (!dataTable) return;\n",
              "\n",
              "          const docLinkHtml = 'Like what you see? Visit the ' +\n",
              "            '<a target=\"_blank\" href=https://colab.research.google.com/notebooks/data_table.ipynb>data table notebook</a>'\n",
              "            + ' to learn more about interactive tables.';\n",
              "          element.innerHTML = '';\n",
              "          dataTable['output_type'] = 'display_data';\n",
              "          await google.colab.output.renderOutput(dataTable, element);\n",
              "          const docLink = document.createElement('div');\n",
              "          docLink.innerHTML = docLinkHtml;\n",
              "          element.appendChild(docLink);\n",
              "        }\n",
              "      </script>\n",
              "    </div>\n",
              "  </div>\n",
              "  "
            ]
          },
          "metadata": {},
          "execution_count": 103
        }
      ]
    },
    {
      "cell_type": "code",
      "source": [
        "dire1"
      ],
      "metadata": {
        "id": "VdIPOAn2tNPk",
        "outputId": "216b09e7-9a36-4afb-bd7b-e48df91ebd6c",
        "colab": {
          "base_uri": "https://localhost:8080/",
          "height": 206
        }
      },
      "execution_count": null,
      "outputs": [
        {
          "output_type": "execute_result",
          "data": {
            "text/plain": [
              "                  Director\n",
              "Alfred Hitchcock        14\n",
              "Steven Spielberg        13\n",
              "Hayao Miyazaki          11\n",
              "Martin Scorsese         10\n",
              "Akira Kurosawa          10"
            ],
            "text/html": [
              "\n",
              "  <div id=\"df-ff5e069e-ad2b-46ed-9c11-a092884efabc\">\n",
              "    <div class=\"colab-df-container\">\n",
              "      <div>\n",
              "<style scoped>\n",
              "    .dataframe tbody tr th:only-of-type {\n",
              "        vertical-align: middle;\n",
              "    }\n",
              "\n",
              "    .dataframe tbody tr th {\n",
              "        vertical-align: top;\n",
              "    }\n",
              "\n",
              "    .dataframe thead th {\n",
              "        text-align: right;\n",
              "    }\n",
              "</style>\n",
              "<table border=\"1\" class=\"dataframe\">\n",
              "  <thead>\n",
              "    <tr style=\"text-align: right;\">\n",
              "      <th></th>\n",
              "      <th>Director</th>\n",
              "    </tr>\n",
              "  </thead>\n",
              "  <tbody>\n",
              "    <tr>\n",
              "      <th>Alfred Hitchcock</th>\n",
              "      <td>14</td>\n",
              "    </tr>\n",
              "    <tr>\n",
              "      <th>Steven Spielberg</th>\n",
              "      <td>13</td>\n",
              "    </tr>\n",
              "    <tr>\n",
              "      <th>Hayao Miyazaki</th>\n",
              "      <td>11</td>\n",
              "    </tr>\n",
              "    <tr>\n",
              "      <th>Martin Scorsese</th>\n",
              "      <td>10</td>\n",
              "    </tr>\n",
              "    <tr>\n",
              "      <th>Akira Kurosawa</th>\n",
              "      <td>10</td>\n",
              "    </tr>\n",
              "  </tbody>\n",
              "</table>\n",
              "</div>\n",
              "      <button class=\"colab-df-convert\" onclick=\"convertToInteractive('df-ff5e069e-ad2b-46ed-9c11-a092884efabc')\"\n",
              "              title=\"Convert this dataframe to an interactive table.\"\n",
              "              style=\"display:none;\">\n",
              "        \n",
              "  <svg xmlns=\"http://www.w3.org/2000/svg\" height=\"24px\"viewBox=\"0 0 24 24\"\n",
              "       width=\"24px\">\n",
              "    <path d=\"M0 0h24v24H0V0z\" fill=\"none\"/>\n",
              "    <path d=\"M18.56 5.44l.94 2.06.94-2.06 2.06-.94-2.06-.94-.94-2.06-.94 2.06-2.06.94zm-11 1L8.5 8.5l.94-2.06 2.06-.94-2.06-.94L8.5 2.5l-.94 2.06-2.06.94zm10 10l.94 2.06.94-2.06 2.06-.94-2.06-.94-.94-2.06-.94 2.06-2.06.94z\"/><path d=\"M17.41 7.96l-1.37-1.37c-.4-.4-.92-.59-1.43-.59-.52 0-1.04.2-1.43.59L10.3 9.45l-7.72 7.72c-.78.78-.78 2.05 0 2.83L4 21.41c.39.39.9.59 1.41.59.51 0 1.02-.2 1.41-.59l7.78-7.78 2.81-2.81c.8-.78.8-2.07 0-2.86zM5.41 20L4 18.59l7.72-7.72 1.47 1.35L5.41 20z\"/>\n",
              "  </svg>\n",
              "      </button>\n",
              "      \n",
              "  <style>\n",
              "    .colab-df-container {\n",
              "      display:flex;\n",
              "      flex-wrap:wrap;\n",
              "      gap: 12px;\n",
              "    }\n",
              "\n",
              "    .colab-df-convert {\n",
              "      background-color: #E8F0FE;\n",
              "      border: none;\n",
              "      border-radius: 50%;\n",
              "      cursor: pointer;\n",
              "      display: none;\n",
              "      fill: #1967D2;\n",
              "      height: 32px;\n",
              "      padding: 0 0 0 0;\n",
              "      width: 32px;\n",
              "    }\n",
              "\n",
              "    .colab-df-convert:hover {\n",
              "      background-color: #E2EBFA;\n",
              "      box-shadow: 0px 1px 2px rgba(60, 64, 67, 0.3), 0px 1px 3px 1px rgba(60, 64, 67, 0.15);\n",
              "      fill: #174EA6;\n",
              "    }\n",
              "\n",
              "    [theme=dark] .colab-df-convert {\n",
              "      background-color: #3B4455;\n",
              "      fill: #D2E3FC;\n",
              "    }\n",
              "\n",
              "    [theme=dark] .colab-df-convert:hover {\n",
              "      background-color: #434B5C;\n",
              "      box-shadow: 0px 1px 3px 1px rgba(0, 0, 0, 0.15);\n",
              "      filter: drop-shadow(0px 1px 2px rgba(0, 0, 0, 0.3));\n",
              "      fill: #FFFFFF;\n",
              "    }\n",
              "  </style>\n",
              "\n",
              "      <script>\n",
              "        const buttonEl =\n",
              "          document.querySelector('#df-ff5e069e-ad2b-46ed-9c11-a092884efabc button.colab-df-convert');\n",
              "        buttonEl.style.display =\n",
              "          google.colab.kernel.accessAllowed ? 'block' : 'none';\n",
              "\n",
              "        async function convertToInteractive(key) {\n",
              "          const element = document.querySelector('#df-ff5e069e-ad2b-46ed-9c11-a092884efabc');\n",
              "          const dataTable =\n",
              "            await google.colab.kernel.invokeFunction('convertToInteractive',\n",
              "                                                     [key], {});\n",
              "          if (!dataTable) return;\n",
              "\n",
              "          const docLinkHtml = 'Like what you see? Visit the ' +\n",
              "            '<a target=\"_blank\" href=https://colab.research.google.com/notebooks/data_table.ipynb>data table notebook</a>'\n",
              "            + ' to learn more about interactive tables.';\n",
              "          element.innerHTML = '';\n",
              "          dataTable['output_type'] = 'display_data';\n",
              "          await google.colab.output.renderOutput(dataTable, element);\n",
              "          const docLink = document.createElement('div');\n",
              "          docLink.innerHTML = docLinkHtml;\n",
              "          element.appendChild(docLink);\n",
              "        }\n",
              "      </script>\n",
              "    </div>\n",
              "  </div>\n",
              "  "
            ]
          },
          "metadata": {},
          "execution_count": 104
        }
      ]
    },
    {
      "cell_type": "code",
      "source": [
        "%matplotlib inline"
      ],
      "metadata": {
        "id": "JhZNEekbtdlI"
      },
      "execution_count": null,
      "outputs": []
    },
    {
      "cell_type": "code",
      "source": [
        "dire1.plot(kind = 'bar')"
      ],
      "metadata": {
        "id": "C71apsvFt_8H",
        "outputId": "805d137b-9824-4cd7-d8d3-9a53265f6807",
        "colab": {
          "base_uri": "https://localhost:8080/",
          "height": 551
        }
      },
      "execution_count": null,
      "outputs": [
        {
          "output_type": "execute_result",
          "data": {
            "text/plain": [
              "<Axes: >"
            ]
          },
          "metadata": {},
          "execution_count": 106
        },
        {
          "output_type": "display_data",
          "data": {
            "text/plain": [
              "<Figure size 640x480 with 1 Axes>"
            ],
            "image/png": "[encoded data removed]"
          },
          "metadata": {}
        }
      ]
    },
    {
      "cell_type": "markdown",
      "source": [
        "7. Make a plot to analyze distribution of IMDB rating?"
      ],
      "metadata": {
        "id": "caUYiLeHVjIf"
      }
    },
    {
      "cell_type": "code",
      "source": [
        "movies"
      ],
      "metadata": {
        "id": "c12iHvlLV9PR",
        "outputId": "f72fda42-e61f-4bee-f518-4220aaedb836",
        "colab": {
          "base_uri": "https://localhost:8080/",
          "height": 1000
        }
      },
      "execution_count": null,
      "outputs": [
        {
          "output_type": "execute_result",
          "data": {
            "text/plain": [
              "                                           Poster_Link  \\\n",
              "0    https://m.media-amazon.com/images/M/MV5BMDFkYT...   \n",
              "1    https://m.media-amazon.com/images/M/MV5BM2MyNj...   \n",
              "2    https://m.media-amazon.com/images/M/MV5BMTMxNT...   \n",
              "3    https://m.media-amazon.com/images/M/MV5BMWMwMG...   \n",
              "4    https://m.media-amazon.com/images/M/MV5BMWU4N2...   \n",
              "..                                                 ...   \n",
              "995  https://m.media-amazon.com/images/M/MV5BNGEwMT...   \n",
              "996  https://m.media-amazon.com/images/M/MV5BODk3Yj...   \n",
              "997  https://m.media-amazon.com/images/M/MV5BM2U3Yz...   \n",
              "998  https://m.media-amazon.com/images/M/MV5BZTBmMj...   \n",
              "999  https://m.media-amazon.com/images/M/MV5BMTY5OD...   \n",
              "\n",
              "                 Series_Title Released_Year Certificate  Runtime  \\\n",
              "0    The Shawshank Redemption          1994           A  142 min   \n",
              "1               The Godfather          1972           A  175 min   \n",
              "2             The Dark Knight          2008          UA  152 min   \n",
              "3      The Godfather: Part II          1974           A  202 min   \n",
              "4                12 Angry Men          1957           U   96 min   \n",
              "..                        ...           ...         ...      ...   \n",
              "995    Breakfast at Tiffany's          1961           A  115 min   \n",
              "996                     Giant          1956           G  201 min   \n",
              "997     From Here to Eternity          1953      Passed  118 min   \n",
              "998                  Lifeboat          1944         NaN   97 min   \n",
              "999              The 39 Steps          1935         NaN   86 min   \n",
              "\n",
              "                        Genre  IMDB_Rating  \\\n",
              "0                       Drama          9.3   \n",
              "1                Crime, Drama          9.2   \n",
              "2        Action, Crime, Drama          9.0   \n",
              "3                Crime, Drama          9.0   \n",
              "4                Crime, Drama          9.0   \n",
              "..                        ...          ...   \n",
              "995    Comedy, Drama, Romance          7.6   \n",
              "996            Drama, Western          7.6   \n",
              "997       Drama, Romance, War          7.6   \n",
              "998                Drama, War          7.6   \n",
              "999  Crime, Mystery, Thriller          7.6   \n",
              "\n",
              "                                              Overview  Meta_score  \\\n",
              "0    Two imprisoned men bond over a number of years...        80.0   \n",
              "1    An organized crime dynasty's aging patriarch t...       100.0   \n",
              "2    When the menace known as the Joker wreaks havo...        84.0   \n",
              "3    The early life and career of Vito Corleone in ...        90.0   \n",
              "4    A jury holdout attempts to prevent a miscarria...        96.0   \n",
              "..                                                 ...         ...   \n",
              "995  A young New York socialite becomes interested ...        76.0   \n",
              "996  Sprawling epic covering the life of a Texas ca...        84.0   \n",
              "997  In Hawaii in 1941, a private is cruelly punish...        85.0   \n",
              "998  Several survivors of a torpedoed merchant ship...        78.0   \n",
              "999  A man in London tries to help a counter-espion...        93.0   \n",
              "\n",
              "                 Director              Star1              Star2  \\\n",
              "0          Frank Darabont        Tim Robbins     Morgan Freeman   \n",
              "1    Francis Ford Coppola      Marlon Brando          Al Pacino   \n",
              "2       Christopher Nolan     Christian Bale       Heath Ledger   \n",
              "3    Francis Ford Coppola          Al Pacino     Robert De Niro   \n",
              "4            Sidney Lumet        Henry Fonda        Lee J. Cobb   \n",
              "..                    ...                ...                ...   \n",
              "995         Blake Edwards     Audrey Hepburn     George Peppard   \n",
              "996        George Stevens   Elizabeth Taylor        Rock Hudson   \n",
              "997        Fred Zinnemann     Burt Lancaster   Montgomery Clift   \n",
              "998      Alfred Hitchcock  Tallulah Bankhead        John Hodiak   \n",
              "999      Alfred Hitchcock       Robert Donat  Madeleine Carroll   \n",
              "\n",
              "              Star3           Star4  No_of_Votes        Gross  \n",
              "0        Bob Gunton  William Sadler      2343110   28,341,469  \n",
              "1        James Caan    Diane Keaton      1620367  134,966,411  \n",
              "2     Aaron Eckhart   Michael Caine      2303232  534,858,444  \n",
              "3     Robert Duvall    Diane Keaton      1129952   57,300,000  \n",
              "4     Martin Balsam    John Fiedler       689845    4,360,000  \n",
              "..              ...             ...          ...          ...  \n",
              "995   Patricia Neal     Buddy Ebsen       166544          NaN  \n",
              "996      James Dean   Carroll Baker        34075          NaN  \n",
              "997    Deborah Kerr      Donna Reed        43374   30,500,000  \n",
              "998   Walter Slezak  William Bendix        26471          NaN  \n",
              "999  Lucie Mannheim  Godfrey Tearle        51853          NaN  \n",
              "\n",
              "[1000 rows x 16 columns]"
            ],
            "text/html": [
              "\n",
              "  <div id=\"df-b8c1fa21-b11a-40db-97f5-0c22f29db14b\">\n",
              "    <div class=\"colab-df-container\">\n",
              "      <div>\n",
              "<style scoped>\n",
              "    .dataframe tbody tr th:only-of-type {\n",
              "        vertical-align: middle;\n",
              "    }\n",
              "\n",
              "    .dataframe tbody tr th {\n",
              "        vertical-align: top;\n",
              "    }\n",
              "\n",
              "    .dataframe thead th {\n",
              "        text-align: right;\n",
              "    }\n",
              "</style>\n",
              "<table border=\"1\" class=\"dataframe\">\n",
              "  <thead>\n",
              "    <tr style=\"text-align: right;\">\n",
              "      <th></th>\n",
              "      <th>Poster_Link</th>\n",
              "      <th>Series_Title</th>\n",
              "      <th>Released_Year</th>\n",
              "      <th>Certificate</th>\n",
              "      <th>Runtime</th>\n",
              "      <th>Genre</th>\n",
              "      <th>IMDB_Rating</th>\n",
              "      <th>Overview</th>\n",
              "      <th>Meta_score</th>\n",
              "      <th>Director</th>\n",
              "      <th>Star1</th>\n",
              "      <th>Star2</th>\n",
              "      <th>Star3</th>\n",
              "      <th>Star4</th>\n",
              "      <th>No_of_Votes</th>\n",
              "      <th>Gross</th>\n",
              "    </tr>\n",
              "  </thead>\n",
              "  <tbody>\n",
              "    <tr>\n",
              "      <th>0</th>\n",
              "      <td>https://m.media-amazon.com/images/M/MV5BMDFkYT...</td>\n",
              "      <td>The Shawshank Redemption</td>\n",
              "      <td>1994</td>\n",
              "      <td>A</td>\n",
              "      <td>142 min</td>\n",
              "      <td>Drama</td>\n",
              "      <td>9.3</td>\n",
              "      <td>Two imprisoned men bond over a number of years...</td>\n",
              "      <td>80.0</td>\n",
              "      <td>Frank Darabont</td>\n",
              "      <td>Tim Robbins</td>\n",
              "      <td>Morgan Freeman</td>\n",
              "      <td>Bob Gunton</td>\n",
              "      <td>William Sadler</td>\n",
              "      <td>2343110</td>\n",
              "      <td>28,341,469</td>\n",
              "    </tr>\n",
              "    <tr>\n",
              "      <th>1</th>\n",
              "      <td>https://m.media-amazon.com/images/M/MV5BM2MyNj...</td>\n",
              "      <td>The Godfather</td>\n",
              "      <td>1972</td>\n",
              "      <td>A</td>\n",
              "      <td>175 min</td>\n",
              "      <td>Crime, Drama</td>\n",
              "      <td>9.2</td>\n",
              "      <td>An organized crime dynasty's aging patriarch t...</td>\n",
              "      <td>100.0</td>\n",
              "      <td>Francis Ford Coppola</td>\n",
              "      <td>Marlon Brando</td>\n",
              "      <td>Al Pacino</td>\n",
              "      <td>James Caan</td>\n",
              "      <td>Diane Keaton</td>\n",
              "      <td>1620367</td>\n",
              "      <td>134,966,411</td>\n",
              "    </tr>\n",
              "    <tr>\n",
              "      <th>2</th>\n",
              "      <td>https://m.media-amazon.com/images/M/MV5BMTMxNT...</td>\n",
              "      <td>The Dark Knight</td>\n",
              "      <td>2008</td>\n",
              "      <td>UA</td>\n",
              "      <td>152 min</td>\n",
              "      <td>Action, Crime, Drama</td>\n",
              "      <td>9.0</td>\n",
              "      <td>When the menace known as the Joker wreaks havo...</td>\n",
              "      <td>84.0</td>\n",
              "      <td>Christopher Nolan</td>\n",
              "      <td>Christian Bale</td>\n",
              "      <td>Heath Ledger</td>\n",
              "      <td>Aaron Eckhart</td>\n",
              "      <td>Michael Caine</td>\n",
              "      <td>2303232</td>\n",
              "      <td>534,858,444</td>\n",
              "    </tr>\n",
              "    <tr>\n",
              "      <th>3</th>\n",
              "      <td>https://m.media-amazon.com/images/M/MV5BMWMwMG...</td>\n",
              "      <td>The Godfather: Part II</td>\n",
              "      <td>1974</td>\n",
              "      <td>A</td>\n",
              "      <td>202 min</td>\n",
              "      <td>Crime, Drama</td>\n",
              "      <td>9.0</td>\n",
              "      <td>The early life and career of Vito Corleone in ...</td>\n",
              "      <td>90.0</td>\n",
              "      <td>Francis Ford Coppola</td>\n",
              "      <td>Al Pacino</td>\n",
              "      <td>Robert De Niro</td>\n",
              "      <td>Robert Duvall</td>\n",
              "      <td>Diane Keaton</td>\n",
              "      <td>1129952</td>\n",
              "      <td>57,300,000</td>\n",
              "    </tr>\n",
              "    <tr>\n",
              "      <th>4</th>\n",
              "      <td>https://m.media-amazon.com/images/M/MV5BMWU4N2...</td>\n",
              "      <td>12 Angry Men</td>\n",
              "      <td>1957</td>\n",
              "      <td>U</td>\n",
              "      <td>96 min</td>\n",
              "      <td>Crime, Drama</td>\n",
              "      <td>9.0</td>\n",
              "      <td>A jury holdout attempts to prevent a miscarria...</td>\n",
              "      <td>96.0</td>\n",
              "      <td>Sidney Lumet</td>\n",
              "      <td>Henry Fonda</td>\n",
              "      <td>Lee J. Cobb</td>\n",
              "      <td>Martin Balsam</td>\n",
              "      <td>John Fiedler</td>\n",
              "      <td>689845</td>\n",
              "      <td>4,360,000</td>\n",
              "    </tr>\n",
              "    <tr>\n",
              "      <th>...</th>\n",
              "      <td>...</td>\n",
              "      <td>...</td>\n",
              "      <td>...</td>\n",
              "      <td>...</td>\n",
              "      <td>...</td>\n",
              "      <td>...</td>\n",
              "      <td>...</td>\n",
              "      <td>...</td>\n",
              "      <td>...</td>\n",
              "      <td>...</td>\n",
              "      <td>...</td>\n",
              "      <td>...</td>\n",
              "      <td>...</td>\n",
              "      <td>...</td>\n",
              "      <td>...</td>\n",
              "      <td>...</td>\n",
              "    </tr>\n",
              "    <tr>\n",
              "      <th>995</th>\n",
              "      <td>https://m.media-amazon.com/images/M/MV5BNGEwMT...</td>\n",
              "      <td>Breakfast at Tiffany's</td>\n",
              "      <td>1961</td>\n",
              "      <td>A</td>\n",
              "      <td>115 min</td>\n",
              "      <td>Comedy, Drama, Romance</td>\n",
              "      <td>7.6</td>\n",
              "      <td>A young New York socialite becomes interested ...</td>\n",
              "      <td>76.0</td>\n",
              "      <td>Blake Edwards</td>\n",
              "      <td>Audrey Hepburn</td>\n",
              "      <td>George Peppard</td>\n",
              "      <td>Patricia Neal</td>\n",
              "      <td>Buddy Ebsen</td>\n",
              "      <td>166544</td>\n",
              "      <td>NaN</td>\n",
              "    </tr>\n",
              "    <tr>\n",
              "      <th>996</th>\n",
              "      <td>https://m.media-amazon.com/images/M/MV5BODk3Yj...</td>\n",
              "      <td>Giant</td>\n",
              "      <td>1956</td>\n",
              "      <td>G</td>\n",
              "      <td>201 min</td>\n",
              "      <td>Drama, Western</td>\n",
              "      <td>7.6</td>\n",
              "      <td>Sprawling epic covering the life of a Texas ca...</td>\n",
              "      <td>84.0</td>\n",
              "      <td>George Stevens</td>\n",
              "      <td>Elizabeth Taylor</td>\n",
              "      <td>Rock Hudson</td>\n",
              "      <td>James Dean</td>\n",
              "      <td>Carroll Baker</td>\n",
              "      <td>34075</td>\n",
              "      <td>NaN</td>\n",
              "    </tr>\n",
              "    <tr>\n",
              "      <th>997</th>\n",
              "      <td>https://m.media-amazon.com/images/M/MV5BM2U3Yz...</td>\n",
              "      <td>From Here to Eternity</td>\n",
              "      <td>1953</td>\n",
              "      <td>Passed</td>\n",
              "      <td>118 min</td>\n",
              "      <td>Drama, Romance, War</td>\n",
              "      <td>7.6</td>\n",
              "      <td>In Hawaii in 1941, a private is cruelly punish...</td>\n",
              "      <td>85.0</td>\n",
              "      <td>Fred Zinnemann</td>\n",
              "      <td>Burt Lancaster</td>\n",
              "      <td>Montgomery Clift</td>\n",
              "      <td>Deborah Kerr</td>\n",
              "      <td>Donna Reed</td>\n",
              "      <td>43374</td>\n",
              "      <td>30,500,000</td>\n",
              "    </tr>\n",
              "    <tr>\n",
              "      <th>998</th>\n",
              "      <td>https://m.media-amazon.com/images/M/MV5BZTBmMj...</td>\n",
              "      <td>Lifeboat</td>\n",
              "      <td>1944</td>\n",
              "      <td>NaN</td>\n",
              "      <td>97 min</td>\n",
              "      <td>Drama, War</td>\n",
              "      <td>7.6</td>\n",
              "      <td>Several survivors of a torpedoed merchant ship...</td>\n",
              "      <td>78.0</td>\n",
              "      <td>Alfred Hitchcock</td>\n",
              "      <td>Tallulah Bankhead</td>\n",
              "      <td>John Hodiak</td>\n",
              "      <td>Walter Slezak</td>\n",
              "      <td>William Bendix</td>\n",
              "      <td>26471</td>\n",
              "      <td>NaN</td>\n",
              "    </tr>\n",
              "    <tr>\n",
              "      <th>999</th>\n",
              "      <td>https://m.media-amazon.com/images/M/MV5BMTY5OD...</td>\n",
              "      <td>The 39 Steps</td>\n",
              "      <td>1935</td>\n",
              "      <td>NaN</td>\n",
              "      <td>86 min</td>\n",
              "      <td>Crime, Mystery, Thriller</td>\n",
              "      <td>7.6</td>\n",
              "      <td>A man in London tries to help a counter-espion...</td>\n",
              "      <td>93.0</td>\n",
              "      <td>Alfred Hitchcock</td>\n",
              "      <td>Robert Donat</td>\n",
              "      <td>Madeleine Carroll</td>\n",
              "      <td>Lucie Mannheim</td>\n",
              "      <td>Godfrey Tearle</td>\n",
              "      <td>51853</td>\n",
              "      <td>NaN</td>\n",
              "    </tr>\n",
              "  </tbody>\n",
              "</table>\n",
              "<p>1000 rows × 16 columns</p>\n",
              "</div>\n",
              "      <button class=\"colab-df-convert\" onclick=\"convertToInteractive('df-b8c1fa21-b11a-40db-97f5-0c22f29db14b')\"\n",
              "              title=\"Convert this dataframe to an interactive table.\"\n",
              "              style=\"display:none;\">\n",
              "        \n",
              "  <svg xmlns=\"http://www.w3.org/2000/svg\" height=\"24px\"viewBox=\"0 0 24 24\"\n",
              "       width=\"24px\">\n",
              "    <path d=\"M0 0h24v24H0V0z\" fill=\"none\"/>\n",
              "    <path d=\"M18.56 5.44l.94 2.06.94-2.06 2.06-.94-2.06-.94-.94-2.06-.94 2.06-2.06.94zm-11 1L8.5 8.5l.94-2.06 2.06-.94-2.06-.94L8.5 2.5l-.94 2.06-2.06.94zm10 10l.94 2.06.94-2.06 2.06-.94-2.06-.94-.94-2.06-.94 2.06-2.06.94z\"/><path d=\"M17.41 7.96l-1.37-1.37c-.4-.4-.92-.59-1.43-.59-.52 0-1.04.2-1.43.59L10.3 9.45l-7.72 7.72c-.78.78-.78 2.05 0 2.83L4 21.41c.39.39.9.59 1.41.59.51 0 1.02-.2 1.41-.59l7.78-7.78 2.81-2.81c.8-.78.8-2.07 0-2.86zM5.41 20L4 18.59l7.72-7.72 1.47 1.35L5.41 20z\"/>\n",
              "  </svg>\n",
              "      </button>\n",
              "      \n",
              "  <style>\n",
              "    .colab-df-container {\n",
              "      display:flex;\n",
              "      flex-wrap:wrap;\n",
              "      gap: 12px;\n",
              "    }\n",
              "\n",
              "    .colab-df-convert {\n",
              "      background-color: #E8F0FE;\n",
              "      border: none;\n",
              "      border-radius: 50%;\n",
              "      cursor: pointer;\n",
              "      display: none;\n",
              "      fill: #1967D2;\n",
              "      height: 32px;\n",
              "      padding: 0 0 0 0;\n",
              "      width: 32px;\n",
              "    }\n",
              "\n",
              "    .colab-df-convert:hover {\n",
              "      background-color: #E2EBFA;\n",
              "      box-shadow: 0px 1px 2px rgba(60, 64, 67, 0.3), 0px 1px 3px 1px rgba(60, 64, 67, 0.15);\n",
              "      fill: #174EA6;\n",
              "    }\n",
              "\n",
              "    [theme=dark] .colab-df-convert {\n",
              "      background-color: #3B4455;\n",
              "      fill: #D2E3FC;\n",
              "    }\n",
              "\n",
              "    [theme=dark] .colab-df-convert:hover {\n",
              "      background-color: #434B5C;\n",
              "      box-shadow: 0px 1px 3px 1px rgba(0, 0, 0, 0.15);\n",
              "      filter: drop-shadow(0px 1px 2px rgba(0, 0, 0, 0.3));\n",
              "      fill: #FFFFFF;\n",
              "    }\n",
              "  </style>\n",
              "\n",
              "      <script>\n",
              "        const buttonEl =\n",
              "          document.querySelector('#df-b8c1fa21-b11a-40db-97f5-0c22f29db14b button.colab-df-convert');\n",
              "        buttonEl.style.display =\n",
              "          google.colab.kernel.accessAllowed ? 'block' : 'none';\n",
              "\n",
              "        async function convertToInteractive(key) {\n",
              "          const element = document.querySelector('#df-b8c1fa21-b11a-40db-97f5-0c22f29db14b');\n",
              "          const dataTable =\n",
              "            await google.colab.kernel.invokeFunction('convertToInteractive',\n",
              "                                                     [key], {});\n",
              "          if (!dataTable) return;\n",
              "\n",
              "          const docLinkHtml = 'Like what you see? Visit the ' +\n",
              "            '<a target=\"_blank\" href=https://colab.research.google.com/notebooks/data_table.ipynb>data table notebook</a>'\n",
              "            + ' to learn more about interactive tables.';\n",
              "          element.innerHTML = '';\n",
              "          dataTable['output_type'] = 'display_data';\n",
              "          await google.colab.output.renderOutput(dataTable, element);\n",
              "          const docLink = document.createElement('div');\n",
              "          docLink.innerHTML = docLinkHtml;\n",
              "          element.appendChild(docLink);\n",
              "        }\n",
              "      </script>\n",
              "    </div>\n",
              "  </div>\n",
              "  "
            ]
          },
          "metadata": {},
          "execution_count": 107
        }
      ]
    },
    {
      "cell_type": "code",
      "source": [
        "movies.reset_index()\n",
        "sns.distplot(movies.IMDB_Rating)"
      ],
      "metadata": {
        "id": "wG2Vmv-rvYhV",
        "outputId": "ff18e01f-b589-4358-c819-030b0c33410d",
        "colab": {
          "base_uri": "https://localhost:8080/",
          "height": 693
        }
      },
      "execution_count": null,
      "outputs": [
        {
          "output_type": "stream",
          "name": "stderr",
          "text": [
            "<ipython-input-108-466dcf434fbc>:2: UserWarning:\n",
            "\n",
            "\n",
            "\n",
            "`distplot` is a deprecated function and will be removed in seaborn v0.14.0.\n",
            "\n",
            "Please adapt your code to use either `displot` (a figure-level function with\n",
            "similar flexibility) or `histplot` (an axes-level function for histograms).\n",
            "\n",
            "For a guide to updating your code to use the new functions, please see\n",
            "https://gist.github.com/mwaskom/de44147ed2974457ad6372750bbe5751\n",
            "\n",
            "\n"
          ]
        },
        {
          "output_type": "execute_result",
          "data": {
            "text/plain": [
              "<Axes: xlabel='IMDB_Rating', ylabel='Density'>"
            ]
          },
          "metadata": {},
          "execution_count": 108
        },
        {
          "output_type": "display_data",
          "data": {
            "text/plain": [
              "<Figure size 640x480 with 1 Axes>"
            ],
            "image/png": "[encoded data removed]"
          },
          "metadata": {}
        }
      ]
    },
    {
      "cell_type": "markdown",
      "source": [
        "8. What type of Genre has the highest IMDB rating?"
      ],
      "metadata": {
        "id": "dXCoPuYlWISU"
      }
    },
    {
      "cell_type": "code",
      "source": [
        "movies.set_index('Genre').IMDB_Rating.sort_values(ascending = False).head(1)"
      ],
      "metadata": {
        "id": "0r9cKE7fWjBU",
        "outputId": "e30a2f05-a939-4daf-b4df-672f0ecd300a",
        "colab": {
          "base_uri": "https://localhost:8080/"
        }
      },
      "execution_count": null,
      "outputs": [
        {
          "output_type": "execute_result",
          "data": {
            "text/plain": [
              "Genre\n",
              "Drama    9.3\n",
              "Name: IMDB_Rating, dtype: float64"
            ]
          },
          "metadata": {},
          "execution_count": 109
        }
      ]
    },
    {
      "cell_type": "markdown",
      "source": [
        "9. Name the top 5 movies that have earned highest Meta score."
      ],
      "metadata": {
        "id": "Ff2urhAhWrHO"
      }
    },
    {
      "cell_type": "code",
      "source": [
        "movies.Meta_score.sort_values(ascending = False).head()"
      ],
      "metadata": {
        "id": "lta342_iWxLd",
        "outputId": "11086aec-b9da-4bb6-95e5-c26ba8c1de9c",
        "colab": {
          "base_uri": "https://localhost:8080/"
        }
      },
      "execution_count": null,
      "outputs": [
        {
          "output_type": "execute_result",
          "data": {
            "text/plain": [
              "440    100.0\n",
              "81     100.0\n",
              "50     100.0\n",
              "260    100.0\n",
              "559    100.0\n",
              "Name: Meta_score, dtype: float64"
            ]
          },
          "metadata": {},
          "execution_count": 110
        }
      ]
    },
    {
      "cell_type": "markdown",
      "source": [
        "10. Of which Genre movie has the highest Runtime?"
      ],
      "metadata": {
        "id": "FPmZIOiwW5Jo"
      }
    },
    {
      "cell_type": "code",
      "source": [
        "movies.set_index('Genre').Runtime.str.replace('min', ' ').astype(int).sort_values(ascending = False).head(1)"
      ],
      "metadata": {
        "id": "R5a1FemoXJuo",
        "outputId": "8c727a75-c5a6-48ca-8584-7d19f6b384ae",
        "colab": {
          "base_uri": "https://localhost:8080/"
        }
      },
      "execution_count": null,
      "outputs": [
        {
          "output_type": "execute_result",
          "data": {
            "text/plain": [
              "Genre\n",
              "Action, Comedy, Crime    321\n",
              "Name: Runtime, dtype: int64"
            ]
          },
          "metadata": {},
          "execution_count": 111
        }
      ]
    },
    {
      "cell_type": "markdown",
      "source": [
        "**Using the knowledge about Plotly that you have  try making plots and analyse the data .Whenever you come across an interesting analysis please show the corresponding plot(using Plotly) and comment down your analysis for the same**"
      ],
      "metadata": {
        "id": "B_NatnajpeBE"
      }
    },
    {
      "cell_type": "code",
      "source": [
        "px.histogram(movies, x= 'Released_Year', nbins=2 ,title = 'No. of movies released in a year' , color_discrete_sequence = ['black'])"
      ],
      "metadata": {
        "id": "oKxHTTf03WiT",
        "outputId": "7e02aa5b-1389-4d16-c4b4-cecdc712cbf0",
        "colab": {
          "base_uri": "https://localhost:8080/",
          "height": 542
        }
      },
      "execution_count": null,
      "outputs": [
        {
          "output_type": "display_data",
          "data": {
            "text/html": [
              "<html>\n",
              "<head><meta charset=\"utf-8\" /></head>\n",
              "<body>\n",
              "    <div>            <script src=\"https://cdnjs.cloudflare.com/ajax/libs/mathjax/2.7.5/MathJax.js?config=TeX-AMS-MML_SVG\"></script><script type=\"text/javascript\">if (window.MathJax && window.MathJax.Hub && window.MathJax.Hub.Config) {window.MathJax.Hub.Config({SVG: {font: \"STIX-Web\"}});}</script>                <script type=\"text/javascript\">window.PlotlyConfig = {MathJaxConfig: 'local'};</script>\n",
              "        <script src=\"https://cdn.plot.ly/plotly-2.18.2.min.js\"></script>                <div id=\"a7c141ef-6bf3-46ee-8a0f-b57b1a55ea87\" class=\"plotly-graph-div\" style=\"height:525px; width:100%;\"></div>            <script type=\"text/javascript\">                                    window.PLOTLYENV=window.PLOTLYENV || {};                                    if (document.getElementById(\"a7c141ef-6bf3-46ee-8a0f-b57b1a55ea87\")) {                    Plotly.newPlot(                        \"a7c141ef-6bf3-46ee-8a0f-b57b1a55ea87\",                        [{\"alignmentgroup\":\"True\",\"bingroup\":\"x\",\"hovertemplate\":\"Released_Year=%{x}<br>count=%{y}<extra></extra>\",\"legendgroup\":\"\",\"marker\":{\"color\":\"black\",\"pattern\":{\"shape\":\"\"}},\"name\":\"\",\"nbinsx\":2,\"offsetgroup\":\"\",\"orientation\":\"v\",\"showlegend\":false,\"x\":[\"1994\",\"1972\",\"2008\",\"1974\",\"1957\",\"2003\",\"1994\",\"1993\",\"2010\",\"1999\",\"2001\",\"1994\",\"1966\",\"2002\",\"1999\",\"1990\",\"1980\",\"1975\",\"2020\",\"2019\",\"2020\",\"2014\",\"2002\",\"2001\",\"1998\",\"1999\",\"1997\",\"1995\",\"1991\",\"1977\",\"1962\",\"1954\",\"1946\",\"2019\",\"2014\",\"2011\",\"2006\",\"2006\",\"2002\",\"2000\",\"1998\",\"1995\",\"1994\",\"1994\",\"1991\",\"1988\",\"1988\",\"1985\",\"1968\",\"1960\",\"1942\",\"1936\",\"1931\",\"2018\",\"2017\",\"2017\",\"2016\",\"2016\",\"2018\",\"2019\",\"2018\",\"2017\",\"2012\",\"2012\",\"2009\",\"2007\",\"2008\",\"2006\",\"2003\",\"2000\",\"1997\",\"1984\",\"1981\",\"1980\",\"1979\",\"1979\",\"1971\",\"1963\",\"1964\",\"1957\",\"1957\",\"1954\",\"1950\",\"1940\",\"2019\",\"2018\",\"2018\",\"2013\",\"2012\",\"2011\",\"2010\",\"2019\",\"2005\",\"2009\",\"2004\",\"2001\",\"2000\",\"2000\",\"1999\",\"1997\",\"1997\",\"1995\",\"1995\",\"1992\",\"1987\",\"1985\",\"1986\",\"1984\",\"1983\",\"1983\",\"1981\",\"1976\",\"1973\",\"1971\",\"1968\",\"1965\",\"1962\",\"1960\",\"1959\",\"1958\",\"1952\",\"1952\",\"1948\",\"1944\",\"1941\",\"1931\",\"1927\",\"1921\",\"2019\",\"2018\",\"2018\",\"2018\",\"2017\",\"2015\",\"2017\",\"2019\",\"2015\",\"2013\",\"2013\",\"2013\",\"2012\",\"2010\",\"2012\",\"2009\",\"2011\",\"2010\",\"2009\",\"2013\",\"2007\",\"2007\",\"2006\",\"2010\",\"2005\",\"2006\",\"2005\",\"2005\",\"2004\",\"2004\",\"2004\",\"2001\",\"2000\",\"1998\",\"1997\",\"1996\",\"1995\",\"1995\",\"1994\",\"1992\",\"1989\",\"1988\",\"1988\",\"1988\",\"1985\",\"1980\",\"1979\",\"1978\",\"1976\",\"1975\",\"1975\",\"1963\",\"1962\",\"1961\",\"1961\",\"1959\",\"1957\",\"1957\",\"1955\",\"1954\",\"1953\",\"1950\",\"1950\",\"1948\",\"1942\",\"1925\",\"1924\",\"2019\",\"2016\",\"2016\",\"2016\",\"2016\",\"2014\",\"2014\",\"2017\",\"2015\",\"2014\",\"2020\",\"2014\",\"2014\",\"2012\",\"2014\",\"2014\",\"2012\",\"2016\",\"2015\",\"2012\",\"2013\",\"2013\",\"2019\",\"2015\",\"2014\",\"2012\",\"2011\",\"2013\",\"2015\",\"2008\",\"2008\",\"2011\",\"2008\",\"2009\",\"2009\",\"2010\",\"2007\",\"2007\",\"2006\",\"2004\",\"2004\",\"2004\",\"2004\",\"2003\",\"2003\",\"2001\",\"2003\",\"2003\",\"2002\",\"2000\",\"2001\",\"1997\",\"2001\",\"1999\",\"1998\",\"1998\",\"1998\",\"1998\",\"2000\",\"1996\",\"1996\",\"1995\",\"1995\",\"1995\",\"1995\",\"1994\",\"1994\",\"1993\",\"1993\",\"1993\",\"1991\",\"1989\",\"1986\",\"1986\",\"1984\",\"1984\",\"1982\",\"1982\",\"1982\",\"1982\",\"1982\",\"1980\",\"1979\",\"1978\",\"1976\",\"1976\",\"1975\",\"1975\",\"1974\",\"1973\",\"1972\",\"1972\",\"1967\",\"1967\",\"1966\",\"1966\",\"1966\",\"1962\",\"1962\",\"1962\",\"1962\",\"1962\",\"1960\",\"1960\",\"1959\",\"1959\",\"1958\",\"1957\",\"1957\",\"1957\",\"1954\",\"1953\",\"1951\",\"1949\",\"1949\",\"1948\",\"1940\",\"1940\",\"1939\",\"1939\",\"1937\",\"1934\",\"1928\",\"1928\",\"1927\",\"1926\",\"1920\",\"2018\",\"2019\",\"2016\",\"2015\",\"2015\",\"2016\",\"2016\",\"2015\",\"2016\",\"2015\",\"2013\",\"2017\",\"2019\",\"2013\",\"2013\",\"2014\",\"2014\",\"2014\",\"2017\",\"2013\",\"2018\",\"2015\",\"2012\",\"2010\",\"2010\",\"2011\",\"2016\",\"2009\",\"2009\",\"2008\",\"2010\",\"2009\",\"2008\",\"2010\",\"2007\",\"2012\",\"2007\",\"2013\",\"2006\",\"2006\",\"2007\",\"2004\",\"2005\",\"2007\",\"2004\",\"2007\",\"2006\",\"2004\",\"2003\",\"2003\",\"2014\",\"2005\",\"2003\",\"2002\",\"2003\",\"2003\",\"2004\",\"2001\",\"2003\",\"2001\",\"2001\",\"1999\",\"2000\",\"1999\",\"1997\",\"1998\",\"1998\",\"1999\",\"1997\",\"1996\",\"1996\",\"1995\",\"1995\",\"1993\",\"1993\",\"1993\",\"1992\",\"1992\",\"1991\",\"1991\",\"1990\",\"1989\",\"1988\",\"1988\",\"1987\",\"1987\",\"1987\",\"1986\",\"1984\",\"1982\",\"1980\",\"1979\",\"1977\",\"1975\",\"1975\",\"1974\",\"1973\",\"1973\",\"1972\",\"1971\",\"1971\",\"1970\",\"1969\",\"1968\",\"1968\",\"1967\",\"1966\",\"1965\",\"1965\",\"1964\",\"1963\",\"1962\",\"1961\",\"1960\",\"1959\",\"1959\",\"1958\",\"1958\",\"1957\",\"1956\",\"1955\",\"1954\",\"1955\",\"1953\",\"1953\",\"1951\",\"1950\",\"1949\",\"1948\",\"1947\",\"1945\",\"1944\",\"1946\",\"1942\",\"1941\",\"1940\",\"1939\",\"1939\",\"1934\",\"1930\",\"1925\",\"2019\",\"2020\",\"2018\",\"2019\",\"2017\",\"2016\",\"2018\",\"2016\",\"2016\",\"2016\",\"2017\",\"2014\",\"2019\",\"2016\",\"2015\",\"2013\",\"2014\",\"2011\",\"2011\",\"2014\",\"2012\",\"2019\",\"2009\",\"2009\",\"2008\",\"2009\",\"2008\",\"2007\",\"2014\",\"2007\",\"2009\",\"2008\",\"2007\",\"2006\",\"2006\",\"2012\",\"2009\",\"2005\",\"2004\",\"2008\",\"2004\",\"2004\",\"2003\",\"2004\",\"2002\",\"2002\",\"2001\",\"2001\",\"2002\",\"2000\",\"2006\",\"2000\",\"2001\",\"1999\",\"1997\",\"1995\",\"1994\",\"1993\",\"1993\",\"1993\",\"1993\",\"1990\",\"1989\",\"1989\",\"1987\",\"1986\",\"1985\",\"1984\",\"1983\",\"1980\",\"1979\",\"1979\",\"1978\",\"1976\",\"1973\",\"1973\",\"1972\",\"1972\",\"1971\",\"1970\",\"1969\",\"1968\",\"1968\",\"1967\",\"1963\",\"1962\",\"1960\",\"1960\",\"1959\",\"1956\",\"1956\",\"1955\",\"1952\",\"1951\",\"1950\",\"1947\",\"1946\",\"1946\",\"1945\",\"1940\",\"1940\",\"1938\",\"1935\",\"1933\",\"1932\",\"1922\",\"2019\",\"2018\",\"2019\",\"2016\",\"2017\",\"2016\",\"2016\",\"2017\",\"2016\",\"2016\",\"2016\",\"2016\",\"2015\",\"2016\",\"2016\",\"2015\",\"2019\",\"2017\",\"2014\",\"2013\",\"2013\",\"2013\",\"2012\",\"2014\",\"2013\",\"2012\",\"2013\",\"2019\",\"2013\",\"2012\",\"2014\",\"2015\",\"2010\",\"2010\",\"2011\",\"2013\",\"2010\",\"2015\",\"2009\",\"2008\",\"2013\",\"2009\",\"2009\",\"2020\",\"2020\",\"2010\",\"2008\",\"2008\",\"2007\",\"2012\",\"2007\",\"2007\",\"2011\",\"2007\",\"2009\",\"2009\",\"2006\",\"2006\",\"2007\",\"2008\",\"2004\",\"2005\",\"2005\",\"2005\",\"2003\",\"2005\",\"2005\",\"2003\",\"2004\",\"2004\",\"2002\",\"2003\",\"2000\",\"2002\",\"2001\",\"2000\",\"2000\",\"1999\",\"2000\",\"1999\",\"1999\",\"1999\",\"2001\",\"1997\",\"1997\",\"1997\",\"1997\",\"1996\",\"1994\",\"1993\",\"1993\",\"1993\",\"1993\",\"1993\",\"1993\",\"1993\",\"1993\",\"1992\",\"1991\",\"1991\",\"1991\",\"1990\",\"1990\",\"1989\",\"1989\",\"1989\",\"1989\",\"1988\",\"1987\",\"1987\",\"1986\",\"1986\",\"1985\",\"1985\",\"1985\",\"1984\",\"1984\",\"1983\",\"1982\",\"1982\",\"1979\",\"1978\",\"1976\",\"1975\",\"1974\",\"1973\",\"1973\",\"1973\",\"1972\",\"1971\",\"1969\",\"1967\",\"1967\",\"1967\",\"1964\",\"1964\",\"1962\",\"1962\",\"1961\",\"1960\",\"1948\",\"1948\",\"1944\",\"1943\",\"1939\",\"1938\",\"1938\",\"1935\",\"1933\",\"1932\",\"1931\",\"2018\",\"2017\",\"2018\",\"2017\",\"2017\",\"2018\",\"2015\",\"2014\",\"2014\",\"2014\",\"2014\",\"2014\",\"2015\",\"2014\",\"2013\",\"2013\",\"2012\",\"2014\",\"2011\",\"2013\",\"2012\",\"2015\",\"2011\",\"2011\",\"2014\",\"2013\",\"2013\",\"2015\",\"2010\",\"2011\",\"2009\",\"2012\",\"2012\",\"2012\",\"2009\",\"2010\",\"2008\",\"2008\",\"2006\",\"2008\",\"2010\",\"2006\",\"2006\",\"2006\",\"2014\",\"2006\",\"2006\",\"2007\",\"2006\",\"2005\",\"2007\",\"2010\",\"2006\",\"2005\",\"2007\",\"2004\",\"2004\",\"2004\",\"2004\",\"2004\",\"2003\",\"2005\",\"2004\",\"2009\",\"2003\",\"2002\",\"2003\",\"2002\",\"2001\",\"2002\",\"2001\",\"2002\",\"2001\",\"2000\",\"2001\",\"2001\",\"2000\",\"2000\",\"2002\",\"1999\",\"1999\",\"1998\",\"2001\",\"1998\",\"1997\",\"1999\",\"1997\",\"1997\",\"1998\",\"1997\",\"1996\",\"1996\",\"1996\",\"1995\",\"1995\",\"1994\",\"1994\",\"1993\",\"1993\",\"1992\",\"1992\",\"1992\",\"1992\",\"1992\",\"1992\",\"1991\",\"1991\",\"1990\",\"1988\",\"1988\",\"1987\",\"1987\",\"1987\",\"1986\",\"1986\",\"1985\",\"1985\",\"1983\",\"1982\",\"1982\",\"1982\",\"1980\",\"1980\",\"1979\",\"1978\",\"1976\",\"1975\",\"1974\",\"1974\",\"1973\",\"1973\",\"1972\",\"1971\",\"1971\",\"1968\",\"1968\",\"1967\",\"1967\",\"1966\",\"1965\",\"1964\",\"1964\",\"1963\",\"1962\",\"1960\",\"1960\",\"1960\",\"1956\",\"1955\",\"1955\",\"1954\",\"1952\",\"1951\",\"1951\",\"1946\",\"1940\",\"1933\",\"2019\",\"2018\",\"2019\",\"2017\",\"2017\",\"2019\",\"2017\",\"2019\",\"2015\",\"2015\",\"2017\",\"2017\",\"2017\",\"2015\",\"2018\",\"2016\",\"2015\",\"2015\",\"2014\",\"2016\",\"2013\",\"2014\",\"2012\",\"2011\",\"2012\",\"2010\",\"2018\",\"2010\",\"2010\",\"2010\",\"2011\",\"2010\",\"2009\",\"2011\",\"2011\",\"2009\",\"2008\",\"2009\",\"2009\",\"2007\",\"2008\",\"2007\",\"2007\",\"2009\",\"2006\",\"2007\",\"2007\",\"2006\",\"2006\",\"2004\",\"2009\",\"2006\",\"2005\",\"2009\",\"2005\",\"2004\",\"2008\",\"2004\",\"2003\",\"2004\",\"2003\",\"2003\",\"2002\",\"2004\",\"2002\",\"2004\",\"2002\",\"2000\",\"2001\",\"2001\",\"2001\",\"2001\",\"2001\",\"2001\",\"2002\",\"1999\",\"2000\",\"1998\",\"1998\",\"1998\",\"1998\",\"1997\",\"1998\",\"1996\",\"1997\",\"1995\",\"1995\",\"1995\",\"1995\",\"PG\",\"1994\",\"1993\",\"1993\",\"1992\",\"1991\",\"1991\",\"1990\",\"1990\",\"1989\",\"1989\",\"1988\",\"1987\",\"1987\",\"1984\",\"1981\",\"1981\",\"1979\",\"1979\",\"1979\",\"1978\",\"1978\",\"1977\",\"1973\",\"1971\",\"1970\",\"1967\",\"1966\",\"1964\",\"1961\",\"1956\",\"1953\",\"1944\",\"1935\"],\"xaxis\":\"x\",\"yaxis\":\"y\",\"type\":\"histogram\"}],                        {\"template\":{\"data\":{\"histogram2dcontour\":[{\"type\":\"histogram2dcontour\",\"colorbar\":{\"outlinewidth\":0,\"ticks\":\"\"},\"colorscale\":[[0.0,\"#0d0887\"],[0.1111111111111111,\"#46039f\"],[0.2222222222222222,\"#7201a8\"],[0.3333333333333333,\"#9c179e\"],[0.4444444444444444,\"#bd3786\"],[0.5555555555555556,\"#d8576b\"],[0.6666666666666666,\"#ed7953\"],[0.7777777777777778,\"#fb9f3a\"],[0.8888888888888888,\"#fdca26\"],[1.0,\"#f0f921\"]]}],\"choropleth\":[{\"type\":\"choropleth\",\"colorbar\":{\"outlinewidth\":0,\"ticks\":\"\"}}],\"histogram2d\":[{\"type\":\"histogram2d\",\"colorbar\":{\"outlinewidth\":0,\"ticks\":\"\"},\"colorscale\":[[0.0,\"#0d0887\"],[0.1111111111111111,\"#46039f\"],[0.2222222222222222,\"#7201a8\"],[0.3333333333333333,\"#9c179e\"],[0.4444444444444444,\"#bd3786\"],[0.5555555555555556,\"#d8576b\"],[0.6666666666666666,\"#ed7953\"],[0.7777777777777778,\"#fb9f3a\"],[0.8888888888888888,\"#fdca26\"],[1.0,\"#f0f921\"]]}],\"heatmap\":[{\"type\":\"heatmap\",\"colorbar\":{\"outlinewidth\":0,\"ticks\":\"\"},\"colorscale\":[[0.0,\"#0d0887\"],[0.1111111111111111,\"#46039f\"],[0.2222222222222222,\"#7201a8\"],[0.3333333333333333,\"#9c179e\"],[0.4444444444444444,\"#bd3786\"],[0.5555555555555556,\"#d8576b\"],[0.6666666666666666,\"#ed7953\"],[0.7777777777777778,\"#fb9f3a\"],[0.8888888888888888,\"#fdca26\"],[1.0,\"#f0f921\"]]}],\"heatmapgl\":[{\"type\":\"heatmapgl\",\"colorbar\":{\"outlinewidth\":0,\"ticks\":\"\"},\"colorscale\":[[0.0,\"#0d0887\"],[0.1111111111111111,\"#46039f\"],[0.2222222222222222,\"#7201a8\"],[0.3333333333333333,\"#9c179e\"],[0.4444444444444444,\"#bd3786\"],[0.5555555555555556,\"#d8576b\"],[0.6666666666666666,\"#ed7953\"],[0.7777777777777778,\"#fb9f3a\"],[0.8888888888888888,\"#fdca26\"],[1.0,\"#f0f921\"]]}],\"contourcarpet\":[{\"type\":\"contourcarpet\",\"colorbar\":{\"outlinewidth\":0,\"ticks\":\"\"}}],\"contour\":[{\"type\":\"contour\",\"colorbar\":{\"outlinewidth\":0,\"ticks\":\"\"},\"colorscale\":[[0.0,\"#0d0887\"],[0.1111111111111111,\"#46039f\"],[0.2222222222222222,\"#7201a8\"],[0.3333333333333333,\"#9c179e\"],[0.4444444444444444,\"#bd3786\"],[0.5555555555555556,\"#d8576b\"],[0.6666666666666666,\"#ed7953\"],[0.7777777777777778,\"#fb9f3a\"],[0.8888888888888888,\"#fdca26\"],[1.0,\"#f0f921\"]]}],\"surface\":[{\"type\":\"surface\",\"colorbar\":{\"outlinewidth\":0,\"ticks\":\"\"},\"colorscale\":[[0.0,\"#0d0887\"],[0.1111111111111111,\"#46039f\"],[0.2222222222222222,\"#7201a8\"],[0.3333333333333333,\"#9c179e\"],[0.4444444444444444,\"#bd3786\"],[0.5555555555555556,\"#d8576b\"],[0.6666666666666666,\"#ed7953\"],[0.7777777777777778,\"#fb9f3a\"],[0.8888888888888888,\"#fdca26\"],[1.0,\"#f0f921\"]]}],\"mesh3d\":[{\"type\":\"mesh3d\",\"colorbar\":{\"outlinewidth\":0,\"ticks\":\"\"}}],\"scatter\":[{\"fillpattern\":{\"fillmode\":\"overlay\",\"size\":10,\"solidity\":0.2},\"type\":\"scatter\"}],\"parcoords\":[{\"type\":\"parcoords\",\"line\":{\"colorbar\":{\"outlinewidth\":0,\"ticks\":\"\"}}}],\"scatterpolargl\":[{\"type\":\"scatterpolargl\",\"marker\":{\"colorbar\":{\"outlinewidth\":0,\"ticks\":\"\"}}}],\"bar\":[{\"error_x\":{\"color\":\"#2a3f5f\"},\"error_y\":{\"color\":\"#2a3f5f\"},\"marker\":{\"line\":{\"color\":\"#E5ECF6\",\"width\":0.5},\"pattern\":{\"fillmode\":\"overlay\",\"size\":10,\"solidity\":0.2}},\"type\":\"bar\"}],\"scattergeo\":[{\"type\":\"scattergeo\",\"marker\":{\"colorbar\":{\"outlinewidth\":0,\"ticks\":\"\"}}}],\"scatterpolar\":[{\"type\":\"scatterpolar\",\"marker\":{\"colorbar\":{\"outlinewidth\":0,\"ticks\":\"\"}}}],\"histogram\":[{\"marker\":{\"pattern\":{\"fillmode\":\"overlay\",\"size\":10,\"solidity\":0.2}},\"type\":\"histogram\"}],\"scattergl\":[{\"type\":\"scattergl\",\"marker\":{\"colorbar\":{\"outlinewidth\":0,\"ticks\":\"\"}}}],\"scatter3d\":[{\"type\":\"scatter3d\",\"line\":{\"colorbar\":{\"outlinewidth\":0,\"ticks\":\"\"}},\"marker\":{\"colorbar\":{\"outlinewidth\":0,\"ticks\":\"\"}}}],\"scattermapbox\":[{\"type\":\"scattermapbox\",\"marker\":{\"colorbar\":{\"outlinewidth\":0,\"ticks\":\"\"}}}],\"scatterternary\":[{\"type\":\"scatterternary\",\"marker\":{\"colorbar\":{\"outlinewidth\":0,\"ticks\":\"\"}}}],\"scattercarpet\":[{\"type\":\"scattercarpet\",\"marker\":{\"colorbar\":{\"outlinewidth\":0,\"ticks\":\"\"}}}],\"carpet\":[{\"aaxis\":{\"endlinecolor\":\"#2a3f5f\",\"gridcolor\":\"white\",\"linecolor\":\"white\",\"minorgridcolor\":\"white\",\"startlinecolor\":\"#2a3f5f\"},\"baxis\":{\"endlinecolor\":\"#2a3f5f\",\"gridcolor\":\"white\",\"linecolor\":\"white\",\"minorgridcolor\":\"white\",\"startlinecolor\":\"#2a3f5f\"},\"type\":\"carpet\"}],\"table\":[{\"cells\":{\"fill\":{\"color\":\"#EBF0F8\"},\"line\":{\"color\":\"white\"}},\"header\":{\"fill\":{\"color\":\"#C8D4E3\"},\"line\":{\"color\":\"white\"}},\"type\":\"table\"}],\"barpolar\":[{\"marker\":{\"line\":{\"color\":\"#E5ECF6\",\"width\":0.5},\"pattern\":{\"fillmode\":\"overlay\",\"size\":10,\"solidity\":0.2}},\"type\":\"barpolar\"}],\"pie\":[{\"automargin\":true,\"type\":\"pie\"}]},\"layout\":{\"autotypenumbers\":\"strict\",\"colorway\":[\"#636efa\",\"#EF553B\",\"#00cc96\",\"#ab63fa\",\"#FFA15A\",\"#19d3f3\",\"#FF6692\",\"#B6E880\",\"#FF97FF\",\"#FECB52\"],\"font\":{\"color\":\"#2a3f5f\"},\"hovermode\":\"closest\",\"hoverlabel\":{\"align\":\"left\"},\"paper_bgcolor\":\"white\",\"plot_bgcolor\":\"#E5ECF6\",\"polar\":{\"bgcolor\":\"#E5ECF6\",\"angularaxis\":{\"gridcolor\":\"white\",\"linecolor\":\"white\",\"ticks\":\"\"},\"radialaxis\":{\"gridcolor\":\"white\",\"linecolor\":\"white\",\"ticks\":\"\"}},\"ternary\":{\"bgcolor\":\"#E5ECF6\",\"aaxis\":{\"gridcolor\":\"white\",\"linecolor\":\"white\",\"ticks\":\"\"},\"baxis\":{\"gridcolor\":\"white\",\"linecolor\":\"white\",\"ticks\":\"\"},\"caxis\":{\"gridcolor\":\"white\",\"linecolor\":\"white\",\"ticks\":\"\"}},\"coloraxis\":{\"colorbar\":{\"outlinewidth\":0,\"ticks\":\"\"}},\"colorscale\":{\"sequential\":[[0.0,\"#0d0887\"],[0.1111111111111111,\"#46039f\"],[0.2222222222222222,\"#7201a8\"],[0.3333333333333333,\"#9c179e\"],[0.4444444444444444,\"#bd3786\"],[0.5555555555555556,\"#d8576b\"],[0.6666666666666666,\"#ed7953\"],[0.7777777777777778,\"#fb9f3a\"],[0.8888888888888888,\"#fdca26\"],[1.0,\"#f0f921\"]],\"sequentialminus\":[[0.0,\"#0d0887\"],[0.1111111111111111,\"#46039f\"],[0.2222222222222222,\"#7201a8\"],[0.3333333333333333,\"#9c179e\"],[0.4444444444444444,\"#bd3786\"],[0.5555555555555556,\"#d8576b\"],[0.6666666666666666,\"#ed7953\"],[0.7777777777777778,\"#fb9f3a\"],[0.8888888888888888,\"#fdca26\"],[1.0,\"#f0f921\"]],\"diverging\":[[0,\"#8e0152\"],[0.1,\"#c51b7d\"],[0.2,\"#de77ae\"],[0.3,\"#f1b6da\"],[0.4,\"#fde0ef\"],[0.5,\"#f7f7f7\"],[0.6,\"#e6f5d0\"],[0.7,\"#b8e186\"],[0.8,\"#7fbc41\"],[0.9,\"#4d9221\"],[1,\"#276419\"]]},\"xaxis\":{\"gridcolor\":\"white\",\"linecolor\":\"white\",\"ticks\":\"\",\"title\":{\"standoff\":15},\"zerolinecolor\":\"white\",\"automargin\":true,\"zerolinewidth\":2},\"yaxis\":{\"gridcolor\":\"white\",\"linecolor\":\"white\",\"ticks\":\"\",\"title\":{\"standoff\":15},\"zerolinecolor\":\"white\",\"automargin\":true,\"zerolinewidth\":2},\"scene\":{\"xaxis\":{\"backgroundcolor\":\"#E5ECF6\",\"gridcolor\":\"white\",\"linecolor\":\"white\",\"showbackground\":true,\"ticks\":\"\",\"zerolinecolor\":\"white\",\"gridwidth\":2},\"yaxis\":{\"backgroundcolor\":\"#E5ECF6\",\"gridcolor\":\"white\",\"linecolor\":\"white\",\"showbackground\":true,\"ticks\":\"\",\"zerolinecolor\":\"white\",\"gridwidth\":2},\"zaxis\":{\"backgroundcolor\":\"#E5ECF6\",\"gridcolor\":\"white\",\"linecolor\":\"white\",\"showbackground\":true,\"ticks\":\"\",\"zerolinecolor\":\"white\",\"gridwidth\":2}},\"shapedefaults\":{\"line\":{\"color\":\"#2a3f5f\"}},\"annotationdefaults\":{\"arrowcolor\":\"#2a3f5f\",\"arrowhead\":0,\"arrowwidth\":1},\"geo\":{\"bgcolor\":\"white\",\"landcolor\":\"#E5ECF6\",\"subunitcolor\":\"white\",\"showland\":true,\"showlakes\":true,\"lakecolor\":\"white\"},\"title\":{\"x\":0.05},\"mapbox\":{\"style\":\"light\"}}},\"xaxis\":{\"anchor\":\"y\",\"domain\":[0.0,1.0],\"title\":{\"text\":\"Released_Year\"}},\"yaxis\":{\"anchor\":\"x\",\"domain\":[0.0,1.0],\"title\":{\"text\":\"count\"}},\"legend\":{\"tracegroupgap\":0},\"title\":{\"text\":\"No. of movies released in a year\"},\"barmode\":\"relative\"},                        {\"responsive\": true}                    ).then(function(){\n",
              "                            \n",
              "var gd = document.getElementById('a7c141ef-6bf3-46ee-8a0f-b57b1a55ea87');\n",
              "var x = new MutationObserver(function (mutations, observer) {{\n",
              "        var display = window.getComputedStyle(gd).display;\n",
              "        if (!display || display === 'none') {{\n",
              "            console.log([gd, 'removed!']);\n",
              "            Plotly.purge(gd);\n",
              "            observer.disconnect();\n",
              "        }}\n",
              "}});\n",
              "\n",
              "// Listen for the removal of the full notebook cells\n",
              "var notebookContainer = gd.closest('#notebook-container');\n",
              "if (notebookContainer) {{\n",
              "    x.observe(notebookContainer, {childList: true});\n",
              "}}\n",
              "\n",
              "// Listen for the clearing of the current output cell\n",
              "var outputEl = gd.closest('.output');\n",
              "if (outputEl) {{\n",
              "    x.observe(outputEl, {childList: true});\n",
              "}}\n",
              "\n",
              "                        })                };                            </script>        </div>\n",
              "</body>\n",
              "</html>"
            ]
          },
          "metadata": {}
        }
      ]
    },
    {
      "cell_type": "markdown",
      "source": [
        "The above histogram gives the data of number of movies released in a particular year. So form this , the year 2014 was a great year for movie lovers.\n",
        "On taking the cursor on to the bar, we will get the released year and the number of movies released in that particular year."
      ],
      "metadata": {
        "id": "dHXCCnBm59Y5"
      }
    },
    {
      "cell_type": "code",
      "source": [
        "px.box(movies, x = 'IMDB_Rating', title = 'IMDB_Rating stats',color_discrete_sequence=['green'] )"
      ],
      "metadata": {
        "id": "1rVyET4C4u55",
        "outputId": "0da269ee-b432-4654-9684-9c2b8f0af79b",
        "colab": {
          "base_uri": "https://localhost:8080/",
          "height": 542
        }
      },
      "execution_count": null,
      "outputs": [
        {
          "output_type": "display_data",
          "data": {
            "text/html": [
              "<html>\n",
              "<head><meta charset=\"utf-8\" /></head>\n",
              "<body>\n",
              "    <div>            <script src=\"https://cdnjs.cloudflare.com/ajax/libs/mathjax/2.7.5/MathJax.js?config=TeX-AMS-MML_SVG\"></script><script type=\"text/javascript\">if (window.MathJax && window.MathJax.Hub && window.MathJax.Hub.Config) {window.MathJax.Hub.Config({SVG: {font: \"STIX-Web\"}});}</script>                <script type=\"text/javascript\">window.PlotlyConfig = {MathJaxConfig: 'local'};</script>\n",
              "        <script src=\"https://cdn.plot.ly/plotly-2.18.2.min.js\"></script>                <div id=\"96c25f9b-124d-4d20-be64-9136bb417e1d\" class=\"plotly-graph-div\" style=\"height:525px; width:100%;\"></div>            <script type=\"text/javascript\">                                    window.PLOTLYENV=window.PLOTLYENV || {};                                    if (document.getElementById(\"96c25f9b-124d-4d20-be64-9136bb417e1d\")) {                    Plotly.newPlot(                        \"96c25f9b-124d-4d20-be64-9136bb417e1d\",                        [{\"alignmentgroup\":\"True\",\"hovertemplate\":\"IMDB_Rating=%{x}<extra></extra>\",\"legendgroup\":\"\",\"marker\":{\"color\":\"green\"},\"name\":\"\",\"notched\":false,\"offsetgroup\":\"\",\"orientation\":\"h\",\"showlegend\":false,\"x\":[9.3,9.2,9.0,9.0,9.0,8.9,8.9,8.9,8.8,8.8,8.8,8.8,8.8,8.7,8.7,8.7,8.7,8.7,8.6,8.6,8.6,8.6,8.6,8.6,8.6,8.6,8.6,8.6,8.6,8.6,8.6,8.6,8.6,8.5,8.5,8.5,8.5,8.5,8.5,8.5,8.5,8.5,8.5,8.5,8.5,8.5,8.5,8.5,8.5,8.5,8.5,8.5,8.5,8.4,8.4,8.4,8.4,8.4,8.4,8.4,8.4,8.4,8.4,8.4,8.4,8.4,8.4,8.4,8.4,8.4,8.4,8.4,8.4,8.4,8.4,8.4,8.4,8.4,8.4,8.4,8.4,8.4,8.4,8.4,8.3,8.3,8.3,8.3,8.3,8.3,8.3,8.3,8.3,8.3,8.3,8.3,8.3,8.3,8.3,8.3,8.3,8.3,8.3,8.3,8.3,8.3,8.3,8.3,8.3,8.3,8.3,8.3,8.3,8.3,8.3,8.3,8.3,8.3,8.3,8.3,8.3,8.3,8.3,8.3,8.3,8.3,8.3,8.3,8.2,8.2,8.2,8.2,8.2,8.2,8.2,8.2,8.2,8.2,8.2,8.2,8.2,8.2,8.2,8.2,8.2,8.2,8.2,8.2,8.2,8.2,8.2,8.2,8.2,8.2,8.2,8.2,8.2,8.2,8.2,8.2,8.2,8.2,8.2,8.2,8.2,8.2,8.2,8.2,8.2,8.2,8.2,8.2,8.2,8.2,8.2,8.2,8.2,8.2,8.2,8.2,8.2,8.2,8.2,8.2,8.2,8.2,8.2,8.2,8.2,8.2,8.2,8.2,8.2,8.2,8.2,8.1,8.1,8.1,8.1,8.1,8.1,8.1,8.1,8.1,8.1,8.1,8.1,8.1,8.1,8.1,8.1,8.1,8.1,8.1,8.1,8.1,8.1,8.1,8.1,8.1,8.1,8.1,8.1,8.1,8.1,8.1,8.1,8.1,8.1,8.1,8.1,8.1,8.1,8.1,8.1,8.1,8.1,8.1,8.1,8.1,8.1,8.1,8.1,8.1,8.1,8.1,8.1,8.1,8.1,8.1,8.1,8.1,8.1,8.1,8.1,8.1,8.1,8.1,8.1,8.1,8.1,8.1,8.1,8.1,8.1,8.1,8.1,8.1,8.1,8.1,8.1,8.1,8.1,8.1,8.1,8.1,8.1,8.1,8.1,8.1,8.1,8.1,8.1,8.1,8.1,8.1,8.1,8.1,8.1,8.1,8.1,8.1,8.1,8.1,8.1,8.1,8.1,8.1,8.1,8.1,8.1,8.1,8.1,8.1,8.1,8.1,8.1,8.1,8.1,8.1,8.1,8.1,8.1,8.1,8.1,8.1,8.1,8.1,8.1,8.1,8.1,8.1,8.0,8.0,8.0,8.0,8.0,8.0,8.0,8.0,8.0,8.0,8.0,8.0,8.0,8.0,8.0,8.0,8.0,8.0,8.0,8.0,8.0,8.0,8.0,8.0,8.0,8.0,8.0,8.0,8.0,8.0,8.0,8.0,8.0,8.0,8.0,8.0,8.0,8.0,8.0,8.0,8.0,8.0,8.0,8.0,8.0,8.0,8.0,8.0,8.0,8.0,8.0,8.0,8.0,8.0,8.0,8.0,8.0,8.0,8.0,8.0,8.0,8.0,8.0,8.0,8.0,8.0,8.0,8.0,8.0,8.0,8.0,8.0,8.0,8.0,8.0,8.0,8.0,8.0,8.0,8.0,8.0,8.0,8.0,8.0,8.0,8.0,8.0,8.0,8.0,8.0,8.0,8.0,8.0,8.0,8.0,8.0,8.0,8.0,8.0,8.0,8.0,8.0,8.0,8.0,8.0,8.0,8.0,8.0,8.0,8.0,8.0,8.0,8.0,8.0,8.0,8.0,8.0,8.0,8.0,8.0,8.0,8.0,8.0,8.0,8.0,8.0,8.0,8.0,8.0,8.0,8.0,8.0,8.0,8.0,8.0,8.0,8.0,8.0,8.0,8.0,8.0,7.9,7.9,7.9,7.9,7.9,7.9,7.9,7.9,7.9,7.9,7.9,7.9,7.9,7.9,7.9,7.9,7.9,7.9,7.9,7.9,7.9,7.9,7.9,7.9,7.9,7.9,7.9,7.9,7.9,7.9,7.9,7.9,7.9,7.9,7.9,7.9,7.9,7.9,7.9,7.9,7.9,7.9,7.9,7.9,7.9,7.9,7.9,7.9,7.9,7.9,7.9,7.9,7.9,7.9,7.9,7.9,7.9,7.9,7.9,7.9,7.9,7.9,7.9,7.9,7.9,7.9,7.9,7.9,7.9,7.9,7.9,7.9,7.9,7.9,7.9,7.9,7.9,7.9,7.9,7.9,7.9,7.9,7.9,7.9,7.9,7.9,7.9,7.9,7.9,7.9,7.9,7.9,7.9,7.9,7.9,7.9,7.9,7.9,7.9,7.9,7.9,7.9,7.9,7.9,7.9,7.9,7.8,7.8,7.8,7.8,7.8,7.8,7.8,7.8,7.8,7.8,7.8,7.8,7.8,7.8,7.8,7.8,7.8,7.8,7.8,7.8,7.8,7.8,7.8,7.8,7.8,7.8,7.8,7.8,7.8,7.8,7.8,7.8,7.8,7.8,7.8,7.8,7.8,7.8,7.8,7.8,7.8,7.8,7.8,7.8,7.8,7.8,7.8,7.8,7.8,7.8,7.8,7.8,7.8,7.8,7.8,7.8,7.8,7.8,7.8,7.8,7.8,7.8,7.8,7.8,7.8,7.8,7.8,7.8,7.8,7.8,7.8,7.8,7.8,7.8,7.8,7.8,7.8,7.8,7.8,7.8,7.8,7.8,7.8,7.8,7.8,7.8,7.8,7.8,7.8,7.8,7.8,7.8,7.8,7.8,7.8,7.8,7.8,7.8,7.8,7.8,7.8,7.8,7.8,7.8,7.8,7.8,7.8,7.8,7.8,7.8,7.8,7.8,7.8,7.8,7.8,7.8,7.8,7.8,7.8,7.8,7.8,7.8,7.8,7.8,7.8,7.8,7.8,7.8,7.8,7.8,7.8,7.8,7.8,7.8,7.8,7.8,7.8,7.8,7.8,7.8,7.8,7.8,7.8,7.8,7.8,7.8,7.8,7.8,7.8,7.8,7.8,7.7,7.7,7.7,7.7,7.7,7.7,7.7,7.7,7.7,7.7,7.7,7.7,7.7,7.7,7.7,7.7,7.7,7.7,7.7,7.7,7.7,7.7,7.7,7.7,7.7,7.7,7.7,7.7,7.7,7.7,7.7,7.7,7.7,7.7,7.7,7.7,7.7,7.7,7.7,7.7,7.7,7.7,7.7,7.7,7.7,7.7,7.7,7.7,7.7,7.7,7.7,7.7,7.7,7.7,7.7,7.7,7.7,7.7,7.7,7.7,7.7,7.7,7.7,7.7,7.7,7.7,7.7,7.7,7.7,7.7,7.7,7.7,7.7,7.7,7.7,7.7,7.7,7.7,7.7,7.7,7.7,7.7,7.7,7.7,7.7,7.7,7.7,7.7,7.7,7.7,7.7,7.7,7.7,7.7,7.7,7.7,7.7,7.7,7.7,7.7,7.7,7.7,7.7,7.7,7.7,7.7,7.7,7.7,7.7,7.7,7.7,7.7,7.7,7.7,7.7,7.7,7.7,7.7,7.7,7.7,7.7,7.7,7.7,7.7,7.7,7.7,7.7,7.7,7.7,7.7,7.7,7.7,7.7,7.7,7.7,7.7,7.7,7.7,7.7,7.7,7.7,7.7,7.7,7.7,7.7,7.7,7.7,7.7,7.7,7.7,7.7,7.7,7.7,7.7,7.7,7.7,7.7,7.6,7.6,7.6,7.6,7.6,7.6,7.6,7.6,7.6,7.6,7.6,7.6,7.6,7.6,7.6,7.6,7.6,7.6,7.6,7.6,7.6,7.6,7.6,7.6,7.6,7.6,7.6,7.6,7.6,7.6,7.6,7.6,7.6,7.6,7.6,7.6,7.6,7.6,7.6,7.6,7.6,7.6,7.6,7.6,7.6,7.6,7.6,7.6,7.6,7.6,7.6,7.6,7.6,7.6,7.6,7.6,7.6,7.6,7.6,7.6,7.6,7.6,7.6,7.6,7.6,7.6,7.6,7.6,7.6,7.6,7.6,7.6,7.6,7.6,7.6,7.6,7.6,7.6,7.6,7.6,7.6,7.6,7.6,7.6,7.6,7.6,7.6,7.6,7.6,7.6,7.6,7.6,7.6,7.6,7.6,7.6,7.6,7.6,7.6,7.6,7.6,7.6,7.6,7.6,7.6,7.6,7.6,7.6,7.6,7.6,7.6,7.6,7.6,7.6,7.6,7.6,7.6,7.6,7.6,7.6,7.6,7.6,7.6],\"x0\":\" \",\"xaxis\":\"x\",\"y0\":\" \",\"yaxis\":\"y\",\"type\":\"box\"}],                        {\"template\":{\"data\":{\"histogram2dcontour\":[{\"type\":\"histogram2dcontour\",\"colorbar\":{\"outlinewidth\":0,\"ticks\":\"\"},\"colorscale\":[[0.0,\"#0d0887\"],[0.1111111111111111,\"#46039f\"],[0.2222222222222222,\"#7201a8\"],[0.3333333333333333,\"#9c179e\"],[0.4444444444444444,\"#bd3786\"],[0.5555555555555556,\"#d8576b\"],[0.6666666666666666,\"#ed7953\"],[0.7777777777777778,\"#fb9f3a\"],[0.8888888888888888,\"#fdca26\"],[1.0,\"#f0f921\"]]}],\"choropleth\":[{\"type\":\"choropleth\",\"colorbar\":{\"outlinewidth\":0,\"ticks\":\"\"}}],\"histogram2d\":[{\"type\":\"histogram2d\",\"colorbar\":{\"outlinewidth\":0,\"ticks\":\"\"},\"colorscale\":[[0.0,\"#0d0887\"],[0.1111111111111111,\"#46039f\"],[0.2222222222222222,\"#7201a8\"],[0.3333333333333333,\"#9c179e\"],[0.4444444444444444,\"#bd3786\"],[0.5555555555555556,\"#d8576b\"],[0.6666666666666666,\"#ed7953\"],[0.7777777777777778,\"#fb9f3a\"],[0.8888888888888888,\"#fdca26\"],[1.0,\"#f0f921\"]]}],\"heatmap\":[{\"type\":\"heatmap\",\"colorbar\":{\"outlinewidth\":0,\"ticks\":\"\"},\"colorscale\":[[0.0,\"#0d0887\"],[0.1111111111111111,\"#46039f\"],[0.2222222222222222,\"#7201a8\"],[0.3333333333333333,\"#9c179e\"],[0.4444444444444444,\"#bd3786\"],[0.5555555555555556,\"#d8576b\"],[0.6666666666666666,\"#ed7953\"],[0.7777777777777778,\"#fb9f3a\"],[0.8888888888888888,\"#fdca26\"],[1.0,\"#f0f921\"]]}],\"heatmapgl\":[{\"type\":\"heatmapgl\",\"colorbar\":{\"outlinewidth\":0,\"ticks\":\"\"},\"colorscale\":[[0.0,\"#0d0887\"],[0.1111111111111111,\"#46039f\"],[0.2222222222222222,\"#7201a8\"],[0.3333333333333333,\"#9c179e\"],[0.4444444444444444,\"#bd3786\"],[0.5555555555555556,\"#d8576b\"],[0.6666666666666666,\"#ed7953\"],[0.7777777777777778,\"#fb9f3a\"],[0.8888888888888888,\"#fdca26\"],[1.0,\"#f0f921\"]]}],\"contourcarpet\":[{\"type\":\"contourcarpet\",\"colorbar\":{\"outlinewidth\":0,\"ticks\":\"\"}}],\"contour\":[{\"type\":\"contour\",\"colorbar\":{\"outlinewidth\":0,\"ticks\":\"\"},\"colorscale\":[[0.0,\"#0d0887\"],[0.1111111111111111,\"#46039f\"],[0.2222222222222222,\"#7201a8\"],[0.3333333333333333,\"#9c179e\"],[0.4444444444444444,\"#bd3786\"],[0.5555555555555556,\"#d8576b\"],[0.6666666666666666,\"#ed7953\"],[0.7777777777777778,\"#fb9f3a\"],[0.8888888888888888,\"#fdca26\"],[1.0,\"#f0f921\"]]}],\"surface\":[{\"type\":\"surface\",\"colorbar\":{\"outlinewidth\":0,\"ticks\":\"\"},\"colorscale\":[[0.0,\"#0d0887\"],[0.1111111111111111,\"#46039f\"],[0.2222222222222222,\"#7201a8\"],[0.3333333333333333,\"#9c179e\"],[0.4444444444444444,\"#bd3786\"],[0.5555555555555556,\"#d8576b\"],[0.6666666666666666,\"#ed7953\"],[0.7777777777777778,\"#fb9f3a\"],[0.8888888888888888,\"#fdca26\"],[1.0,\"#f0f921\"]]}],\"mesh3d\":[{\"type\":\"mesh3d\",\"colorbar\":{\"outlinewidth\":0,\"ticks\":\"\"}}],\"scatter\":[{\"fillpattern\":{\"fillmode\":\"overlay\",\"size\":10,\"solidity\":0.2},\"type\":\"scatter\"}],\"parcoords\":[{\"type\":\"parcoords\",\"line\":{\"colorbar\":{\"outlinewidth\":0,\"ticks\":\"\"}}}],\"scatterpolargl\":[{\"type\":\"scatterpolargl\",\"marker\":{\"colorbar\":{\"outlinewidth\":0,\"ticks\":\"\"}}}],\"bar\":[{\"error_x\":{\"color\":\"#2a3f5f\"},\"error_y\":{\"color\":\"#2a3f5f\"},\"marker\":{\"line\":{\"color\":\"#E5ECF6\",\"width\":0.5},\"pattern\":{\"fillmode\":\"overlay\",\"size\":10,\"solidity\":0.2}},\"type\":\"bar\"}],\"scattergeo\":[{\"type\":\"scattergeo\",\"marker\":{\"colorbar\":{\"outlinewidth\":0,\"ticks\":\"\"}}}],\"scatterpolar\":[{\"type\":\"scatterpolar\",\"marker\":{\"colorbar\":{\"outlinewidth\":0,\"ticks\":\"\"}}}],\"histogram\":[{\"marker\":{\"pattern\":{\"fillmode\":\"overlay\",\"size\":10,\"solidity\":0.2}},\"type\":\"histogram\"}],\"scattergl\":[{\"type\":\"scattergl\",\"marker\":{\"colorbar\":{\"outlinewidth\":0,\"ticks\":\"\"}}}],\"scatter3d\":[{\"type\":\"scatter3d\",\"line\":{\"colorbar\":{\"outlinewidth\":0,\"ticks\":\"\"}},\"marker\":{\"colorbar\":{\"outlinewidth\":0,\"ticks\":\"\"}}}],\"scattermapbox\":[{\"type\":\"scattermapbox\",\"marker\":{\"colorbar\":{\"outlinewidth\":0,\"ticks\":\"\"}}}],\"scatterternary\":[{\"type\":\"scatterternary\",\"marker\":{\"colorbar\":{\"outlinewidth\":0,\"ticks\":\"\"}}}],\"scattercarpet\":[{\"type\":\"scattercarpet\",\"marker\":{\"colorbar\":{\"outlinewidth\":0,\"ticks\":\"\"}}}],\"carpet\":[{\"aaxis\":{\"endlinecolor\":\"#2a3f5f\",\"gridcolor\":\"white\",\"linecolor\":\"white\",\"minorgridcolor\":\"white\",\"startlinecolor\":\"#2a3f5f\"},\"baxis\":{\"endlinecolor\":\"#2a3f5f\",\"gridcolor\":\"white\",\"linecolor\":\"white\",\"minorgridcolor\":\"white\",\"startlinecolor\":\"#2a3f5f\"},\"type\":\"carpet\"}],\"table\":[{\"cells\":{\"fill\":{\"color\":\"#EBF0F8\"},\"line\":{\"color\":\"white\"}},\"header\":{\"fill\":{\"color\":\"#C8D4E3\"},\"line\":{\"color\":\"white\"}},\"type\":\"table\"}],\"barpolar\":[{\"marker\":{\"line\":{\"color\":\"#E5ECF6\",\"width\":0.5},\"pattern\":{\"fillmode\":\"overlay\",\"size\":10,\"solidity\":0.2}},\"type\":\"barpolar\"}],\"pie\":[{\"automargin\":true,\"type\":\"pie\"}]},\"layout\":{\"autotypenumbers\":\"strict\",\"colorway\":[\"#636efa\",\"#EF553B\",\"#00cc96\",\"#ab63fa\",\"#FFA15A\",\"#19d3f3\",\"#FF6692\",\"#B6E880\",\"#FF97FF\",\"#FECB52\"],\"font\":{\"color\":\"#2a3f5f\"},\"hovermode\":\"closest\",\"hoverlabel\":{\"align\":\"left\"},\"paper_bgcolor\":\"white\",\"plot_bgcolor\":\"#E5ECF6\",\"polar\":{\"bgcolor\":\"#E5ECF6\",\"angularaxis\":{\"gridcolor\":\"white\",\"linecolor\":\"white\",\"ticks\":\"\"},\"radialaxis\":{\"gridcolor\":\"white\",\"linecolor\":\"white\",\"ticks\":\"\"}},\"ternary\":{\"bgcolor\":\"#E5ECF6\",\"aaxis\":{\"gridcolor\":\"white\",\"linecolor\":\"white\",\"ticks\":\"\"},\"baxis\":{\"gridcolor\":\"white\",\"linecolor\":\"white\",\"ticks\":\"\"},\"caxis\":{\"gridcolor\":\"white\",\"linecolor\":\"white\",\"ticks\":\"\"}},\"coloraxis\":{\"colorbar\":{\"outlinewidth\":0,\"ticks\":\"\"}},\"colorscale\":{\"sequential\":[[0.0,\"#0d0887\"],[0.1111111111111111,\"#46039f\"],[0.2222222222222222,\"#7201a8\"],[0.3333333333333333,\"#9c179e\"],[0.4444444444444444,\"#bd3786\"],[0.5555555555555556,\"#d8576b\"],[0.6666666666666666,\"#ed7953\"],[0.7777777777777778,\"#fb9f3a\"],[0.8888888888888888,\"#fdca26\"],[1.0,\"#f0f921\"]],\"sequentialminus\":[[0.0,\"#0d0887\"],[0.1111111111111111,\"#46039f\"],[0.2222222222222222,\"#7201a8\"],[0.3333333333333333,\"#9c179e\"],[0.4444444444444444,\"#bd3786\"],[0.5555555555555556,\"#d8576b\"],[0.6666666666666666,\"#ed7953\"],[0.7777777777777778,\"#fb9f3a\"],[0.8888888888888888,\"#fdca26\"],[1.0,\"#f0f921\"]],\"diverging\":[[0,\"#8e0152\"],[0.1,\"#c51b7d\"],[0.2,\"#de77ae\"],[0.3,\"#f1b6da\"],[0.4,\"#fde0ef\"],[0.5,\"#f7f7f7\"],[0.6,\"#e6f5d0\"],[0.7,\"#b8e186\"],[0.8,\"#7fbc41\"],[0.9,\"#4d9221\"],[1,\"#276419\"]]},\"xaxis\":{\"gridcolor\":\"white\",\"linecolor\":\"white\",\"ticks\":\"\",\"title\":{\"standoff\":15},\"zerolinecolor\":\"white\",\"automargin\":true,\"zerolinewidth\":2},\"yaxis\":{\"gridcolor\":\"white\",\"linecolor\":\"white\",\"ticks\":\"\",\"title\":{\"standoff\":15},\"zerolinecolor\":\"white\",\"automargin\":true,\"zerolinewidth\":2},\"scene\":{\"xaxis\":{\"backgroundcolor\":\"#E5ECF6\",\"gridcolor\":\"white\",\"linecolor\":\"white\",\"showbackground\":true,\"ticks\":\"\",\"zerolinecolor\":\"white\",\"gridwidth\":2},\"yaxis\":{\"backgroundcolor\":\"#E5ECF6\",\"gridcolor\":\"white\",\"linecolor\":\"white\",\"showbackground\":true,\"ticks\":\"\",\"zerolinecolor\":\"white\",\"gridwidth\":2},\"zaxis\":{\"backgroundcolor\":\"#E5ECF6\",\"gridcolor\":\"white\",\"linecolor\":\"white\",\"showbackground\":true,\"ticks\":\"\",\"zerolinecolor\":\"white\",\"gridwidth\":2}},\"shapedefaults\":{\"line\":{\"color\":\"#2a3f5f\"}},\"annotationdefaults\":{\"arrowcolor\":\"#2a3f5f\",\"arrowhead\":0,\"arrowwidth\":1},\"geo\":{\"bgcolor\":\"white\",\"landcolor\":\"#E5ECF6\",\"subunitcolor\":\"white\",\"showland\":true,\"showlakes\":true,\"lakecolor\":\"white\"},\"title\":{\"x\":0.05},\"mapbox\":{\"style\":\"light\"}}},\"xaxis\":{\"anchor\":\"y\",\"domain\":[0.0,1.0],\"title\":{\"text\":\"IMDB_Rating\"}},\"yaxis\":{\"anchor\":\"x\",\"domain\":[0.0,1.0]},\"legend\":{\"tracegroupgap\":0},\"title\":{\"text\":\"IMDB_Rating stats\"},\"boxmode\":\"group\"},                        {\"responsive\": true}                    ).then(function(){\n",
              "                            \n",
              "var gd = document.getElementById('96c25f9b-124d-4d20-be64-9136bb417e1d');\n",
              "var x = new MutationObserver(function (mutations, observer) {{\n",
              "        var display = window.getComputedStyle(gd).display;\n",
              "        if (!display || display === 'none') {{\n",
              "            console.log([gd, 'removed!']);\n",
              "            Plotly.purge(gd);\n",
              "            observer.disconnect();\n",
              "        }}\n",
              "}});\n",
              "\n",
              "// Listen for the removal of the full notebook cells\n",
              "var notebookContainer = gd.closest('#notebook-container');\n",
              "if (notebookContainer) {{\n",
              "    x.observe(notebookContainer, {childList: true});\n",
              "}}\n",
              "\n",
              "// Listen for the clearing of the current output cell\n",
              "var outputEl = gd.closest('.output');\n",
              "if (outputEl) {{\n",
              "    x.observe(outputEl, {childList: true});\n",
              "}}\n",
              "\n",
              "                        })                };                            </script>        </div>\n",
              "</body>\n",
              "</html>"
            ]
          },
          "metadata": {}
        }
      ]
    },
    {
      "cell_type": "markdown",
      "source": [
        "From the above box plot we can draw the following conclusions:\n",
        "max IMDB = 9.3;\n",
        "min IMDB = 7.6;\n",
        "median IMDB = 7.9;\n",
        "25th percentile and the 75th percentile of IMDB rating from the median are 7.7 and 8.1 respectively.\n",
        "We can also get the outlier IMDB ratings on placing the cursor on the dots.\n",
        "The above data can be obtained just by placing the cursor on the boxplot."
      ],
      "metadata": {
        "id": "xWkCGux16eD_"
      }
    },
    {
      "cell_type": "code",
      "source": [
        "px.box(movies, x = 'IMDB_Rating', title = 'IMDB_Rating stats',color_discrete_sequence=['green'], hover_data = ['Released_Year'] )"
      ],
      "metadata": {
        "id": "rNFJ1_MD7fQ-",
        "outputId": "23e086a4-91f8-4625-98b2-e6c54c7e9e20",
        "colab": {
          "base_uri": "https://localhost:8080/",
          "height": 542
        }
      },
      "execution_count": null,
      "outputs": [
        {
          "output_type": "display_data",
          "data": {
            "text/html": [
              "<html>\n",
              "<head><meta charset=\"utf-8\" /></head>\n",
              "<body>\n",
              "    <div>            <script src=\"https://cdnjs.cloudflare.com/ajax/libs/mathjax/2.7.5/MathJax.js?config=TeX-AMS-MML_SVG\"></script><script type=\"text/javascript\">if (window.MathJax && window.MathJax.Hub && window.MathJax.Hub.Config) {window.MathJax.Hub.Config({SVG: {font: \"STIX-Web\"}});}</script>                <script type=\"text/javascript\">window.PlotlyConfig = {MathJaxConfig: 'local'};</script>\n",
              "        <script src=\"https://cdn.plot.ly/plotly-2.18.2.min.js\"></script>                <div id=\"9aa3fdf0-99a5-48ee-b012-97ce852546b8\" class=\"plotly-graph-div\" style=\"height:525px; width:100%;\"></div>            <script type=\"text/javascript\">                                    window.PLOTLYENV=window.PLOTLYENV || {};                                    if (document.getElementById(\"9aa3fdf0-99a5-48ee-b012-97ce852546b8\")) {                    Plotly.newPlot(                        \"9aa3fdf0-99a5-48ee-b012-97ce852546b8\",                        [{\"alignmentgroup\":\"True\",\"customdata\":[[\"1994\"],[\"1972\"],[\"2008\"],[\"1974\"],[\"1957\"],[\"2003\"],[\"1994\"],[\"1993\"],[\"2010\"],[\"1999\"],[\"2001\"],[\"1994\"],[\"1966\"],[\"2002\"],[\"1999\"],[\"1990\"],[\"1980\"],[\"1975\"],[\"2020\"],[\"2019\"],[\"2020\"],[\"2014\"],[\"2002\"],[\"2001\"],[\"1998\"],[\"1999\"],[\"1997\"],[\"1995\"],[\"1991\"],[\"1977\"],[\"1962\"],[\"1954\"],[\"1946\"],[\"2019\"],[\"2014\"],[\"2011\"],[\"2006\"],[\"2006\"],[\"2002\"],[\"2000\"],[\"1998\"],[\"1995\"],[\"1994\"],[\"1994\"],[\"1991\"],[\"1988\"],[\"1988\"],[\"1985\"],[\"1968\"],[\"1960\"],[\"1942\"],[\"1936\"],[\"1931\"],[\"2018\"],[\"2017\"],[\"2017\"],[\"2016\"],[\"2016\"],[\"2018\"],[\"2019\"],[\"2018\"],[\"2017\"],[\"2012\"],[\"2012\"],[\"2009\"],[\"2007\"],[\"2008\"],[\"2006\"],[\"2003\"],[\"2000\"],[\"1997\"],[\"1984\"],[\"1981\"],[\"1980\"],[\"1979\"],[\"1979\"],[\"1971\"],[\"1963\"],[\"1964\"],[\"1957\"],[\"1957\"],[\"1954\"],[\"1950\"],[\"1940\"],[\"2019\"],[\"2018\"],[\"2018\"],[\"2013\"],[\"2012\"],[\"2011\"],[\"2010\"],[\"2019\"],[\"2005\"],[\"2009\"],[\"2004\"],[\"2001\"],[\"2000\"],[\"2000\"],[\"1999\"],[\"1997\"],[\"1997\"],[\"1995\"],[\"1995\"],[\"1992\"],[\"1987\"],[\"1985\"],[\"1986\"],[\"1984\"],[\"1983\"],[\"1983\"],[\"1981\"],[\"1976\"],[\"1973\"],[\"1971\"],[\"1968\"],[\"1965\"],[\"1962\"],[\"1960\"],[\"1959\"],[\"1958\"],[\"1952\"],[\"1952\"],[\"1948\"],[\"1944\"],[\"1941\"],[\"1931\"],[\"1927\"],[\"1921\"],[\"2019\"],[\"2018\"],[\"2018\"],[\"2018\"],[\"2017\"],[\"2015\"],[\"2017\"],[\"2019\"],[\"2015\"],[\"2013\"],[\"2013\"],[\"2013\"],[\"2012\"],[\"2010\"],[\"2012\"],[\"2009\"],[\"2011\"],[\"2010\"],[\"2009\"],[\"2013\"],[\"2007\"],[\"2007\"],[\"2006\"],[\"2010\"],[\"2005\"],[\"2006\"],[\"2005\"],[\"2005\"],[\"2004\"],[\"2004\"],[\"2004\"],[\"2001\"],[\"2000\"],[\"1998\"],[\"1997\"],[\"1996\"],[\"1995\"],[\"1995\"],[\"1994\"],[\"1992\"],[\"1989\"],[\"1988\"],[\"1988\"],[\"1988\"],[\"1985\"],[\"1980\"],[\"1979\"],[\"1978\"],[\"1976\"],[\"1975\"],[\"1975\"],[\"1963\"],[\"1962\"],[\"1961\"],[\"1961\"],[\"1959\"],[\"1957\"],[\"1957\"],[\"1955\"],[\"1954\"],[\"1953\"],[\"1950\"],[\"1950\"],[\"1948\"],[\"1942\"],[\"1925\"],[\"1924\"],[\"2019\"],[\"2016\"],[\"2016\"],[\"2016\"],[\"2016\"],[\"2014\"],[\"2014\"],[\"2017\"],[\"2015\"],[\"2014\"],[\"2020\"],[\"2014\"],[\"2014\"],[\"2012\"],[\"2014\"],[\"2014\"],[\"2012\"],[\"2016\"],[\"2015\"],[\"2012\"],[\"2013\"],[\"2013\"],[\"2019\"],[\"2015\"],[\"2014\"],[\"2012\"],[\"2011\"],[\"2013\"],[\"2015\"],[\"2008\"],[\"2008\"],[\"2011\"],[\"2008\"],[\"2009\"],[\"2009\"],[\"2010\"],[\"2007\"],[\"2007\"],[\"2006\"],[\"2004\"],[\"2004\"],[\"2004\"],[\"2004\"],[\"2003\"],[\"2003\"],[\"2001\"],[\"2003\"],[\"2003\"],[\"2002\"],[\"2000\"],[\"2001\"],[\"1997\"],[\"2001\"],[\"1999\"],[\"1998\"],[\"1998\"],[\"1998\"],[\"1998\"],[\"2000\"],[\"1996\"],[\"1996\"],[\"1995\"],[\"1995\"],[\"1995\"],[\"1995\"],[\"1994\"],[\"1994\"],[\"1993\"],[\"1993\"],[\"1993\"],[\"1991\"],[\"1989\"],[\"1986\"],[\"1986\"],[\"1984\"],[\"1984\"],[\"1982\"],[\"1982\"],[\"1982\"],[\"1982\"],[\"1982\"],[\"1980\"],[\"1979\"],[\"1978\"],[\"1976\"],[\"1976\"],[\"1975\"],[\"1975\"],[\"1974\"],[\"1973\"],[\"1972\"],[\"1972\"],[\"1967\"],[\"1967\"],[\"1966\"],[\"1966\"],[\"1966\"],[\"1962\"],[\"1962\"],[\"1962\"],[\"1962\"],[\"1962\"],[\"1960\"],[\"1960\"],[\"1959\"],[\"1959\"],[\"1958\"],[\"1957\"],[\"1957\"],[\"1957\"],[\"1954\"],[\"1953\"],[\"1951\"],[\"1949\"],[\"1949\"],[\"1948\"],[\"1940\"],[\"1940\"],[\"1939\"],[\"1939\"],[\"1937\"],[\"1934\"],[\"1928\"],[\"1928\"],[\"1927\"],[\"1926\"],[\"1920\"],[\"2018\"],[\"2019\"],[\"2016\"],[\"2015\"],[\"2015\"],[\"2016\"],[\"2016\"],[\"2015\"],[\"2016\"],[\"2015\"],[\"2013\"],[\"2017\"],[\"2019\"],[\"2013\"],[\"2013\"],[\"2014\"],[\"2014\"],[\"2014\"],[\"2017\"],[\"2013\"],[\"2018\"],[\"2015\"],[\"2012\"],[\"2010\"],[\"2010\"],[\"2011\"],[\"2016\"],[\"2009\"],[\"2009\"],[\"2008\"],[\"2010\"],[\"2009\"],[\"2008\"],[\"2010\"],[\"2007\"],[\"2012\"],[\"2007\"],[\"2013\"],[\"2006\"],[\"2006\"],[\"2007\"],[\"2004\"],[\"2005\"],[\"2007\"],[\"2004\"],[\"2007\"],[\"2006\"],[\"2004\"],[\"2003\"],[\"2003\"],[\"2014\"],[\"2005\"],[\"2003\"],[\"2002\"],[\"2003\"],[\"2003\"],[\"2004\"],[\"2001\"],[\"2003\"],[\"2001\"],[\"2001\"],[\"1999\"],[\"2000\"],[\"1999\"],[\"1997\"],[\"1998\"],[\"1998\"],[\"1999\"],[\"1997\"],[\"1996\"],[\"1996\"],[\"1995\"],[\"1995\"],[\"1993\"],[\"1993\"],[\"1993\"],[\"1992\"],[\"1992\"],[\"1991\"],[\"1991\"],[\"1990\"],[\"1989\"],[\"1988\"],[\"1988\"],[\"1987\"],[\"1987\"],[\"1987\"],[\"1986\"],[\"1984\"],[\"1982\"],[\"1980\"],[\"1979\"],[\"1977\"],[\"1975\"],[\"1975\"],[\"1974\"],[\"1973\"],[\"1973\"],[\"1972\"],[\"1971\"],[\"1971\"],[\"1970\"],[\"1969\"],[\"1968\"],[\"1968\"],[\"1967\"],[\"1966\"],[\"1965\"],[\"1965\"],[\"1964\"],[\"1963\"],[\"1962\"],[\"1961\"],[\"1960\"],[\"1959\"],[\"1959\"],[\"1958\"],[\"1958\"],[\"1957\"],[\"1956\"],[\"1955\"],[\"1954\"],[\"1955\"],[\"1953\"],[\"1953\"],[\"1951\"],[\"1950\"],[\"1949\"],[\"1948\"],[\"1947\"],[\"1945\"],[\"1944\"],[\"1946\"],[\"1942\"],[\"1941\"],[\"1940\"],[\"1939\"],[\"1939\"],[\"1934\"],[\"1930\"],[\"1925\"],[\"2019\"],[\"2020\"],[\"2018\"],[\"2019\"],[\"2017\"],[\"2016\"],[\"2018\"],[\"2016\"],[\"2016\"],[\"2016\"],[\"2017\"],[\"2014\"],[\"2019\"],[\"2016\"],[\"2015\"],[\"2013\"],[\"2014\"],[\"2011\"],[\"2011\"],[\"2014\"],[\"2012\"],[\"2019\"],[\"2009\"],[\"2009\"],[\"2008\"],[\"2009\"],[\"2008\"],[\"2007\"],[\"2014\"],[\"2007\"],[\"2009\"],[\"2008\"],[\"2007\"],[\"2006\"],[\"2006\"],[\"2012\"],[\"2009\"],[\"2005\"],[\"2004\"],[\"2008\"],[\"2004\"],[\"2004\"],[\"2003\"],[\"2004\"],[\"2002\"],[\"2002\"],[\"2001\"],[\"2001\"],[\"2002\"],[\"2000\"],[\"2006\"],[\"2000\"],[\"2001\"],[\"1999\"],[\"1997\"],[\"1995\"],[\"1994\"],[\"1993\"],[\"1993\"],[\"1993\"],[\"1993\"],[\"1990\"],[\"1989\"],[\"1989\"],[\"1987\"],[\"1986\"],[\"1985\"],[\"1984\"],[\"1983\"],[\"1980\"],[\"1979\"],[\"1979\"],[\"1978\"],[\"1976\"],[\"1973\"],[\"1973\"],[\"1972\"],[\"1972\"],[\"1971\"],[\"1970\"],[\"1969\"],[\"1968\"],[\"1968\"],[\"1967\"],[\"1963\"],[\"1962\"],[\"1960\"],[\"1960\"],[\"1959\"],[\"1956\"],[\"1956\"],[\"1955\"],[\"1952\"],[\"1951\"],[\"1950\"],[\"1947\"],[\"1946\"],[\"1946\"],[\"1945\"],[\"1940\"],[\"1940\"],[\"1938\"],[\"1935\"],[\"1933\"],[\"1932\"],[\"1922\"],[\"2019\"],[\"2018\"],[\"2019\"],[\"2016\"],[\"2017\"],[\"2016\"],[\"2016\"],[\"2017\"],[\"2016\"],[\"2016\"],[\"2016\"],[\"2016\"],[\"2015\"],[\"2016\"],[\"2016\"],[\"2015\"],[\"2019\"],[\"2017\"],[\"2014\"],[\"2013\"],[\"2013\"],[\"2013\"],[\"2012\"],[\"2014\"],[\"2013\"],[\"2012\"],[\"2013\"],[\"2019\"],[\"2013\"],[\"2012\"],[\"2014\"],[\"2015\"],[\"2010\"],[\"2010\"],[\"2011\"],[\"2013\"],[\"2010\"],[\"2015\"],[\"2009\"],[\"2008\"],[\"2013\"],[\"2009\"],[\"2009\"],[\"2020\"],[\"2020\"],[\"2010\"],[\"2008\"],[\"2008\"],[\"2007\"],[\"2012\"],[\"2007\"],[\"2007\"],[\"2011\"],[\"2007\"],[\"2009\"],[\"2009\"],[\"2006\"],[\"2006\"],[\"2007\"],[\"2008\"],[\"2004\"],[\"2005\"],[\"2005\"],[\"2005\"],[\"2003\"],[\"2005\"],[\"2005\"],[\"2003\"],[\"2004\"],[\"2004\"],[\"2002\"],[\"2003\"],[\"2000\"],[\"2002\"],[\"2001\"],[\"2000\"],[\"2000\"],[\"1999\"],[\"2000\"],[\"1999\"],[\"1999\"],[\"1999\"],[\"2001\"],[\"1997\"],[\"1997\"],[\"1997\"],[\"1997\"],[\"1996\"],[\"1994\"],[\"1993\"],[\"1993\"],[\"1993\"],[\"1993\"],[\"1993\"],[\"1993\"],[\"1993\"],[\"1993\"],[\"1992\"],[\"1991\"],[\"1991\"],[\"1991\"],[\"1990\"],[\"1990\"],[\"1989\"],[\"1989\"],[\"1989\"],[\"1989\"],[\"1988\"],[\"1987\"],[\"1987\"],[\"1986\"],[\"1986\"],[\"1985\"],[\"1985\"],[\"1985\"],[\"1984\"],[\"1984\"],[\"1983\"],[\"1982\"],[\"1982\"],[\"1979\"],[\"1978\"],[\"1976\"],[\"1975\"],[\"1974\"],[\"1973\"],[\"1973\"],[\"1973\"],[\"1972\"],[\"1971\"],[\"1969\"],[\"1967\"],[\"1967\"],[\"1967\"],[\"1964\"],[\"1964\"],[\"1962\"],[\"1962\"],[\"1961\"],[\"1960\"],[\"1948\"],[\"1948\"],[\"1944\"],[\"1943\"],[\"1939\"],[\"1938\"],[\"1938\"],[\"1935\"],[\"1933\"],[\"1932\"],[\"1931\"],[\"2018\"],[\"2017\"],[\"2018\"],[\"2017\"],[\"2017\"],[\"2018\"],[\"2015\"],[\"2014\"],[\"2014\"],[\"2014\"],[\"2014\"],[\"2014\"],[\"2015\"],[\"2014\"],[\"2013\"],[\"2013\"],[\"2012\"],[\"2014\"],[\"2011\"],[\"2013\"],[\"2012\"],[\"2015\"],[\"2011\"],[\"2011\"],[\"2014\"],[\"2013\"],[\"2013\"],[\"2015\"],[\"2010\"],[\"2011\"],[\"2009\"],[\"2012\"],[\"2012\"],[\"2012\"],[\"2009\"],[\"2010\"],[\"2008\"],[\"2008\"],[\"2006\"],[\"2008\"],[\"2010\"],[\"2006\"],[\"2006\"],[\"2006\"],[\"2014\"],[\"2006\"],[\"2006\"],[\"2007\"],[\"2006\"],[\"2005\"],[\"2007\"],[\"2010\"],[\"2006\"],[\"2005\"],[\"2007\"],[\"2004\"],[\"2004\"],[\"2004\"],[\"2004\"],[\"2004\"],[\"2003\"],[\"2005\"],[\"2004\"],[\"2009\"],[\"2003\"],[\"2002\"],[\"2003\"],[\"2002\"],[\"2001\"],[\"2002\"],[\"2001\"],[\"2002\"],[\"2001\"],[\"2000\"],[\"2001\"],[\"2001\"],[\"2000\"],[\"2000\"],[\"2002\"],[\"1999\"],[\"1999\"],[\"1998\"],[\"2001\"],[\"1998\"],[\"1997\"],[\"1999\"],[\"1997\"],[\"1997\"],[\"1998\"],[\"1997\"],[\"1996\"],[\"1996\"],[\"1996\"],[\"1995\"],[\"1995\"],[\"1994\"],[\"1994\"],[\"1993\"],[\"1993\"],[\"1992\"],[\"1992\"],[\"1992\"],[\"1992\"],[\"1992\"],[\"1992\"],[\"1991\"],[\"1991\"],[\"1990\"],[\"1988\"],[\"1988\"],[\"1987\"],[\"1987\"],[\"1987\"],[\"1986\"],[\"1986\"],[\"1985\"],[\"1985\"],[\"1983\"],[\"1982\"],[\"1982\"],[\"1982\"],[\"1980\"],[\"1980\"],[\"1979\"],[\"1978\"],[\"1976\"],[\"1975\"],[\"1974\"],[\"1974\"],[\"1973\"],[\"1973\"],[\"1972\"],[\"1971\"],[\"1971\"],[\"1968\"],[\"1968\"],[\"1967\"],[\"1967\"],[\"1966\"],[\"1965\"],[\"1964\"],[\"1964\"],[\"1963\"],[\"1962\"],[\"1960\"],[\"1960\"],[\"1960\"],[\"1956\"],[\"1955\"],[\"1955\"],[\"1954\"],[\"1952\"],[\"1951\"],[\"1951\"],[\"1946\"],[\"1940\"],[\"1933\"],[\"2019\"],[\"2018\"],[\"2019\"],[\"2017\"],[\"2017\"],[\"2019\"],[\"2017\"],[\"2019\"],[\"2015\"],[\"2015\"],[\"2017\"],[\"2017\"],[\"2017\"],[\"2015\"],[\"2018\"],[\"2016\"],[\"2015\"],[\"2015\"],[\"2014\"],[\"2016\"],[\"2013\"],[\"2014\"],[\"2012\"],[\"2011\"],[\"2012\"],[\"2010\"],[\"2018\"],[\"2010\"],[\"2010\"],[\"2010\"],[\"2011\"],[\"2010\"],[\"2009\"],[\"2011\"],[\"2011\"],[\"2009\"],[\"2008\"],[\"2009\"],[\"2009\"],[\"2007\"],[\"2008\"],[\"2007\"],[\"2007\"],[\"2009\"],[\"2006\"],[\"2007\"],[\"2007\"],[\"2006\"],[\"2006\"],[\"2004\"],[\"2009\"],[\"2006\"],[\"2005\"],[\"2009\"],[\"2005\"],[\"2004\"],[\"2008\"],[\"2004\"],[\"2003\"],[\"2004\"],[\"2003\"],[\"2003\"],[\"2002\"],[\"2004\"],[\"2002\"],[\"2004\"],[\"2002\"],[\"2000\"],[\"2001\"],[\"2001\"],[\"2001\"],[\"2001\"],[\"2001\"],[\"2001\"],[\"2002\"],[\"1999\"],[\"2000\"],[\"1998\"],[\"1998\"],[\"1998\"],[\"1998\"],[\"1997\"],[\"1998\"],[\"1996\"],[\"1997\"],[\"1995\"],[\"1995\"],[\"1995\"],[\"1995\"],[\"PG\"],[\"1994\"],[\"1993\"],[\"1993\"],[\"1992\"],[\"1991\"],[\"1991\"],[\"1990\"],[\"1990\"],[\"1989\"],[\"1989\"],[\"1988\"],[\"1987\"],[\"1987\"],[\"1984\"],[\"1981\"],[\"1981\"],[\"1979\"],[\"1979\"],[\"1979\"],[\"1978\"],[\"1978\"],[\"1977\"],[\"1973\"],[\"1971\"],[\"1970\"],[\"1967\"],[\"1966\"],[\"1964\"],[\"1961\"],[\"1956\"],[\"1953\"],[\"1944\"],[\"1935\"]],\"hovertemplate\":\"IMDB_Rating=%{x}<br>Released_Year=%{customdata[0]}<extra></extra>\",\"legendgroup\":\"\",\"marker\":{\"color\":\"green\"},\"name\":\"\",\"notched\":false,\"offsetgroup\":\"\",\"orientation\":\"h\",\"showlegend\":false,\"x\":[9.3,9.2,9.0,9.0,9.0,8.9,8.9,8.9,8.8,8.8,8.8,8.8,8.8,8.7,8.7,8.7,8.7,8.7,8.6,8.6,8.6,8.6,8.6,8.6,8.6,8.6,8.6,8.6,8.6,8.6,8.6,8.6,8.6,8.5,8.5,8.5,8.5,8.5,8.5,8.5,8.5,8.5,8.5,8.5,8.5,8.5,8.5,8.5,8.5,8.5,8.5,8.5,8.5,8.4,8.4,8.4,8.4,8.4,8.4,8.4,8.4,8.4,8.4,8.4,8.4,8.4,8.4,8.4,8.4,8.4,8.4,8.4,8.4,8.4,8.4,8.4,8.4,8.4,8.4,8.4,8.4,8.4,8.4,8.4,8.3,8.3,8.3,8.3,8.3,8.3,8.3,8.3,8.3,8.3,8.3,8.3,8.3,8.3,8.3,8.3,8.3,8.3,8.3,8.3,8.3,8.3,8.3,8.3,8.3,8.3,8.3,8.3,8.3,8.3,8.3,8.3,8.3,8.3,8.3,8.3,8.3,8.3,8.3,8.3,8.3,8.3,8.3,8.3,8.2,8.2,8.2,8.2,8.2,8.2,8.2,8.2,8.2,8.2,8.2,8.2,8.2,8.2,8.2,8.2,8.2,8.2,8.2,8.2,8.2,8.2,8.2,8.2,8.2,8.2,8.2,8.2,8.2,8.2,8.2,8.2,8.2,8.2,8.2,8.2,8.2,8.2,8.2,8.2,8.2,8.2,8.2,8.2,8.2,8.2,8.2,8.2,8.2,8.2,8.2,8.2,8.2,8.2,8.2,8.2,8.2,8.2,8.2,8.2,8.2,8.2,8.2,8.2,8.2,8.2,8.2,8.1,8.1,8.1,8.1,8.1,8.1,8.1,8.1,8.1,8.1,8.1,8.1,8.1,8.1,8.1,8.1,8.1,8.1,8.1,8.1,8.1,8.1,8.1,8.1,8.1,8.1,8.1,8.1,8.1,8.1,8.1,8.1,8.1,8.1,8.1,8.1,8.1,8.1,8.1,8.1,8.1,8.1,8.1,8.1,8.1,8.1,8.1,8.1,8.1,8.1,8.1,8.1,8.1,8.1,8.1,8.1,8.1,8.1,8.1,8.1,8.1,8.1,8.1,8.1,8.1,8.1,8.1,8.1,8.1,8.1,8.1,8.1,8.1,8.1,8.1,8.1,8.1,8.1,8.1,8.1,8.1,8.1,8.1,8.1,8.1,8.1,8.1,8.1,8.1,8.1,8.1,8.1,8.1,8.1,8.1,8.1,8.1,8.1,8.1,8.1,8.1,8.1,8.1,8.1,8.1,8.1,8.1,8.1,8.1,8.1,8.1,8.1,8.1,8.1,8.1,8.1,8.1,8.1,8.1,8.1,8.1,8.1,8.1,8.1,8.1,8.1,8.1,8.0,8.0,8.0,8.0,8.0,8.0,8.0,8.0,8.0,8.0,8.0,8.0,8.0,8.0,8.0,8.0,8.0,8.0,8.0,8.0,8.0,8.0,8.0,8.0,8.0,8.0,8.0,8.0,8.0,8.0,8.0,8.0,8.0,8.0,8.0,8.0,8.0,8.0,8.0,8.0,8.0,8.0,8.0,8.0,8.0,8.0,8.0,8.0,8.0,8.0,8.0,8.0,8.0,8.0,8.0,8.0,8.0,8.0,8.0,8.0,8.0,8.0,8.0,8.0,8.0,8.0,8.0,8.0,8.0,8.0,8.0,8.0,8.0,8.0,8.0,8.0,8.0,8.0,8.0,8.0,8.0,8.0,8.0,8.0,8.0,8.0,8.0,8.0,8.0,8.0,8.0,8.0,8.0,8.0,8.0,8.0,8.0,8.0,8.0,8.0,8.0,8.0,8.0,8.0,8.0,8.0,8.0,8.0,8.0,8.0,8.0,8.0,8.0,8.0,8.0,8.0,8.0,8.0,8.0,8.0,8.0,8.0,8.0,8.0,8.0,8.0,8.0,8.0,8.0,8.0,8.0,8.0,8.0,8.0,8.0,8.0,8.0,8.0,8.0,8.0,8.0,7.9,7.9,7.9,7.9,7.9,7.9,7.9,7.9,7.9,7.9,7.9,7.9,7.9,7.9,7.9,7.9,7.9,7.9,7.9,7.9,7.9,7.9,7.9,7.9,7.9,7.9,7.9,7.9,7.9,7.9,7.9,7.9,7.9,7.9,7.9,7.9,7.9,7.9,7.9,7.9,7.9,7.9,7.9,7.9,7.9,7.9,7.9,7.9,7.9,7.9,7.9,7.9,7.9,7.9,7.9,7.9,7.9,7.9,7.9,7.9,7.9,7.9,7.9,7.9,7.9,7.9,7.9,7.9,7.9,7.9,7.9,7.9,7.9,7.9,7.9,7.9,7.9,7.9,7.9,7.9,7.9,7.9,7.9,7.9,7.9,7.9,7.9,7.9,7.9,7.9,7.9,7.9,7.9,7.9,7.9,7.9,7.9,7.9,7.9,7.9,7.9,7.9,7.9,7.9,7.9,7.9,7.8,7.8,7.8,7.8,7.8,7.8,7.8,7.8,7.8,7.8,7.8,7.8,7.8,7.8,7.8,7.8,7.8,7.8,7.8,7.8,7.8,7.8,7.8,7.8,7.8,7.8,7.8,7.8,7.8,7.8,7.8,7.8,7.8,7.8,7.8,7.8,7.8,7.8,7.8,7.8,7.8,7.8,7.8,7.8,7.8,7.8,7.8,7.8,7.8,7.8,7.8,7.8,7.8,7.8,7.8,7.8,7.8,7.8,7.8,7.8,7.8,7.8,7.8,7.8,7.8,7.8,7.8,7.8,7.8,7.8,7.8,7.8,7.8,7.8,7.8,7.8,7.8,7.8,7.8,7.8,7.8,7.8,7.8,7.8,7.8,7.8,7.8,7.8,7.8,7.8,7.8,7.8,7.8,7.8,7.8,7.8,7.8,7.8,7.8,7.8,7.8,7.8,7.8,7.8,7.8,7.8,7.8,7.8,7.8,7.8,7.8,7.8,7.8,7.8,7.8,7.8,7.8,7.8,7.8,7.8,7.8,7.8,7.8,7.8,7.8,7.8,7.8,7.8,7.8,7.8,7.8,7.8,7.8,7.8,7.8,7.8,7.8,7.8,7.8,7.8,7.8,7.8,7.8,7.8,7.8,7.8,7.8,7.8,7.8,7.8,7.8,7.7,7.7,7.7,7.7,7.7,7.7,7.7,7.7,7.7,7.7,7.7,7.7,7.7,7.7,7.7,7.7,7.7,7.7,7.7,7.7,7.7,7.7,7.7,7.7,7.7,7.7,7.7,7.7,7.7,7.7,7.7,7.7,7.7,7.7,7.7,7.7,7.7,7.7,7.7,7.7,7.7,7.7,7.7,7.7,7.7,7.7,7.7,7.7,7.7,7.7,7.7,7.7,7.7,7.7,7.7,7.7,7.7,7.7,7.7,7.7,7.7,7.7,7.7,7.7,7.7,7.7,7.7,7.7,7.7,7.7,7.7,7.7,7.7,7.7,7.7,7.7,7.7,7.7,7.7,7.7,7.7,7.7,7.7,7.7,7.7,7.7,7.7,7.7,7.7,7.7,7.7,7.7,7.7,7.7,7.7,7.7,7.7,7.7,7.7,7.7,7.7,7.7,7.7,7.7,7.7,7.7,7.7,7.7,7.7,7.7,7.7,7.7,7.7,7.7,7.7,7.7,7.7,7.7,7.7,7.7,7.7,7.7,7.7,7.7,7.7,7.7,7.7,7.7,7.7,7.7,7.7,7.7,7.7,7.7,7.7,7.7,7.7,7.7,7.7,7.7,7.7,7.7,7.7,7.7,7.7,7.7,7.7,7.7,7.7,7.7,7.7,7.7,7.7,7.7,7.7,7.7,7.7,7.6,7.6,7.6,7.6,7.6,7.6,7.6,7.6,7.6,7.6,7.6,7.6,7.6,7.6,7.6,7.6,7.6,7.6,7.6,7.6,7.6,7.6,7.6,7.6,7.6,7.6,7.6,7.6,7.6,7.6,7.6,7.6,7.6,7.6,7.6,7.6,7.6,7.6,7.6,7.6,7.6,7.6,7.6,7.6,7.6,7.6,7.6,7.6,7.6,7.6,7.6,7.6,7.6,7.6,7.6,7.6,7.6,7.6,7.6,7.6,7.6,7.6,7.6,7.6,7.6,7.6,7.6,7.6,7.6,7.6,7.6,7.6,7.6,7.6,7.6,7.6,7.6,7.6,7.6,7.6,7.6,7.6,7.6,7.6,7.6,7.6,7.6,7.6,7.6,7.6,7.6,7.6,7.6,7.6,7.6,7.6,7.6,7.6,7.6,7.6,7.6,7.6,7.6,7.6,7.6,7.6,7.6,7.6,7.6,7.6,7.6,7.6,7.6,7.6,7.6,7.6,7.6,7.6,7.6,7.6,7.6,7.6,7.6],\"x0\":\" \",\"xaxis\":\"x\",\"y0\":\" \",\"yaxis\":\"y\",\"type\":\"box\"}],                        {\"template\":{\"data\":{\"histogram2dcontour\":[{\"type\":\"histogram2dcontour\",\"colorbar\":{\"outlinewidth\":0,\"ticks\":\"\"},\"colorscale\":[[0.0,\"#0d0887\"],[0.1111111111111111,\"#46039f\"],[0.2222222222222222,\"#7201a8\"],[0.3333333333333333,\"#9c179e\"],[0.4444444444444444,\"#bd3786\"],[0.5555555555555556,\"#d8576b\"],[0.6666666666666666,\"#ed7953\"],[0.7777777777777778,\"#fb9f3a\"],[0.8888888888888888,\"#fdca26\"],[1.0,\"#f0f921\"]]}],\"choropleth\":[{\"type\":\"choropleth\",\"colorbar\":{\"outlinewidth\":0,\"ticks\":\"\"}}],\"histogram2d\":[{\"type\":\"histogram2d\",\"colorbar\":{\"outlinewidth\":0,\"ticks\":\"\"},\"colorscale\":[[0.0,\"#0d0887\"],[0.1111111111111111,\"#46039f\"],[0.2222222222222222,\"#7201a8\"],[0.3333333333333333,\"#9c179e\"],[0.4444444444444444,\"#bd3786\"],[0.5555555555555556,\"#d8576b\"],[0.6666666666666666,\"#ed7953\"],[0.7777777777777778,\"#fb9f3a\"],[0.8888888888888888,\"#fdca26\"],[1.0,\"#f0f921\"]]}],\"heatmap\":[{\"type\":\"heatmap\",\"colorbar\":{\"outlinewidth\":0,\"ticks\":\"\"},\"colorscale\":[[0.0,\"#0d0887\"],[0.1111111111111111,\"#46039f\"],[0.2222222222222222,\"#7201a8\"],[0.3333333333333333,\"#9c179e\"],[0.4444444444444444,\"#bd3786\"],[0.5555555555555556,\"#d8576b\"],[0.6666666666666666,\"#ed7953\"],[0.7777777777777778,\"#fb9f3a\"],[0.8888888888888888,\"#fdca26\"],[1.0,\"#f0f921\"]]}],\"heatmapgl\":[{\"type\":\"heatmapgl\",\"colorbar\":{\"outlinewidth\":0,\"ticks\":\"\"},\"colorscale\":[[0.0,\"#0d0887\"],[0.1111111111111111,\"#46039f\"],[0.2222222222222222,\"#7201a8\"],[0.3333333333333333,\"#9c179e\"],[0.4444444444444444,\"#bd3786\"],[0.5555555555555556,\"#d8576b\"],[0.6666666666666666,\"#ed7953\"],[0.7777777777777778,\"#fb9f3a\"],[0.8888888888888888,\"#fdca26\"],[1.0,\"#f0f921\"]]}],\"contourcarpet\":[{\"type\":\"contourcarpet\",\"colorbar\":{\"outlinewidth\":0,\"ticks\":\"\"}}],\"contour\":[{\"type\":\"contour\",\"colorbar\":{\"outlinewidth\":0,\"ticks\":\"\"},\"colorscale\":[[0.0,\"#0d0887\"],[0.1111111111111111,\"#46039f\"],[0.2222222222222222,\"#7201a8\"],[0.3333333333333333,\"#9c179e\"],[0.4444444444444444,\"#bd3786\"],[0.5555555555555556,\"#d8576b\"],[0.6666666666666666,\"#ed7953\"],[0.7777777777777778,\"#fb9f3a\"],[0.8888888888888888,\"#fdca26\"],[1.0,\"#f0f921\"]]}],\"surface\":[{\"type\":\"surface\",\"colorbar\":{\"outlinewidth\":0,\"ticks\":\"\"},\"colorscale\":[[0.0,\"#0d0887\"],[0.1111111111111111,\"#46039f\"],[0.2222222222222222,\"#7201a8\"],[0.3333333333333333,\"#9c179e\"],[0.4444444444444444,\"#bd3786\"],[0.5555555555555556,\"#d8576b\"],[0.6666666666666666,\"#ed7953\"],[0.7777777777777778,\"#fb9f3a\"],[0.8888888888888888,\"#fdca26\"],[1.0,\"#f0f921\"]]}],\"mesh3d\":[{\"type\":\"mesh3d\",\"colorbar\":{\"outlinewidth\":0,\"ticks\":\"\"}}],\"scatter\":[{\"fillpattern\":{\"fillmode\":\"overlay\",\"size\":10,\"solidity\":0.2},\"type\":\"scatter\"}],\"parcoords\":[{\"type\":\"parcoords\",\"line\":{\"colorbar\":{\"outlinewidth\":0,\"ticks\":\"\"}}}],\"scatterpolargl\":[{\"type\":\"scatterpolargl\",\"marker\":{\"colorbar\":{\"outlinewidth\":0,\"ticks\":\"\"}}}],\"bar\":[{\"error_x\":{\"color\":\"#2a3f5f\"},\"error_y\":{\"color\":\"#2a3f5f\"},\"marker\":{\"line\":{\"color\":\"#E5ECF6\",\"width\":0.5},\"pattern\":{\"fillmode\":\"overlay\",\"size\":10,\"solidity\":0.2}},\"type\":\"bar\"}],\"scattergeo\":[{\"type\":\"scattergeo\",\"marker\":{\"colorbar\":{\"outlinewidth\":0,\"ticks\":\"\"}}}],\"scatterpolar\":[{\"type\":\"scatterpolar\",\"marker\":{\"colorbar\":{\"outlinewidth\":0,\"ticks\":\"\"}}}],\"histogram\":[{\"marker\":{\"pattern\":{\"fillmode\":\"overlay\",\"size\":10,\"solidity\":0.2}},\"type\":\"histogram\"}],\"scattergl\":[{\"type\":\"scattergl\",\"marker\":{\"colorbar\":{\"outlinewidth\":0,\"ticks\":\"\"}}}],\"scatter3d\":[{\"type\":\"scatter3d\",\"line\":{\"colorbar\":{\"outlinewidth\":0,\"ticks\":\"\"}},\"marker\":{\"colorbar\":{\"outlinewidth\":0,\"ticks\":\"\"}}}],\"scattermapbox\":[{\"type\":\"scattermapbox\",\"marker\":{\"colorbar\":{\"outlinewidth\":0,\"ticks\":\"\"}}}],\"scatterternary\":[{\"type\":\"scatterternary\",\"marker\":{\"colorbar\":{\"outlinewidth\":0,\"ticks\":\"\"}}}],\"scattercarpet\":[{\"type\":\"scattercarpet\",\"marker\":{\"colorbar\":{\"outlinewidth\":0,\"ticks\":\"\"}}}],\"carpet\":[{\"aaxis\":{\"endlinecolor\":\"#2a3f5f\",\"gridcolor\":\"white\",\"linecolor\":\"white\",\"minorgridcolor\":\"white\",\"startlinecolor\":\"#2a3f5f\"},\"baxis\":{\"endlinecolor\":\"#2a3f5f\",\"gridcolor\":\"white\",\"linecolor\":\"white\",\"minorgridcolor\":\"white\",\"startlinecolor\":\"#2a3f5f\"},\"type\":\"carpet\"}],\"table\":[{\"cells\":{\"fill\":{\"color\":\"#EBF0F8\"},\"line\":{\"color\":\"white\"}},\"header\":{\"fill\":{\"color\":\"#C8D4E3\"},\"line\":{\"color\":\"white\"}},\"type\":\"table\"}],\"barpolar\":[{\"marker\":{\"line\":{\"color\":\"#E5ECF6\",\"width\":0.5},\"pattern\":{\"fillmode\":\"overlay\",\"size\":10,\"solidity\":0.2}},\"type\":\"barpolar\"}],\"pie\":[{\"automargin\":true,\"type\":\"pie\"}]},\"layout\":{\"autotypenumbers\":\"strict\",\"colorway\":[\"#636efa\",\"#EF553B\",\"#00cc96\",\"#ab63fa\",\"#FFA15A\",\"#19d3f3\",\"#FF6692\",\"#B6E880\",\"#FF97FF\",\"#FECB52\"],\"font\":{\"color\":\"#2a3f5f\"},\"hovermode\":\"closest\",\"hoverlabel\":{\"align\":\"left\"},\"paper_bgcolor\":\"white\",\"plot_bgcolor\":\"#E5ECF6\",\"polar\":{\"bgcolor\":\"#E5ECF6\",\"angularaxis\":{\"gridcolor\":\"white\",\"linecolor\":\"white\",\"ticks\":\"\"},\"radialaxis\":{\"gridcolor\":\"white\",\"linecolor\":\"white\",\"ticks\":\"\"}},\"ternary\":{\"bgcolor\":\"#E5ECF6\",\"aaxis\":{\"gridcolor\":\"white\",\"linecolor\":\"white\",\"ticks\":\"\"},\"baxis\":{\"gridcolor\":\"white\",\"linecolor\":\"white\",\"ticks\":\"\"},\"caxis\":{\"gridcolor\":\"white\",\"linecolor\":\"white\",\"ticks\":\"\"}},\"coloraxis\":{\"colorbar\":{\"outlinewidth\":0,\"ticks\":\"\"}},\"colorscale\":{\"sequential\":[[0.0,\"#0d0887\"],[0.1111111111111111,\"#46039f\"],[0.2222222222222222,\"#7201a8\"],[0.3333333333333333,\"#9c179e\"],[0.4444444444444444,\"#bd3786\"],[0.5555555555555556,\"#d8576b\"],[0.6666666666666666,\"#ed7953\"],[0.7777777777777778,\"#fb9f3a\"],[0.8888888888888888,\"#fdca26\"],[1.0,\"#f0f921\"]],\"sequentialminus\":[[0.0,\"#0d0887\"],[0.1111111111111111,\"#46039f\"],[0.2222222222222222,\"#7201a8\"],[0.3333333333333333,\"#9c179e\"],[0.4444444444444444,\"#bd3786\"],[0.5555555555555556,\"#d8576b\"],[0.6666666666666666,\"#ed7953\"],[0.7777777777777778,\"#fb9f3a\"],[0.8888888888888888,\"#fdca26\"],[1.0,\"#f0f921\"]],\"diverging\":[[0,\"#8e0152\"],[0.1,\"#c51b7d\"],[0.2,\"#de77ae\"],[0.3,\"#f1b6da\"],[0.4,\"#fde0ef\"],[0.5,\"#f7f7f7\"],[0.6,\"#e6f5d0\"],[0.7,\"#b8e186\"],[0.8,\"#7fbc41\"],[0.9,\"#4d9221\"],[1,\"#276419\"]]},\"xaxis\":{\"gridcolor\":\"white\",\"linecolor\":\"white\",\"ticks\":\"\",\"title\":{\"standoff\":15},\"zerolinecolor\":\"white\",\"automargin\":true,\"zerolinewidth\":2},\"yaxis\":{\"gridcolor\":\"white\",\"linecolor\":\"white\",\"ticks\":\"\",\"title\":{\"standoff\":15},\"zerolinecolor\":\"white\",\"automargin\":true,\"zerolinewidth\":2},\"scene\":{\"xaxis\":{\"backgroundcolor\":\"#E5ECF6\",\"gridcolor\":\"white\",\"linecolor\":\"white\",\"showbackground\":true,\"ticks\":\"\",\"zerolinecolor\":\"white\",\"gridwidth\":2},\"yaxis\":{\"backgroundcolor\":\"#E5ECF6\",\"gridcolor\":\"white\",\"linecolor\":\"white\",\"showbackground\":true,\"ticks\":\"\",\"zerolinecolor\":\"white\",\"gridwidth\":2},\"zaxis\":{\"backgroundcolor\":\"#E5ECF6\",\"gridcolor\":\"white\",\"linecolor\":\"white\",\"showbackground\":true,\"ticks\":\"\",\"zerolinecolor\":\"white\",\"gridwidth\":2}},\"shapedefaults\":{\"line\":{\"color\":\"#2a3f5f\"}},\"annotationdefaults\":{\"arrowcolor\":\"#2a3f5f\",\"arrowhead\":0,\"arrowwidth\":1},\"geo\":{\"bgcolor\":\"white\",\"landcolor\":\"#E5ECF6\",\"subunitcolor\":\"white\",\"showland\":true,\"showlakes\":true,\"lakecolor\":\"white\"},\"title\":{\"x\":0.05},\"mapbox\":{\"style\":\"light\"}}},\"xaxis\":{\"anchor\":\"y\",\"domain\":[0.0,1.0],\"title\":{\"text\":\"IMDB_Rating\"}},\"yaxis\":{\"anchor\":\"x\",\"domain\":[0.0,1.0]},\"legend\":{\"tracegroupgap\":0},\"title\":{\"text\":\"IMDB_Rating stats\"},\"boxmode\":\"group\"},                        {\"responsive\": true}                    ).then(function(){\n",
              "                            \n",
              "var gd = document.getElementById('9aa3fdf0-99a5-48ee-b012-97ce852546b8');\n",
              "var x = new MutationObserver(function (mutations, observer) {{\n",
              "        var display = window.getComputedStyle(gd).display;\n",
              "        if (!display || display === 'none') {{\n",
              "            console.log([gd, 'removed!']);\n",
              "            Plotly.purge(gd);\n",
              "            observer.disconnect();\n",
              "        }}\n",
              "}});\n",
              "\n",
              "// Listen for the removal of the full notebook cells\n",
              "var notebookContainer = gd.closest('#notebook-container');\n",
              "if (notebookContainer) {{\n",
              "    x.observe(notebookContainer, {childList: true});\n",
              "}}\n",
              "\n",
              "// Listen for the clearing of the current output cell\n",
              "var outputEl = gd.closest('.output');\n",
              "if (outputEl) {{\n",
              "    x.observe(outputEl, {childList: true});\n",
              "}}\n",
              "\n",
              "                        })                };                            </script>        </div>\n",
              "</body>\n",
              "</html>"
            ]
          },
          "metadata": {}
        }
      ]
    },
    {
      "cell_type": "markdown",
      "source": [
        "Here we can even get the released year of the outliers\n"
      ],
      "metadata": {
        "id": "8m3DDz317ttG"
      }
    },
    {
      "cell_type": "code",
      "source": [
        "px.scatter(movies, x = 'Certificate', y = 'Released_Year',title = 'IMDB rating scattering over the years')"
      ],
      "metadata": {
        "id": "l2nGN1Cy7yHe",
        "outputId": "f76fbe1a-2d20-416c-f843-009222accbf2",
        "colab": {
          "base_uri": "https://localhost:8080/",
          "height": 542
        }
      },
      "execution_count": null,
      "outputs": [
        {
          "output_type": "display_data",
          "data": {
            "text/html": [
              "<html>\n",
              "<head><meta charset=\"utf-8\" /></head>\n",
              "<body>\n",
              "    <div>            <script src=\"https://cdnjs.cloudflare.com/ajax/libs/mathjax/2.7.5/MathJax.js?config=TeX-AMS-MML_SVG\"></script><script type=\"text/javascript\">if (window.MathJax && window.MathJax.Hub && window.MathJax.Hub.Config) {window.MathJax.Hub.Config({SVG: {font: \"STIX-Web\"}});}</script>                <script type=\"text/javascript\">window.PlotlyConfig = {MathJaxConfig: 'local'};</script>\n",
              "        <script src=\"https://cdn.plot.ly/plotly-2.18.2.min.js\"></script>                <div id=\"316a23ba-917b-40aa-95ad-9e5621e971b3\" class=\"plotly-graph-div\" style=\"height:525px; width:100%;\"></div>            <script type=\"text/javascript\">                                    window.PLOTLYENV=window.PLOTLYENV || {};                                    if (document.getElementById(\"316a23ba-917b-40aa-95ad-9e5621e971b3\")) {                    Plotly.newPlot(                        \"316a23ba-917b-40aa-95ad-9e5621e971b3\",                        [{\"hovertemplate\":\"Certificate=%{x}<br>Released_Year=%{y}<extra></extra>\",\"legendgroup\":\"\",\"marker\":{\"color\":\"#636efa\",\"symbol\":\"circle\"},\"mode\":\"markers\",\"name\":\"\",\"orientation\":\"v\",\"showlegend\":false,\"x\":[\"A\",\"A\",\"UA\",\"A\",\"U\",\"U\",\"A\",\"A\",\"UA\",\"A\",\"U\",\"UA\",\"A\",\"UA\",\"A\",\"A\",\"UA\",\"A\",\"PG-13\",\"A\",\"U\",\"UA\",\"A\",\"U\",\"R\",\"A\",\"U\",\"A\",\"A\",\"UA\",null,\"U\",\"PG\",\"A\",\"A\",\"UA\",\"U\",\"A\",\"R\",\"UA\",\"R\",\"A\",\"A\",\"U\",\"U\",\"U\",\"U\",\"U\",\"U\",\"A\",\"U\",\"G\",\"G\",\"A\",null,\"UA\",\"U\",\"U\",\"U\",\"UA\",\"UA\",\"U\",\"A\",\"UA\",\"UA\",\"U\",\"U\",\"A\",\"A\",\"UA\",\"U\",\"A\",\"A\",\"A\",\"R\",\"R\",\"U\",null,\"A\",\"U\",\"A\",\"U\",\"Passed\",\"Passed\",\"R\",\"A\",\"UA\",\"U\",\"R\",\"PG-13\",\"R\",\"TV-14\",null,\"A\",\"UA\",\"U\",\"UA\",\"A\",\"UA\",\"U\",\"PG\",\"U\",\"A\",\"R\",\"UA\",\"A\",\"U\",\"R\",\"A\",\"U\",\"R\",\"A\",\"U\",\"A\",\"U\",\"U\",\"U\",\"U\",\"U\",\"A\",\"G\",null,null,\"Passed\",\"UA\",\"Passed\",null,\"Passed\",\"UA\",\"UA\",\"UA\",\"UA\",\"A\",\"UA\",\"UA\",\"PG\",\"UA\",\"UA\",null,\"U\",\"A\",\"UA\",\"UA\",\"R\",\"UA\",\"A\",\"U\",\"A\",\"U\",\"A\",\"UA\",\"U\",\"A\",\"UA\",\"U\",\"UA\",\"U\",\"R\",\"U\",\"UA\",\"U\",\"A\",\"A\",null,\"A\",\"A\",\"U\",\"A\",\"U\",\"R\",\"U\",\"A\",\"U\",\"A\",\"U\",\"U\",\"PG\",\"U\",\"PG\",\"U\",\"U\",null,\"A\",\"U\",\"U\",\"A\",null,\"A\",\"U\",null,\"Passed\",\"Passed\",\"Passed\",\"Passed\",\"Passed\",\"R\",\"UA\",\"16\",\"TV-MA\",\"A\",\"R\",\"UA\",\"A\",\"R\",\"R\",\"U\",null,\"UA\",\"U\",\"UA\",\"A\",\"U\",\"A\",\"U\",\"U\",\"A\",\"UA\",\"UA\",\"A\",\"PG\",\"UA\",\"U\",\"A\",\"UA\",\"UA\",\"R\",\"UA\",\"PG-13\",\"G\",null,\"U\",\"R\",\"R\",\"U\",\"UA\",\"PG-13\",\"R\",\"R\",\"U\",\"UA\",\"Unrated\",\"R\",\"U\",\"A\",\"A\",\"U\",\"UA\",\"U\",\"A\",\"U\",\"U\",\"R\",\"R\",\"U\",\"A\",\"A\",null,\"UA\",\"U\",\"R\",\"U\",\"U\",\"UA\",\"UA\",\"R\",\"PG\",\"U\",\"U\",\"A\",\"U\",\"U\",\"A\",\"UA\",\"R\",\"A\",\"UA\",\"UA\",\"R\",\"A\",\"U\",\"UA\",\"PG\",\"G\",\"UA\",\"U\",\"A\",\"PG\",\"GP\",\"A\",null,\"R\",null,null,\"Passed\",\"U\",null,null,\"A\",\"Passed\",null,\"U\",null,null,null,\"PG\",\"A\",\"U\",\"Approved\",null,\"Approved\",null,null,\"Approved\",\"Passed\",\"U\",null,\"Approved\",\"Passed\",\"Passed\",\"Passed\",\"Passed\",null,\"UA\",\"U\",\"UA\",\"UA\",\"UA\",\"A\",\"U\",\"UA\",\"U\",\"UA\",\"U\",\"U\",\"UA\",\"UA\",\"R\",\"A\",\"UA\",\"UA\",\"UA\",\"A\",\"UA\",\"A\",\"UA\",null,\"U\",\"UA\",\"R\",\"TV-PG\",\"A\",\"R\",\"UA\",null,\"UA\",\"A\",\"R\",\"UA\",\"PG-13\",\"R\",\"U\",\"A\",\"UA\",\"U\",\"A\",\"PG-13\",null,\"U\",\"PG-13\",\"A\",null,\"R\",\"U\",\"UA\",\"U\",\"UA\",\"UA\",\"U\",\"U\",null,\"R\",null,\"R\",\"R\",\"U\",\"U\",\"A\",\"R\",\"R\",\"PG\",null,\"R\",\"U\",\"A\",\"UA\",\"U\",\"U\",\"R\",\"UA\",\"U\",\"UA\",\"G\",\"U\",\"R\",\"U\",\"UA\",\"U\",\"U\",\"U\",\"U\",\"UA\",\"U\",\"U\",\"PG\",\"A\",\"A\",\"U\",\"A\",\"R\",\"A\",\"PG\",\"R\",\"G\",\"UA\",\"PG\",\"A\",\"U\",\"A\",\"A\",\"U\",\"A\",\"A\",null,null,\"A\",\"A\",\"Passed\",null,\"PG-13\",\"A\",\"Approved\",\"Approved\",null,null,null,null,null,\"A\",null,\"U\",\"A\",null,\"U\",\"Passed\",\"Approved\",null,null,\"Passed\",\"U\",null,\"TV-PG\",\"U\",null,\"UA\",\"UA\",\"A\",\"U\",\"UA\",\"UA\",\"U\",\"UA\",\"R\",\"PG-13\",\"UA\",\"A\",\"UA\",\"UA\",\"U\",\"R\",\"UA\",null,\"U\",\"UA\",\"UA\",\"R\",\"A\",\"R\",\"R\",\"A\",\"UA\",\"U\",\"A\",null,\"UA\",\"R\",null,\"UA\",\"R\",\"U\",\"PG\",null,\"PG-13\",\"UA\",\"UA\",\"R\",\"A\",\"U\",\"PG-13\",\"R\",\"R\",\"U\",\"UA\",\"R\",\"A\",\"A\",\"R\",\"U\",\"R\",\"U\",\"A\",\"R\",\"U\",\"A\",\"A\",\"U\",\"U\",\"PG-13\",\"A\",\"PG-13\",\"U\",\"R\",\"U\",\"U\",\"R\",\"A\",\"A\",\"U\",\"R\",\"R\",\"PG\",null,\"PG\",\"U\",\"A\",null,\"PG\",\"U\",\"U\",\"PG-13\",\"A\",\"U\",null,\"U\",\"Passed\",\"U\",\"PG\",\"A\",\"Approved\",null,\"U\",\"Passed\",\"Passed\",null,\"Passed\",\"PG\",\"Passed\",\"Passed\",null,null,\"A\",\"UA\",\"R\",\"UA\",\"UA\",null,\"UA\",\"U\",\"A\",\"PG\",\"U\",\"UA\",\"R\",\"UA\",\"UA\",\"A\",\"U\",\"UA\",\"R\",\"PG-13\",null,\"U\",\"UA\",\"U\",\"R\",\"U\",\"PG-13\",\"U\",\"R\",\"A\",\"U\",\"A\",null,null,\"R\",\"UA\",\"R\",\"R\",\"R\",null,\"UA\",\"UA\",\"R\",\"R\",null,\"UA\",\"A\",\"PG-13\",\"R\",\"UA\",null,\"R\",\"A\",\"A\",\"UA\",\"R\",\"A\",\"UA\",\"UA\",\"UA\",\"U\",\"R\",\"PG\",\"U\",\"UA\",\"PG-13\",\"PG-13\",null,\"A\",\"U\",\"R\",\"PG-13\",null,\"PG-13\",\"R\",\"U\",\"UA\",\"R\",\"UA\",\"R\",\"UA\",\"PG\",\"U\",\"UA\",null,\"UA\",\"UA\",\"R\",\"U\",\"U\",\"R\",\"U\",\"U\",null,\"U\",\"R\",\"PG\",\"R\",\"R\",\"R\",\"A\",\"R\",\"U\",\"U\",\"R\",\"R\",\"U\",\"A\",\"A\",\"A\",\"U\",\"R\",\"U\",\"U\",\"UA\",\"UA\",\"UA\",\"PG\",\"U\",\"U\",\"A\",\"PG\",\"A\",\"PG\",\"U\",\"U\",\"A\",\"PG\",\"A\",\"U\",\"A\",null,null,\"A\",\"U\",\"U\",\"G\",null,\"A\",\"U\",\"Passed\",null,\"PG\",\"PG\",\"Passed\",null,\"Passed\",null,null,\"PG\",\"Passed\",\"R\",null,\"R\",\"R\",\"R\",\"UA\",\"PG-13\",\"R\",\"U\",\"U\",\"A\",\"UA\",\"PG-13\",\"A\",\"A\",\"U\",null,\"UA\",\"UA\",\"UA\",\"U\",\"PG\",null,\"PG-13\",\"U\",\"UA\",\"UA\",null,\"UA\",\"UA\",\"UA\",\"UA\",\"A\",\"A\",\"UA\",\"A\",\"U\",\"R\",\"U\",\"R\",\"PG\",\"U\",null,null,\"UA\",\"R\",\"R\",\"UA\",\"R\",\"PG-13\",\"R\",\"U\",\"R\",\"A\",\"A\",\"UA\",\"UA\",\"A\",\"R\",\"A\",\"UA\",\"UA\",\"UA\",\"U\",\"UA\",\"R\",\"R\",\"PG-13\",\"PG-13\",\"R\",\"A\",\"A\",\"R\",\"R\",\"R\",\"UA\",\"U\",\"U\",\"R\",\"A\",\"R\",null,\"A\",\"UA\",\"U\",\"R\",\"A\",\"UA\",\"PG-13\",\"A\",\"U\",\"A\",\"PG-13\",\"U\",\"UA\",\"U\",\"R\",\"R\",\"UA\",\"G\",\"U\",\"UA\",\"U\",\"R\",\"U\",\"PG-13\",\"U\",\"R\",\"U\",null,\"R\",\"U\",\"U\",\"R\",\"A\",\"U\",\"UA\",\"PG\",\"U\",\"U\",\"A\",\"U\",\"U\",\"U\",\"A\",\"R\",\"PG\",\"U\",\"A\",\"A\",\"A\",\"U\",\"A\",\"A\",\"U\",\"G\",null,\"A\",\"U\",null,\"U\",\"A\",\"A\",\"Passed\",null,\"Approved\",null,\"Approved\",\"PG-13\",null,\"Passed\",\"Passed\",\"U\",\"PG\",\"Approved\",\"G\",\"TV-PG\",\"PG-13\",\"U/A\",\"A\",\"R\",\"A\",\"A\",\"PG-13\",\"PG-13\",null,\"PG-13\",\"UA\",\"UA\",\"UA\",\"UA\",\"UA\",\"U\",\"A\",\"A\",\"R\",\"R\",\"PG-13\",\"UA\",null,\"A\",\"A\",\"U\",\"UA\",\"PG-13\",\"R\",\"U\",\"R\",\"UA\",null,\"PG-13\",\"R\",\"A\",null,\"PG-13\",\"UA\",\"PG-13\",\"UA\",\"R\",\"U\",null,\"R\",\"R\",\"PG-13\",\"PG-13\",\"U\",null,\"UA\",\"A\",\"R\",\"A\",\"R\",\"UA\",\"R\",\"R\",\"R\",\"U\",\"R\",\"UA\",\"R\",\"U\",\"R\",\"U\",\"A\",null,\"A\",\"A\",\"U\",\"PG-13\",\"R\",\"A\",\"A\",\"R\",\"A\",\"UA\",\"A\",\"U\",\"R\",\"A\",\"A\",\"UA\",\"A\",\"U\",\"A\",\"R\",\"A\",\"U\",\"U\",\"R\",\"U\",\"UA\",\"U\",\"R\",\"U\",\"A\",\"UA\",\"U\",\"U\",\"U\",\"A\",\"A\",\"UA\",\"A\",\"UA\",\"U\",\"A\",\"U\",\"A\",\"U\",\"A\",\"PG\",\"GP\",\"U\",\"A\",\"U\",\"A\",\"G\",\"Passed\",null,null],\"xaxis\":\"x\",\"y\":[\"1994\",\"1972\",\"2008\",\"1974\",\"1957\",\"2003\",\"1994\",\"1993\",\"2010\",\"1999\",\"2001\",\"1994\",\"1966\",\"2002\",\"1999\",\"1990\",\"1980\",\"1975\",\"2020\",\"2019\",\"2020\",\"2014\",\"2002\",\"2001\",\"1998\",\"1999\",\"1997\",\"1995\",\"1991\",\"1977\",\"1962\",\"1954\",\"1946\",\"2019\",\"2014\",\"2011\",\"2006\",\"2006\",\"2002\",\"2000\",\"1998\",\"1995\",\"1994\",\"1994\",\"1991\",\"1988\",\"1988\",\"1985\",\"1968\",\"1960\",\"1942\",\"1936\",\"1931\",\"2018\",\"2017\",\"2017\",\"2016\",\"2016\",\"2018\",\"2019\",\"2018\",\"2017\",\"2012\",\"2012\",\"2009\",\"2007\",\"2008\",\"2006\",\"2003\",\"2000\",\"1997\",\"1984\",\"1981\",\"1980\",\"1979\",\"1979\",\"1971\",\"1963\",\"1964\",\"1957\",\"1957\",\"1954\",\"1950\",\"1940\",\"2019\",\"2018\",\"2018\",\"2013\",\"2012\",\"2011\",\"2010\",\"2019\",\"2005\",\"2009\",\"2004\",\"2001\",\"2000\",\"2000\",\"1999\",\"1997\",\"1997\",\"1995\",\"1995\",\"1992\",\"1987\",\"1985\",\"1986\",\"1984\",\"1983\",\"1983\",\"1981\",\"1976\",\"1973\",\"1971\",\"1968\",\"1965\",\"1962\",\"1960\",\"1959\",\"1958\",\"1952\",\"1952\",\"1948\",\"1944\",\"1941\",\"1931\",\"1927\",\"1921\",\"2019\",\"2018\",\"2018\",\"2018\",\"2017\",\"2015\",\"2017\",\"2019\",\"2015\",\"2013\",\"2013\",\"2013\",\"2012\",\"2010\",\"2012\",\"2009\",\"2011\",\"2010\",\"2009\",\"2013\",\"2007\",\"2007\",\"2006\",\"2010\",\"2005\",\"2006\",\"2005\",\"2005\",\"2004\",\"2004\",\"2004\",\"2001\",\"2000\",\"1998\",\"1997\",\"1996\",\"1995\",\"1995\",\"1994\",\"1992\",\"1989\",\"1988\",\"1988\",\"1988\",\"1985\",\"1980\",\"1979\",\"1978\",\"1976\",\"1975\",\"1975\",\"1963\",\"1962\",\"1961\",\"1961\",\"1959\",\"1957\",\"1957\",\"1955\",\"1954\",\"1953\",\"1950\",\"1950\",\"1948\",\"1942\",\"1925\",\"1924\",\"2019\",\"2016\",\"2016\",\"2016\",\"2016\",\"2014\",\"2014\",\"2017\",\"2015\",\"2014\",\"2020\",\"2014\",\"2014\",\"2012\",\"2014\",\"2014\",\"2012\",\"2016\",\"2015\",\"2012\",\"2013\",\"2013\",\"2019\",\"2015\",\"2014\",\"2012\",\"2011\",\"2013\",\"2015\",\"2008\",\"2008\",\"2011\",\"2008\",\"2009\",\"2009\",\"2010\",\"2007\",\"2007\",\"2006\",\"2004\",\"2004\",\"2004\",\"2004\",\"2003\",\"2003\",\"2001\",\"2003\",\"2003\",\"2002\",\"2000\",\"2001\",\"1997\",\"2001\",\"1999\",\"1998\",\"1998\",\"1998\",\"1998\",\"2000\",\"1996\",\"1996\",\"1995\",\"1995\",\"1995\",\"1995\",\"1994\",\"1994\",\"1993\",\"1993\",\"1993\",\"1991\",\"1989\",\"1986\",\"1986\",\"1984\",\"1984\",\"1982\",\"1982\",\"1982\",\"1982\",\"1982\",\"1980\",\"1979\",\"1978\",\"1976\",\"1976\",\"1975\",\"1975\",\"1974\",\"1973\",\"1972\",\"1972\",\"1967\",\"1967\",\"1966\",\"1966\",\"1966\",\"1962\",\"1962\",\"1962\",\"1962\",\"1962\",\"1960\",\"1960\",\"1959\",\"1959\",\"1958\",\"1957\",\"1957\",\"1957\",\"1954\",\"1953\",\"1951\",\"1949\",\"1949\",\"1948\",\"1940\",\"1940\",\"1939\",\"1939\",\"1937\",\"1934\",\"1928\",\"1928\",\"1927\",\"1926\",\"1920\",\"2018\",\"2019\",\"2016\",\"2015\",\"2015\",\"2016\",\"2016\",\"2015\",\"2016\",\"2015\",\"2013\",\"2017\",\"2019\",\"2013\",\"2013\",\"2014\",\"2014\",\"2014\",\"2017\",\"2013\",\"2018\",\"2015\",\"2012\",\"2010\",\"2010\",\"2011\",\"2016\",\"2009\",\"2009\",\"2008\",\"2010\",\"2009\",\"2008\",\"2010\",\"2007\",\"2012\",\"2007\",\"2013\",\"2006\",\"2006\",\"2007\",\"2004\",\"2005\",\"2007\",\"2004\",\"2007\",\"2006\",\"2004\",\"2003\",\"2003\",\"2014\",\"2005\",\"2003\",\"2002\",\"2003\",\"2003\",\"2004\",\"2001\",\"2003\",\"2001\",\"2001\",\"1999\",\"2000\",\"1999\",\"1997\",\"1998\",\"1998\",\"1999\",\"1997\",\"1996\",\"1996\",\"1995\",\"1995\",\"1993\",\"1993\",\"1993\",\"1992\",\"1992\",\"1991\",\"1991\",\"1990\",\"1989\",\"1988\",\"1988\",\"1987\",\"1987\",\"1987\",\"1986\",\"1984\",\"1982\",\"1980\",\"1979\",\"1977\",\"1975\",\"1975\",\"1974\",\"1973\",\"1973\",\"1972\",\"1971\",\"1971\",\"1970\",\"1969\",\"1968\",\"1968\",\"1967\",\"1966\",\"1965\",\"1965\",\"1964\",\"1963\",\"1962\",\"1961\",\"1960\",\"1959\",\"1959\",\"1958\",\"1958\",\"1957\",\"1956\",\"1955\",\"1954\",\"1955\",\"1953\",\"1953\",\"1951\",\"1950\",\"1949\",\"1948\",\"1947\",\"1945\",\"1944\",\"1946\",\"1942\",\"1941\",\"1940\",\"1939\",\"1939\",\"1934\",\"1930\",\"1925\",\"2019\",\"2020\",\"2018\",\"2019\",\"2017\",\"2016\",\"2018\",\"2016\",\"2016\",\"2016\",\"2017\",\"2014\",\"2019\",\"2016\",\"2015\",\"2013\",\"2014\",\"2011\",\"2011\",\"2014\",\"2012\",\"2019\",\"2009\",\"2009\",\"2008\",\"2009\",\"2008\",\"2007\",\"2014\",\"2007\",\"2009\",\"2008\",\"2007\",\"2006\",\"2006\",\"2012\",\"2009\",\"2005\",\"2004\",\"2008\",\"2004\",\"2004\",\"2003\",\"2004\",\"2002\",\"2002\",\"2001\",\"2001\",\"2002\",\"2000\",\"2006\",\"2000\",\"2001\",\"1999\",\"1997\",\"1995\",\"1994\",\"1993\",\"1993\",\"1993\",\"1993\",\"1990\",\"1989\",\"1989\",\"1987\",\"1986\",\"1985\",\"1984\",\"1983\",\"1980\",\"1979\",\"1979\",\"1978\",\"1976\",\"1973\",\"1973\",\"1972\",\"1972\",\"1971\",\"1970\",\"1969\",\"1968\",\"1968\",\"1967\",\"1963\",\"1962\",\"1960\",\"1960\",\"1959\",\"1956\",\"1956\",\"1955\",\"1952\",\"1951\",\"1950\",\"1947\",\"1946\",\"1946\",\"1945\",\"1940\",\"1940\",\"1938\",\"1935\",\"1933\",\"1932\",\"1922\",\"2019\",\"2018\",\"2019\",\"2016\",\"2017\",\"2016\",\"2016\",\"2017\",\"2016\",\"2016\",\"2016\",\"2016\",\"2015\",\"2016\",\"2016\",\"2015\",\"2019\",\"2017\",\"2014\",\"2013\",\"2013\",\"2013\",\"2012\",\"2014\",\"2013\",\"2012\",\"2013\",\"2019\",\"2013\",\"2012\",\"2014\",\"2015\",\"2010\",\"2010\",\"2011\",\"2013\",\"2010\",\"2015\",\"2009\",\"2008\",\"2013\",\"2009\",\"2009\",\"2020\",\"2020\",\"2010\",\"2008\",\"2008\",\"2007\",\"2012\",\"2007\",\"2007\",\"2011\",\"2007\",\"2009\",\"2009\",\"2006\",\"2006\",\"2007\",\"2008\",\"2004\",\"2005\",\"2005\",\"2005\",\"2003\",\"2005\",\"2005\",\"2003\",\"2004\",\"2004\",\"2002\",\"2003\",\"2000\",\"2002\",\"2001\",\"2000\",\"2000\",\"1999\",\"2000\",\"1999\",\"1999\",\"1999\",\"2001\",\"1997\",\"1997\",\"1997\",\"1997\",\"1996\",\"1994\",\"1993\",\"1993\",\"1993\",\"1993\",\"1993\",\"1993\",\"1993\",\"1993\",\"1992\",\"1991\",\"1991\",\"1991\",\"1990\",\"1990\",\"1989\",\"1989\",\"1989\",\"1989\",\"1988\",\"1987\",\"1987\",\"1986\",\"1986\",\"1985\",\"1985\",\"1985\",\"1984\",\"1984\",\"1983\",\"1982\",\"1982\",\"1979\",\"1978\",\"1976\",\"1975\",\"1974\",\"1973\",\"1973\",\"1973\",\"1972\",\"1971\",\"1969\",\"1967\",\"1967\",\"1967\",\"1964\",\"1964\",\"1962\",\"1962\",\"1961\",\"1960\",\"1948\",\"1948\",\"1944\",\"1943\",\"1939\",\"1938\",\"1938\",\"1935\",\"1933\",\"1932\",\"1931\",\"2018\",\"2017\",\"2018\",\"2017\",\"2017\",\"2018\",\"2015\",\"2014\",\"2014\",\"2014\",\"2014\",\"2014\",\"2015\",\"2014\",\"2013\",\"2013\",\"2012\",\"2014\",\"2011\",\"2013\",\"2012\",\"2015\",\"2011\",\"2011\",\"2014\",\"2013\",\"2013\",\"2015\",\"2010\",\"2011\",\"2009\",\"2012\",\"2012\",\"2012\",\"2009\",\"2010\",\"2008\",\"2008\",\"2006\",\"2008\",\"2010\",\"2006\",\"2006\",\"2006\",\"2014\",\"2006\",\"2006\",\"2007\",\"2006\",\"2005\",\"2007\",\"2010\",\"2006\",\"2005\",\"2007\",\"2004\",\"2004\",\"2004\",\"2004\",\"2004\",\"2003\",\"2005\",\"2004\",\"2009\",\"2003\",\"2002\",\"2003\",\"2002\",\"2001\",\"2002\",\"2001\",\"2002\",\"2001\",\"2000\",\"2001\",\"2001\",\"2000\",\"2000\",\"2002\",\"1999\",\"1999\",\"1998\",\"2001\",\"1998\",\"1997\",\"1999\",\"1997\",\"1997\",\"1998\",\"1997\",\"1996\",\"1996\",\"1996\",\"1995\",\"1995\",\"1994\",\"1994\",\"1993\",\"1993\",\"1992\",\"1992\",\"1992\",\"1992\",\"1992\",\"1992\",\"1991\",\"1991\",\"1990\",\"1988\",\"1988\",\"1987\",\"1987\",\"1987\",\"1986\",\"1986\",\"1985\",\"1985\",\"1983\",\"1982\",\"1982\",\"1982\",\"1980\",\"1980\",\"1979\",\"1978\",\"1976\",\"1975\",\"1974\",\"1974\",\"1973\",\"1973\",\"1972\",\"1971\",\"1971\",\"1968\",\"1968\",\"1967\",\"1967\",\"1966\",\"1965\",\"1964\",\"1964\",\"1963\",\"1962\",\"1960\",\"1960\",\"1960\",\"1956\",\"1955\",\"1955\",\"1954\",\"1952\",\"1951\",\"1951\",\"1946\",\"1940\",\"1933\",\"2019\",\"2018\",\"2019\",\"2017\",\"2017\",\"2019\",\"2017\",\"2019\",\"2015\",\"2015\",\"2017\",\"2017\",\"2017\",\"2015\",\"2018\",\"2016\",\"2015\",\"2015\",\"2014\",\"2016\",\"2013\",\"2014\",\"2012\",\"2011\",\"2012\",\"2010\",\"2018\",\"2010\",\"2010\",\"2010\",\"2011\",\"2010\",\"2009\",\"2011\",\"2011\",\"2009\",\"2008\",\"2009\",\"2009\",\"2007\",\"2008\",\"2007\",\"2007\",\"2009\",\"2006\",\"2007\",\"2007\",\"2006\",\"2006\",\"2004\",\"2009\",\"2006\",\"2005\",\"2009\",\"2005\",\"2004\",\"2008\",\"2004\",\"2003\",\"2004\",\"2003\",\"2003\",\"2002\",\"2004\",\"2002\",\"2004\",\"2002\",\"2000\",\"2001\",\"2001\",\"2001\",\"2001\",\"2001\",\"2001\",\"2002\",\"1999\",\"2000\",\"1998\",\"1998\",\"1998\",\"1998\",\"1997\",\"1998\",\"1996\",\"1997\",\"1995\",\"1995\",\"1995\",\"1995\",\"PG\",\"1994\",\"1993\",\"1993\",\"1992\",\"1991\",\"1991\",\"1990\",\"1990\",\"1989\",\"1989\",\"1988\",\"1987\",\"1987\",\"1984\",\"1981\",\"1981\",\"1979\",\"1979\",\"1979\",\"1978\",\"1978\",\"1977\",\"1973\",\"1971\",\"1970\",\"1967\",\"1966\",\"1964\",\"1961\",\"1956\",\"1953\",\"1944\",\"1935\"],\"yaxis\":\"y\",\"type\":\"scatter\"}],                        {\"template\":{\"data\":{\"histogram2dcontour\":[{\"type\":\"histogram2dcontour\",\"colorbar\":{\"outlinewidth\":0,\"ticks\":\"\"},\"colorscale\":[[0.0,\"#0d0887\"],[0.1111111111111111,\"#46039f\"],[0.2222222222222222,\"#7201a8\"],[0.3333333333333333,\"#9c179e\"],[0.4444444444444444,\"#bd3786\"],[0.5555555555555556,\"#d8576b\"],[0.6666666666666666,\"#ed7953\"],[0.7777777777777778,\"#fb9f3a\"],[0.8888888888888888,\"#fdca26\"],[1.0,\"#f0f921\"]]}],\"choropleth\":[{\"type\":\"choropleth\",\"colorbar\":{\"outlinewidth\":0,\"ticks\":\"\"}}],\"histogram2d\":[{\"type\":\"histogram2d\",\"colorbar\":{\"outlinewidth\":0,\"ticks\":\"\"},\"colorscale\":[[0.0,\"#0d0887\"],[0.1111111111111111,\"#46039f\"],[0.2222222222222222,\"#7201a8\"],[0.3333333333333333,\"#9c179e\"],[0.4444444444444444,\"#bd3786\"],[0.5555555555555556,\"#d8576b\"],[0.6666666666666666,\"#ed7953\"],[0.7777777777777778,\"#fb9f3a\"],[0.8888888888888888,\"#fdca26\"],[1.0,\"#f0f921\"]]}],\"heatmap\":[{\"type\":\"heatmap\",\"colorbar\":{\"outlinewidth\":0,\"ticks\":\"\"},\"colorscale\":[[0.0,\"#0d0887\"],[0.1111111111111111,\"#46039f\"],[0.2222222222222222,\"#7201a8\"],[0.3333333333333333,\"#9c179e\"],[0.4444444444444444,\"#bd3786\"],[0.5555555555555556,\"#d8576b\"],[0.6666666666666666,\"#ed7953\"],[0.7777777777777778,\"#fb9f3a\"],[0.8888888888888888,\"#fdca26\"],[1.0,\"#f0f921\"]]}],\"heatmapgl\":[{\"type\":\"heatmapgl\",\"colorbar\":{\"outlinewidth\":0,\"ticks\":\"\"},\"colorscale\":[[0.0,\"#0d0887\"],[0.1111111111111111,\"#46039f\"],[0.2222222222222222,\"#7201a8\"],[0.3333333333333333,\"#9c179e\"],[0.4444444444444444,\"#bd3786\"],[0.5555555555555556,\"#d8576b\"],[0.6666666666666666,\"#ed7953\"],[0.7777777777777778,\"#fb9f3a\"],[0.8888888888888888,\"#fdca26\"],[1.0,\"#f0f921\"]]}],\"contourcarpet\":[{\"type\":\"contourcarpet\",\"colorbar\":{\"outlinewidth\":0,\"ticks\":\"\"}}],\"contour\":[{\"type\":\"contour\",\"colorbar\":{\"outlinewidth\":0,\"ticks\":\"\"},\"colorscale\":[[0.0,\"#0d0887\"],[0.1111111111111111,\"#46039f\"],[0.2222222222222222,\"#7201a8\"],[0.3333333333333333,\"#9c179e\"],[0.4444444444444444,\"#bd3786\"],[0.5555555555555556,\"#d8576b\"],[0.6666666666666666,\"#ed7953\"],[0.7777777777777778,\"#fb9f3a\"],[0.8888888888888888,\"#fdca26\"],[1.0,\"#f0f921\"]]}],\"surface\":[{\"type\":\"surface\",\"colorbar\":{\"outlinewidth\":0,\"ticks\":\"\"},\"colorscale\":[[0.0,\"#0d0887\"],[0.1111111111111111,\"#46039f\"],[0.2222222222222222,\"#7201a8\"],[0.3333333333333333,\"#9c179e\"],[0.4444444444444444,\"#bd3786\"],[0.5555555555555556,\"#d8576b\"],[0.6666666666666666,\"#ed7953\"],[0.7777777777777778,\"#fb9f3a\"],[0.8888888888888888,\"#fdca26\"],[1.0,\"#f0f921\"]]}],\"mesh3d\":[{\"type\":\"mesh3d\",\"colorbar\":{\"outlinewidth\":0,\"ticks\":\"\"}}],\"scatter\":[{\"fillpattern\":{\"fillmode\":\"overlay\",\"size\":10,\"solidity\":0.2},\"type\":\"scatter\"}],\"parcoords\":[{\"type\":\"parcoords\",\"line\":{\"colorbar\":{\"outlinewidth\":0,\"ticks\":\"\"}}}],\"scatterpolargl\":[{\"type\":\"scatterpolargl\",\"marker\":{\"colorbar\":{\"outlinewidth\":0,\"ticks\":\"\"}}}],\"bar\":[{\"error_x\":{\"color\":\"#2a3f5f\"},\"error_y\":{\"color\":\"#2a3f5f\"},\"marker\":{\"line\":{\"color\":\"#E5ECF6\",\"width\":0.5},\"pattern\":{\"fillmode\":\"overlay\",\"size\":10,\"solidity\":0.2}},\"type\":\"bar\"}],\"scattergeo\":[{\"type\":\"scattergeo\",\"marker\":{\"colorbar\":{\"outlinewidth\":0,\"ticks\":\"\"}}}],\"scatterpolar\":[{\"type\":\"scatterpolar\",\"marker\":{\"colorbar\":{\"outlinewidth\":0,\"ticks\":\"\"}}}],\"histogram\":[{\"marker\":{\"pattern\":{\"fillmode\":\"overlay\",\"size\":10,\"solidity\":0.2}},\"type\":\"histogram\"}],\"scattergl\":[{\"type\":\"scattergl\",\"marker\":{\"colorbar\":{\"outlinewidth\":0,\"ticks\":\"\"}}}],\"scatter3d\":[{\"type\":\"scatter3d\",\"line\":{\"colorbar\":{\"outlinewidth\":0,\"ticks\":\"\"}},\"marker\":{\"colorbar\":{\"outlinewidth\":0,\"ticks\":\"\"}}}],\"scattermapbox\":[{\"type\":\"scattermapbox\",\"marker\":{\"colorbar\":{\"outlinewidth\":0,\"ticks\":\"\"}}}],\"scatterternary\":[{\"type\":\"scatterternary\",\"marker\":{\"colorbar\":{\"outlinewidth\":0,\"ticks\":\"\"}}}],\"scattercarpet\":[{\"type\":\"scattercarpet\",\"marker\":{\"colorbar\":{\"outlinewidth\":0,\"ticks\":\"\"}}}],\"carpet\":[{\"aaxis\":{\"endlinecolor\":\"#2a3f5f\",\"gridcolor\":\"white\",\"linecolor\":\"white\",\"minorgridcolor\":\"white\",\"startlinecolor\":\"#2a3f5f\"},\"baxis\":{\"endlinecolor\":\"#2a3f5f\",\"gridcolor\":\"white\",\"linecolor\":\"white\",\"minorgridcolor\":\"white\",\"startlinecolor\":\"#2a3f5f\"},\"type\":\"carpet\"}],\"table\":[{\"cells\":{\"fill\":{\"color\":\"#EBF0F8\"},\"line\":{\"color\":\"white\"}},\"header\":{\"fill\":{\"color\":\"#C8D4E3\"},\"line\":{\"color\":\"white\"}},\"type\":\"table\"}],\"barpolar\":[{\"marker\":{\"line\":{\"color\":\"#E5ECF6\",\"width\":0.5},\"pattern\":{\"fillmode\":\"overlay\",\"size\":10,\"solidity\":0.2}},\"type\":\"barpolar\"}],\"pie\":[{\"automargin\":true,\"type\":\"pie\"}]},\"layout\":{\"autotypenumbers\":\"strict\",\"colorway\":[\"#636efa\",\"#EF553B\",\"#00cc96\",\"#ab63fa\",\"#FFA15A\",\"#19d3f3\",\"#FF6692\",\"#B6E880\",\"#FF97FF\",\"#FECB52\"],\"font\":{\"color\":\"#2a3f5f\"},\"hovermode\":\"closest\",\"hoverlabel\":{\"align\":\"left\"},\"paper_bgcolor\":\"white\",\"plot_bgcolor\":\"#E5ECF6\",\"polar\":{\"bgcolor\":\"#E5ECF6\",\"angularaxis\":{\"gridcolor\":\"white\",\"linecolor\":\"white\",\"ticks\":\"\"},\"radialaxis\":{\"gridcolor\":\"white\",\"linecolor\":\"white\",\"ticks\":\"\"}},\"ternary\":{\"bgcolor\":\"#E5ECF6\",\"aaxis\":{\"gridcolor\":\"white\",\"linecolor\":\"white\",\"ticks\":\"\"},\"baxis\":{\"gridcolor\":\"white\",\"linecolor\":\"white\",\"ticks\":\"\"},\"caxis\":{\"gridcolor\":\"white\",\"linecolor\":\"white\",\"ticks\":\"\"}},\"coloraxis\":{\"colorbar\":{\"outlinewidth\":0,\"ticks\":\"\"}},\"colorscale\":{\"sequential\":[[0.0,\"#0d0887\"],[0.1111111111111111,\"#46039f\"],[0.2222222222222222,\"#7201a8\"],[0.3333333333333333,\"#9c179e\"],[0.4444444444444444,\"#bd3786\"],[0.5555555555555556,\"#d8576b\"],[0.6666666666666666,\"#ed7953\"],[0.7777777777777778,\"#fb9f3a\"],[0.8888888888888888,\"#fdca26\"],[1.0,\"#f0f921\"]],\"sequentialminus\":[[0.0,\"#0d0887\"],[0.1111111111111111,\"#46039f\"],[0.2222222222222222,\"#7201a8\"],[0.3333333333333333,\"#9c179e\"],[0.4444444444444444,\"#bd3786\"],[0.5555555555555556,\"#d8576b\"],[0.6666666666666666,\"#ed7953\"],[0.7777777777777778,\"#fb9f3a\"],[0.8888888888888888,\"#fdca26\"],[1.0,\"#f0f921\"]],\"diverging\":[[0,\"#8e0152\"],[0.1,\"#c51b7d\"],[0.2,\"#de77ae\"],[0.3,\"#f1b6da\"],[0.4,\"#fde0ef\"],[0.5,\"#f7f7f7\"],[0.6,\"#e6f5d0\"],[0.7,\"#b8e186\"],[0.8,\"#7fbc41\"],[0.9,\"#4d9221\"],[1,\"#276419\"]]},\"xaxis\":{\"gridcolor\":\"white\",\"linecolor\":\"white\",\"ticks\":\"\",\"title\":{\"standoff\":15},\"zerolinecolor\":\"white\",\"automargin\":true,\"zerolinewidth\":2},\"yaxis\":{\"gridcolor\":\"white\",\"linecolor\":\"white\",\"ticks\":\"\",\"title\":{\"standoff\":15},\"zerolinecolor\":\"white\",\"automargin\":true,\"zerolinewidth\":2},\"scene\":{\"xaxis\":{\"backgroundcolor\":\"#E5ECF6\",\"gridcolor\":\"white\",\"linecolor\":\"white\",\"showbackground\":true,\"ticks\":\"\",\"zerolinecolor\":\"white\",\"gridwidth\":2},\"yaxis\":{\"backgroundcolor\":\"#E5ECF6\",\"gridcolor\":\"white\",\"linecolor\":\"white\",\"showbackground\":true,\"ticks\":\"\",\"zerolinecolor\":\"white\",\"gridwidth\":2},\"zaxis\":{\"backgroundcolor\":\"#E5ECF6\",\"gridcolor\":\"white\",\"linecolor\":\"white\",\"showbackground\":true,\"ticks\":\"\",\"zerolinecolor\":\"white\",\"gridwidth\":2}},\"shapedefaults\":{\"line\":{\"color\":\"#2a3f5f\"}},\"annotationdefaults\":{\"arrowcolor\":\"#2a3f5f\",\"arrowhead\":0,\"arrowwidth\":1},\"geo\":{\"bgcolor\":\"white\",\"landcolor\":\"#E5ECF6\",\"subunitcolor\":\"white\",\"showland\":true,\"showlakes\":true,\"lakecolor\":\"white\"},\"title\":{\"x\":0.05},\"mapbox\":{\"style\":\"light\"}}},\"xaxis\":{\"anchor\":\"y\",\"domain\":[0.0,1.0],\"title\":{\"text\":\"Certificate\"}},\"yaxis\":{\"anchor\":\"x\",\"domain\":[0.0,1.0],\"title\":{\"text\":\"Released_Year\"}},\"legend\":{\"tracegroupgap\":0},\"title\":{\"text\":\"IMDB rating scattering over the years\"}},                        {\"responsive\": true}                    ).then(function(){\n",
              "                            \n",
              "var gd = document.getElementById('316a23ba-917b-40aa-95ad-9e5621e971b3');\n",
              "var x = new MutationObserver(function (mutations, observer) {{\n",
              "        var display = window.getComputedStyle(gd).display;\n",
              "        if (!display || display === 'none') {{\n",
              "            console.log([gd, 'removed!']);\n",
              "            Plotly.purge(gd);\n",
              "            observer.disconnect();\n",
              "        }}\n",
              "}});\n",
              "\n",
              "// Listen for the removal of the full notebook cells\n",
              "var notebookContainer = gd.closest('#notebook-container');\n",
              "if (notebookContainer) {{\n",
              "    x.observe(notebookContainer, {childList: true});\n",
              "}}\n",
              "\n",
              "// Listen for the clearing of the current output cell\n",
              "var outputEl = gd.closest('.output');\n",
              "if (outputEl) {{\n",
              "    x.observe(outputEl, {childList: true});\n",
              "}}\n",
              "\n",
              "                        })                };                            </script>        </div>\n",
              "</body>\n",
              "</html>"
            ]
          },
          "metadata": {}
        }
      ]
    },
    {
      "cell_type": "markdown",
      "source": [
        "This scatterplot gives the year in which a particular certificate movie was released"
      ],
      "metadata": {
        "id": "Q9PknK0a_hYY"
      }
    },
    {
      "cell_type": "code",
      "source": [
        "px.scatter(movies, x = 'Certificate', y = 'IMDB_Rating',title = 'IMDB rating scattering over the years')"
      ],
      "metadata": {
        "id": "1utcJBy8-wo_",
        "outputId": "ed6e2622-ca5e-4709-8136-6af41dab8c49",
        "colab": {
          "base_uri": "https://localhost:8080/",
          "height": 542
        }
      },
      "execution_count": null,
      "outputs": [
        {
          "output_type": "display_data",
          "data": {
            "text/html": [
              "<html>\n",
              "<head><meta charset=\"utf-8\" /></head>\n",
              "<body>\n",
              "    <div>            <script src=\"https://cdnjs.cloudflare.com/ajax/libs/mathjax/2.7.5/MathJax.js?config=TeX-AMS-MML_SVG\"></script><script type=\"text/javascript\">if (window.MathJax && window.MathJax.Hub && window.MathJax.Hub.Config) {window.MathJax.Hub.Config({SVG: {font: \"STIX-Web\"}});}</script>                <script type=\"text/javascript\">window.PlotlyConfig = {MathJaxConfig: 'local'};</script>\n",
              "        <script src=\"https://cdn.plot.ly/plotly-2.18.2.min.js\"></script>                <div id=\"75ad9c6a-36db-490f-a433-03a098a0a5d1\" class=\"plotly-graph-div\" style=\"height:525px; width:100%;\"></div>            <script type=\"text/javascript\">                                    window.PLOTLYENV=window.PLOTLYENV || {};                                    if (document.getElementById(\"75ad9c6a-36db-490f-a433-03a098a0a5d1\")) {                    Plotly.newPlot(                        \"75ad9c6a-36db-490f-a433-03a098a0a5d1\",                        [{\"hovertemplate\":\"Certificate=%{x}<br>IMDB_Rating=%{y}<extra></extra>\",\"legendgroup\":\"\",\"marker\":{\"color\":\"#636efa\",\"symbol\":\"circle\"},\"mode\":\"markers\",\"name\":\"\",\"orientation\":\"v\",\"showlegend\":false,\"x\":[\"A\",\"A\",\"UA\",\"A\",\"U\",\"U\",\"A\",\"A\",\"UA\",\"A\",\"U\",\"UA\",\"A\",\"UA\",\"A\",\"A\",\"UA\",\"A\",\"PG-13\",\"A\",\"U\",\"UA\",\"A\",\"U\",\"R\",\"A\",\"U\",\"A\",\"A\",\"UA\",null,\"U\",\"PG\",\"A\",\"A\",\"UA\",\"U\",\"A\",\"R\",\"UA\",\"R\",\"A\",\"A\",\"U\",\"U\",\"U\",\"U\",\"U\",\"U\",\"A\",\"U\",\"G\",\"G\",\"A\",null,\"UA\",\"U\",\"U\",\"U\",\"UA\",\"UA\",\"U\",\"A\",\"UA\",\"UA\",\"U\",\"U\",\"A\",\"A\",\"UA\",\"U\",\"A\",\"A\",\"A\",\"R\",\"R\",\"U\",null,\"A\",\"U\",\"A\",\"U\",\"Passed\",\"Passed\",\"R\",\"A\",\"UA\",\"U\",\"R\",\"PG-13\",\"R\",\"TV-14\",null,\"A\",\"UA\",\"U\",\"UA\",\"A\",\"UA\",\"U\",\"PG\",\"U\",\"A\",\"R\",\"UA\",\"A\",\"U\",\"R\",\"A\",\"U\",\"R\",\"A\",\"U\",\"A\",\"U\",\"U\",\"U\",\"U\",\"U\",\"A\",\"G\",null,null,\"Passed\",\"UA\",\"Passed\",null,\"Passed\",\"UA\",\"UA\",\"UA\",\"UA\",\"A\",\"UA\",\"UA\",\"PG\",\"UA\",\"UA\",null,\"U\",\"A\",\"UA\",\"UA\",\"R\",\"UA\",\"A\",\"U\",\"A\",\"U\",\"A\",\"UA\",\"U\",\"A\",\"UA\",\"U\",\"UA\",\"U\",\"R\",\"U\",\"UA\",\"U\",\"A\",\"A\",null,\"A\",\"A\",\"U\",\"A\",\"U\",\"R\",\"U\",\"A\",\"U\",\"A\",\"U\",\"U\",\"PG\",\"U\",\"PG\",\"U\",\"U\",null,\"A\",\"U\",\"U\",\"A\",null,\"A\",\"U\",null,\"Passed\",\"Passed\",\"Passed\",\"Passed\",\"Passed\",\"R\",\"UA\",\"16\",\"TV-MA\",\"A\",\"R\",\"UA\",\"A\",\"R\",\"R\",\"U\",null,\"UA\",\"U\",\"UA\",\"A\",\"U\",\"A\",\"U\",\"U\",\"A\",\"UA\",\"UA\",\"A\",\"PG\",\"UA\",\"U\",\"A\",\"UA\",\"UA\",\"R\",\"UA\",\"PG-13\",\"G\",null,\"U\",\"R\",\"R\",\"U\",\"UA\",\"PG-13\",\"R\",\"R\",\"U\",\"UA\",\"Unrated\",\"R\",\"U\",\"A\",\"A\",\"U\",\"UA\",\"U\",\"A\",\"U\",\"U\",\"R\",\"R\",\"U\",\"A\",\"A\",null,\"UA\",\"U\",\"R\",\"U\",\"U\",\"UA\",\"UA\",\"R\",\"PG\",\"U\",\"U\",\"A\",\"U\",\"U\",\"A\",\"UA\",\"R\",\"A\",\"UA\",\"UA\",\"R\",\"A\",\"U\",\"UA\",\"PG\",\"G\",\"UA\",\"U\",\"A\",\"PG\",\"GP\",\"A\",null,\"R\",null,null,\"Passed\",\"U\",null,null,\"A\",\"Passed\",null,\"U\",null,null,null,\"PG\",\"A\",\"U\",\"Approved\",null,\"Approved\",null,null,\"Approved\",\"Passed\",\"U\",null,\"Approved\",\"Passed\",\"Passed\",\"Passed\",\"Passed\",null,\"UA\",\"U\",\"UA\",\"UA\",\"UA\",\"A\",\"U\",\"UA\",\"U\",\"UA\",\"U\",\"U\",\"UA\",\"UA\",\"R\",\"A\",\"UA\",\"UA\",\"UA\",\"A\",\"UA\",\"A\",\"UA\",null,\"U\",\"UA\",\"R\",\"TV-PG\",\"A\",\"R\",\"UA\",null,\"UA\",\"A\",\"R\",\"UA\",\"PG-13\",\"R\",\"U\",\"A\",\"UA\",\"U\",\"A\",\"PG-13\",null,\"U\",\"PG-13\",\"A\",null,\"R\",\"U\",\"UA\",\"U\",\"UA\",\"UA\",\"U\",\"U\",null,\"R\",null,\"R\",\"R\",\"U\",\"U\",\"A\",\"R\",\"R\",\"PG\",null,\"R\",\"U\",\"A\",\"UA\",\"U\",\"U\",\"R\",\"UA\",\"U\",\"UA\",\"G\",\"U\",\"R\",\"U\",\"UA\",\"U\",\"U\",\"U\",\"U\",\"UA\",\"U\",\"U\",\"PG\",\"A\",\"A\",\"U\",\"A\",\"R\",\"A\",\"PG\",\"R\",\"G\",\"UA\",\"PG\",\"A\",\"U\",\"A\",\"A\",\"U\",\"A\",\"A\",null,null,\"A\",\"A\",\"Passed\",null,\"PG-13\",\"A\",\"Approved\",\"Approved\",null,null,null,null,null,\"A\",null,\"U\",\"A\",null,\"U\",\"Passed\",\"Approved\",null,null,\"Passed\",\"U\",null,\"TV-PG\",\"U\",null,\"UA\",\"UA\",\"A\",\"U\",\"UA\",\"UA\",\"U\",\"UA\",\"R\",\"PG-13\",\"UA\",\"A\",\"UA\",\"UA\",\"U\",\"R\",\"UA\",null,\"U\",\"UA\",\"UA\",\"R\",\"A\",\"R\",\"R\",\"A\",\"UA\",\"U\",\"A\",null,\"UA\",\"R\",null,\"UA\",\"R\",\"U\",\"PG\",null,\"PG-13\",\"UA\",\"UA\",\"R\",\"A\",\"U\",\"PG-13\",\"R\",\"R\",\"U\",\"UA\",\"R\",\"A\",\"A\",\"R\",\"U\",\"R\",\"U\",\"A\",\"R\",\"U\",\"A\",\"A\",\"U\",\"U\",\"PG-13\",\"A\",\"PG-13\",\"U\",\"R\",\"U\",\"U\",\"R\",\"A\",\"A\",\"U\",\"R\",\"R\",\"PG\",null,\"PG\",\"U\",\"A\",null,\"PG\",\"U\",\"U\",\"PG-13\",\"A\",\"U\",null,\"U\",\"Passed\",\"U\",\"PG\",\"A\",\"Approved\",null,\"U\",\"Passed\",\"Passed\",null,\"Passed\",\"PG\",\"Passed\",\"Passed\",null,null,\"A\",\"UA\",\"R\",\"UA\",\"UA\",null,\"UA\",\"U\",\"A\",\"PG\",\"U\",\"UA\",\"R\",\"UA\",\"UA\",\"A\",\"U\",\"UA\",\"R\",\"PG-13\",null,\"U\",\"UA\",\"U\",\"R\",\"U\",\"PG-13\",\"U\",\"R\",\"A\",\"U\",\"A\",null,null,\"R\",\"UA\",\"R\",\"R\",\"R\",null,\"UA\",\"UA\",\"R\",\"R\",null,\"UA\",\"A\",\"PG-13\",\"R\",\"UA\",null,\"R\",\"A\",\"A\",\"UA\",\"R\",\"A\",\"UA\",\"UA\",\"UA\",\"U\",\"R\",\"PG\",\"U\",\"UA\",\"PG-13\",\"PG-13\",null,\"A\",\"U\",\"R\",\"PG-13\",null,\"PG-13\",\"R\",\"U\",\"UA\",\"R\",\"UA\",\"R\",\"UA\",\"PG\",\"U\",\"UA\",null,\"UA\",\"UA\",\"R\",\"U\",\"U\",\"R\",\"U\",\"U\",null,\"U\",\"R\",\"PG\",\"R\",\"R\",\"R\",\"A\",\"R\",\"U\",\"U\",\"R\",\"R\",\"U\",\"A\",\"A\",\"A\",\"U\",\"R\",\"U\",\"U\",\"UA\",\"UA\",\"UA\",\"PG\",\"U\",\"U\",\"A\",\"PG\",\"A\",\"PG\",\"U\",\"U\",\"A\",\"PG\",\"A\",\"U\",\"A\",null,null,\"A\",\"U\",\"U\",\"G\",null,\"A\",\"U\",\"Passed\",null,\"PG\",\"PG\",\"Passed\",null,\"Passed\",null,null,\"PG\",\"Passed\",\"R\",null,\"R\",\"R\",\"R\",\"UA\",\"PG-13\",\"R\",\"U\",\"U\",\"A\",\"UA\",\"PG-13\",\"A\",\"A\",\"U\",null,\"UA\",\"UA\",\"UA\",\"U\",\"PG\",null,\"PG-13\",\"U\",\"UA\",\"UA\",null,\"UA\",\"UA\",\"UA\",\"UA\",\"A\",\"A\",\"UA\",\"A\",\"U\",\"R\",\"U\",\"R\",\"PG\",\"U\",null,null,\"UA\",\"R\",\"R\",\"UA\",\"R\",\"PG-13\",\"R\",\"U\",\"R\",\"A\",\"A\",\"UA\",\"UA\",\"A\",\"R\",\"A\",\"UA\",\"UA\",\"UA\",\"U\",\"UA\",\"R\",\"R\",\"PG-13\",\"PG-13\",\"R\",\"A\",\"A\",\"R\",\"R\",\"R\",\"UA\",\"U\",\"U\",\"R\",\"A\",\"R\",null,\"A\",\"UA\",\"U\",\"R\",\"A\",\"UA\",\"PG-13\",\"A\",\"U\",\"A\",\"PG-13\",\"U\",\"UA\",\"U\",\"R\",\"R\",\"UA\",\"G\",\"U\",\"UA\",\"U\",\"R\",\"U\",\"PG-13\",\"U\",\"R\",\"U\",null,\"R\",\"U\",\"U\",\"R\",\"A\",\"U\",\"UA\",\"PG\",\"U\",\"U\",\"A\",\"U\",\"U\",\"U\",\"A\",\"R\",\"PG\",\"U\",\"A\",\"A\",\"A\",\"U\",\"A\",\"A\",\"U\",\"G\",null,\"A\",\"U\",null,\"U\",\"A\",\"A\",\"Passed\",null,\"Approved\",null,\"Approved\",\"PG-13\",null,\"Passed\",\"Passed\",\"U\",\"PG\",\"Approved\",\"G\",\"TV-PG\",\"PG-13\",\"U/A\",\"A\",\"R\",\"A\",\"A\",\"PG-13\",\"PG-13\",null,\"PG-13\",\"UA\",\"UA\",\"UA\",\"UA\",\"UA\",\"U\",\"A\",\"A\",\"R\",\"R\",\"PG-13\",\"UA\",null,\"A\",\"A\",\"U\",\"UA\",\"PG-13\",\"R\",\"U\",\"R\",\"UA\",null,\"PG-13\",\"R\",\"A\",null,\"PG-13\",\"UA\",\"PG-13\",\"UA\",\"R\",\"U\",null,\"R\",\"R\",\"PG-13\",\"PG-13\",\"U\",null,\"UA\",\"A\",\"R\",\"A\",\"R\",\"UA\",\"R\",\"R\",\"R\",\"U\",\"R\",\"UA\",\"R\",\"U\",\"R\",\"U\",\"A\",null,\"A\",\"A\",\"U\",\"PG-13\",\"R\",\"A\",\"A\",\"R\",\"A\",\"UA\",\"A\",\"U\",\"R\",\"A\",\"A\",\"UA\",\"A\",\"U\",\"A\",\"R\",\"A\",\"U\",\"U\",\"R\",\"U\",\"UA\",\"U\",\"R\",\"U\",\"A\",\"UA\",\"U\",\"U\",\"U\",\"A\",\"A\",\"UA\",\"A\",\"UA\",\"U\",\"A\",\"U\",\"A\",\"U\",\"A\",\"PG\",\"GP\",\"U\",\"A\",\"U\",\"A\",\"G\",\"Passed\",null,null],\"xaxis\":\"x\",\"y\":[9.3,9.2,9.0,9.0,9.0,8.9,8.9,8.9,8.8,8.8,8.8,8.8,8.8,8.7,8.7,8.7,8.7,8.7,8.6,8.6,8.6,8.6,8.6,8.6,8.6,8.6,8.6,8.6,8.6,8.6,8.6,8.6,8.6,8.5,8.5,8.5,8.5,8.5,8.5,8.5,8.5,8.5,8.5,8.5,8.5,8.5,8.5,8.5,8.5,8.5,8.5,8.5,8.5,8.4,8.4,8.4,8.4,8.4,8.4,8.4,8.4,8.4,8.4,8.4,8.4,8.4,8.4,8.4,8.4,8.4,8.4,8.4,8.4,8.4,8.4,8.4,8.4,8.4,8.4,8.4,8.4,8.4,8.4,8.4,8.3,8.3,8.3,8.3,8.3,8.3,8.3,8.3,8.3,8.3,8.3,8.3,8.3,8.3,8.3,8.3,8.3,8.3,8.3,8.3,8.3,8.3,8.3,8.3,8.3,8.3,8.3,8.3,8.3,8.3,8.3,8.3,8.3,8.3,8.3,8.3,8.3,8.3,8.3,8.3,8.3,8.3,8.3,8.3,8.2,8.2,8.2,8.2,8.2,8.2,8.2,8.2,8.2,8.2,8.2,8.2,8.2,8.2,8.2,8.2,8.2,8.2,8.2,8.2,8.2,8.2,8.2,8.2,8.2,8.2,8.2,8.2,8.2,8.2,8.2,8.2,8.2,8.2,8.2,8.2,8.2,8.2,8.2,8.2,8.2,8.2,8.2,8.2,8.2,8.2,8.2,8.2,8.2,8.2,8.2,8.2,8.2,8.2,8.2,8.2,8.2,8.2,8.2,8.2,8.2,8.2,8.2,8.2,8.2,8.2,8.2,8.1,8.1,8.1,8.1,8.1,8.1,8.1,8.1,8.1,8.1,8.1,8.1,8.1,8.1,8.1,8.1,8.1,8.1,8.1,8.1,8.1,8.1,8.1,8.1,8.1,8.1,8.1,8.1,8.1,8.1,8.1,8.1,8.1,8.1,8.1,8.1,8.1,8.1,8.1,8.1,8.1,8.1,8.1,8.1,8.1,8.1,8.1,8.1,8.1,8.1,8.1,8.1,8.1,8.1,8.1,8.1,8.1,8.1,8.1,8.1,8.1,8.1,8.1,8.1,8.1,8.1,8.1,8.1,8.1,8.1,8.1,8.1,8.1,8.1,8.1,8.1,8.1,8.1,8.1,8.1,8.1,8.1,8.1,8.1,8.1,8.1,8.1,8.1,8.1,8.1,8.1,8.1,8.1,8.1,8.1,8.1,8.1,8.1,8.1,8.1,8.1,8.1,8.1,8.1,8.1,8.1,8.1,8.1,8.1,8.1,8.1,8.1,8.1,8.1,8.1,8.1,8.1,8.1,8.1,8.1,8.1,8.1,8.1,8.1,8.1,8.1,8.1,8.0,8.0,8.0,8.0,8.0,8.0,8.0,8.0,8.0,8.0,8.0,8.0,8.0,8.0,8.0,8.0,8.0,8.0,8.0,8.0,8.0,8.0,8.0,8.0,8.0,8.0,8.0,8.0,8.0,8.0,8.0,8.0,8.0,8.0,8.0,8.0,8.0,8.0,8.0,8.0,8.0,8.0,8.0,8.0,8.0,8.0,8.0,8.0,8.0,8.0,8.0,8.0,8.0,8.0,8.0,8.0,8.0,8.0,8.0,8.0,8.0,8.0,8.0,8.0,8.0,8.0,8.0,8.0,8.0,8.0,8.0,8.0,8.0,8.0,8.0,8.0,8.0,8.0,8.0,8.0,8.0,8.0,8.0,8.0,8.0,8.0,8.0,8.0,8.0,8.0,8.0,8.0,8.0,8.0,8.0,8.0,8.0,8.0,8.0,8.0,8.0,8.0,8.0,8.0,8.0,8.0,8.0,8.0,8.0,8.0,8.0,8.0,8.0,8.0,8.0,8.0,8.0,8.0,8.0,8.0,8.0,8.0,8.0,8.0,8.0,8.0,8.0,8.0,8.0,8.0,8.0,8.0,8.0,8.0,8.0,8.0,8.0,8.0,8.0,8.0,8.0,7.9,7.9,7.9,7.9,7.9,7.9,7.9,7.9,7.9,7.9,7.9,7.9,7.9,7.9,7.9,7.9,7.9,7.9,7.9,7.9,7.9,7.9,7.9,7.9,7.9,7.9,7.9,7.9,7.9,7.9,7.9,7.9,7.9,7.9,7.9,7.9,7.9,7.9,7.9,7.9,7.9,7.9,7.9,7.9,7.9,7.9,7.9,7.9,7.9,7.9,7.9,7.9,7.9,7.9,7.9,7.9,7.9,7.9,7.9,7.9,7.9,7.9,7.9,7.9,7.9,7.9,7.9,7.9,7.9,7.9,7.9,7.9,7.9,7.9,7.9,7.9,7.9,7.9,7.9,7.9,7.9,7.9,7.9,7.9,7.9,7.9,7.9,7.9,7.9,7.9,7.9,7.9,7.9,7.9,7.9,7.9,7.9,7.9,7.9,7.9,7.9,7.9,7.9,7.9,7.9,7.9,7.8,7.8,7.8,7.8,7.8,7.8,7.8,7.8,7.8,7.8,7.8,7.8,7.8,7.8,7.8,7.8,7.8,7.8,7.8,7.8,7.8,7.8,7.8,7.8,7.8,7.8,7.8,7.8,7.8,7.8,7.8,7.8,7.8,7.8,7.8,7.8,7.8,7.8,7.8,7.8,7.8,7.8,7.8,7.8,7.8,7.8,7.8,7.8,7.8,7.8,7.8,7.8,7.8,7.8,7.8,7.8,7.8,7.8,7.8,7.8,7.8,7.8,7.8,7.8,7.8,7.8,7.8,7.8,7.8,7.8,7.8,7.8,7.8,7.8,7.8,7.8,7.8,7.8,7.8,7.8,7.8,7.8,7.8,7.8,7.8,7.8,7.8,7.8,7.8,7.8,7.8,7.8,7.8,7.8,7.8,7.8,7.8,7.8,7.8,7.8,7.8,7.8,7.8,7.8,7.8,7.8,7.8,7.8,7.8,7.8,7.8,7.8,7.8,7.8,7.8,7.8,7.8,7.8,7.8,7.8,7.8,7.8,7.8,7.8,7.8,7.8,7.8,7.8,7.8,7.8,7.8,7.8,7.8,7.8,7.8,7.8,7.8,7.8,7.8,7.8,7.8,7.8,7.8,7.8,7.8,7.8,7.8,7.8,7.8,7.8,7.8,7.7,7.7,7.7,7.7,7.7,7.7,7.7,7.7,7.7,7.7,7.7,7.7,7.7,7.7,7.7,7.7,7.7,7.7,7.7,7.7,7.7,7.7,7.7,7.7,7.7,7.7,7.7,7.7,7.7,7.7,7.7,7.7,7.7,7.7,7.7,7.7,7.7,7.7,7.7,7.7,7.7,7.7,7.7,7.7,7.7,7.7,7.7,7.7,7.7,7.7,7.7,7.7,7.7,7.7,7.7,7.7,7.7,7.7,7.7,7.7,7.7,7.7,7.7,7.7,7.7,7.7,7.7,7.7,7.7,7.7,7.7,7.7,7.7,7.7,7.7,7.7,7.7,7.7,7.7,7.7,7.7,7.7,7.7,7.7,7.7,7.7,7.7,7.7,7.7,7.7,7.7,7.7,7.7,7.7,7.7,7.7,7.7,7.7,7.7,7.7,7.7,7.7,7.7,7.7,7.7,7.7,7.7,7.7,7.7,7.7,7.7,7.7,7.7,7.7,7.7,7.7,7.7,7.7,7.7,7.7,7.7,7.7,7.7,7.7,7.7,7.7,7.7,7.7,7.7,7.7,7.7,7.7,7.7,7.7,7.7,7.7,7.7,7.7,7.7,7.7,7.7,7.7,7.7,7.7,7.7,7.7,7.7,7.7,7.7,7.7,7.7,7.7,7.7,7.7,7.7,7.7,7.7,7.6,7.6,7.6,7.6,7.6,7.6,7.6,7.6,7.6,7.6,7.6,7.6,7.6,7.6,7.6,7.6,7.6,7.6,7.6,7.6,7.6,7.6,7.6,7.6,7.6,7.6,7.6,7.6,7.6,7.6,7.6,7.6,7.6,7.6,7.6,7.6,7.6,7.6,7.6,7.6,7.6,7.6,7.6,7.6,7.6,7.6,7.6,7.6,7.6,7.6,7.6,7.6,7.6,7.6,7.6,7.6,7.6,7.6,7.6,7.6,7.6,7.6,7.6,7.6,7.6,7.6,7.6,7.6,7.6,7.6,7.6,7.6,7.6,7.6,7.6,7.6,7.6,7.6,7.6,7.6,7.6,7.6,7.6,7.6,7.6,7.6,7.6,7.6,7.6,7.6,7.6,7.6,7.6,7.6,7.6,7.6,7.6,7.6,7.6,7.6,7.6,7.6,7.6,7.6,7.6,7.6,7.6,7.6,7.6,7.6,7.6,7.6,7.6,7.6,7.6,7.6,7.6,7.6,7.6,7.6,7.6,7.6,7.6],\"yaxis\":\"y\",\"type\":\"scatter\"}],                        {\"template\":{\"data\":{\"histogram2dcontour\":[{\"type\":\"histogram2dcontour\",\"colorbar\":{\"outlinewidth\":0,\"ticks\":\"\"},\"colorscale\":[[0.0,\"#0d0887\"],[0.1111111111111111,\"#46039f\"],[0.2222222222222222,\"#7201a8\"],[0.3333333333333333,\"#9c179e\"],[0.4444444444444444,\"#bd3786\"],[0.5555555555555556,\"#d8576b\"],[0.6666666666666666,\"#ed7953\"],[0.7777777777777778,\"#fb9f3a\"],[0.8888888888888888,\"#fdca26\"],[1.0,\"#f0f921\"]]}],\"choropleth\":[{\"type\":\"choropleth\",\"colorbar\":{\"outlinewidth\":0,\"ticks\":\"\"}}],\"histogram2d\":[{\"type\":\"histogram2d\",\"colorbar\":{\"outlinewidth\":0,\"ticks\":\"\"},\"colorscale\":[[0.0,\"#0d0887\"],[0.1111111111111111,\"#46039f\"],[0.2222222222222222,\"#7201a8\"],[0.3333333333333333,\"#9c179e\"],[0.4444444444444444,\"#bd3786\"],[0.5555555555555556,\"#d8576b\"],[0.6666666666666666,\"#ed7953\"],[0.7777777777777778,\"#fb9f3a\"],[0.8888888888888888,\"#fdca26\"],[1.0,\"#f0f921\"]]}],\"heatmap\":[{\"type\":\"heatmap\",\"colorbar\":{\"outlinewidth\":0,\"ticks\":\"\"},\"colorscale\":[[0.0,\"#0d0887\"],[0.1111111111111111,\"#46039f\"],[0.2222222222222222,\"#7201a8\"],[0.3333333333333333,\"#9c179e\"],[0.4444444444444444,\"#bd3786\"],[0.5555555555555556,\"#d8576b\"],[0.6666666666666666,\"#ed7953\"],[0.7777777777777778,\"#fb9f3a\"],[0.8888888888888888,\"#fdca26\"],[1.0,\"#f0f921\"]]}],\"heatmapgl\":[{\"type\":\"heatmapgl\",\"colorbar\":{\"outlinewidth\":0,\"ticks\":\"\"},\"colorscale\":[[0.0,\"#0d0887\"],[0.1111111111111111,\"#46039f\"],[0.2222222222222222,\"#7201a8\"],[0.3333333333333333,\"#9c179e\"],[0.4444444444444444,\"#bd3786\"],[0.5555555555555556,\"#d8576b\"],[0.6666666666666666,\"#ed7953\"],[0.7777777777777778,\"#fb9f3a\"],[0.8888888888888888,\"#fdca26\"],[1.0,\"#f0f921\"]]}],\"contourcarpet\":[{\"type\":\"contourcarpet\",\"colorbar\":{\"outlinewidth\":0,\"ticks\":\"\"}}],\"contour\":[{\"type\":\"contour\",\"colorbar\":{\"outlinewidth\":0,\"ticks\":\"\"},\"colorscale\":[[0.0,\"#0d0887\"],[0.1111111111111111,\"#46039f\"],[0.2222222222222222,\"#7201a8\"],[0.3333333333333333,\"#9c179e\"],[0.4444444444444444,\"#bd3786\"],[0.5555555555555556,\"#d8576b\"],[0.6666666666666666,\"#ed7953\"],[0.7777777777777778,\"#fb9f3a\"],[0.8888888888888888,\"#fdca26\"],[1.0,\"#f0f921\"]]}],\"surface\":[{\"type\":\"surface\",\"colorbar\":{\"outlinewidth\":0,\"ticks\":\"\"},\"colorscale\":[[0.0,\"#0d0887\"],[0.1111111111111111,\"#46039f\"],[0.2222222222222222,\"#7201a8\"],[0.3333333333333333,\"#9c179e\"],[0.4444444444444444,\"#bd3786\"],[0.5555555555555556,\"#d8576b\"],[0.6666666666666666,\"#ed7953\"],[0.7777777777777778,\"#fb9f3a\"],[0.8888888888888888,\"#fdca26\"],[1.0,\"#f0f921\"]]}],\"mesh3d\":[{\"type\":\"mesh3d\",\"colorbar\":{\"outlinewidth\":0,\"ticks\":\"\"}}],\"scatter\":[{\"fillpattern\":{\"fillmode\":\"overlay\",\"size\":10,\"solidity\":0.2},\"type\":\"scatter\"}],\"parcoords\":[{\"type\":\"parcoords\",\"line\":{\"colorbar\":{\"outlinewidth\":0,\"ticks\":\"\"}}}],\"scatterpolargl\":[{\"type\":\"scatterpolargl\",\"marker\":{\"colorbar\":{\"outlinewidth\":0,\"ticks\":\"\"}}}],\"bar\":[{\"error_x\":{\"color\":\"#2a3f5f\"},\"error_y\":{\"color\":\"#2a3f5f\"},\"marker\":{\"line\":{\"color\":\"#E5ECF6\",\"width\":0.5},\"pattern\":{\"fillmode\":\"overlay\",\"size\":10,\"solidity\":0.2}},\"type\":\"bar\"}],\"scattergeo\":[{\"type\":\"scattergeo\",\"marker\":{\"colorbar\":{\"outlinewidth\":0,\"ticks\":\"\"}}}],\"scatterpolar\":[{\"type\":\"scatterpolar\",\"marker\":{\"colorbar\":{\"outlinewidth\":0,\"ticks\":\"\"}}}],\"histogram\":[{\"marker\":{\"pattern\":{\"fillmode\":\"overlay\",\"size\":10,\"solidity\":0.2}},\"type\":\"histogram\"}],\"scattergl\":[{\"type\":\"scattergl\",\"marker\":{\"colorbar\":{\"outlinewidth\":0,\"ticks\":\"\"}}}],\"scatter3d\":[{\"type\":\"scatter3d\",\"line\":{\"colorbar\":{\"outlinewidth\":0,\"ticks\":\"\"}},\"marker\":{\"colorbar\":{\"outlinewidth\":0,\"ticks\":\"\"}}}],\"scattermapbox\":[{\"type\":\"scattermapbox\",\"marker\":{\"colorbar\":{\"outlinewidth\":0,\"ticks\":\"\"}}}],\"scatterternary\":[{\"type\":\"scatterternary\",\"marker\":{\"colorbar\":{\"outlinewidth\":0,\"ticks\":\"\"}}}],\"scattercarpet\":[{\"type\":\"scattercarpet\",\"marker\":{\"colorbar\":{\"outlinewidth\":0,\"ticks\":\"\"}}}],\"carpet\":[{\"aaxis\":{\"endlinecolor\":\"#2a3f5f\",\"gridcolor\":\"white\",\"linecolor\":\"white\",\"minorgridcolor\":\"white\",\"startlinecolor\":\"#2a3f5f\"},\"baxis\":{\"endlinecolor\":\"#2a3f5f\",\"gridcolor\":\"white\",\"linecolor\":\"white\",\"minorgridcolor\":\"white\",\"startlinecolor\":\"#2a3f5f\"},\"type\":\"carpet\"}],\"table\":[{\"cells\":{\"fill\":{\"color\":\"#EBF0F8\"},\"line\":{\"color\":\"white\"}},\"header\":{\"fill\":{\"color\":\"#C8D4E3\"},\"line\":{\"color\":\"white\"}},\"type\":\"table\"}],\"barpolar\":[{\"marker\":{\"line\":{\"color\":\"#E5ECF6\",\"width\":0.5},\"pattern\":{\"fillmode\":\"overlay\",\"size\":10,\"solidity\":0.2}},\"type\":\"barpolar\"}],\"pie\":[{\"automargin\":true,\"type\":\"pie\"}]},\"layout\":{\"autotypenumbers\":\"strict\",\"colorway\":[\"#636efa\",\"#EF553B\",\"#00cc96\",\"#ab63fa\",\"#FFA15A\",\"#19d3f3\",\"#FF6692\",\"#B6E880\",\"#FF97FF\",\"#FECB52\"],\"font\":{\"color\":\"#2a3f5f\"},\"hovermode\":\"closest\",\"hoverlabel\":{\"align\":\"left\"},\"paper_bgcolor\":\"white\",\"plot_bgcolor\":\"#E5ECF6\",\"polar\":{\"bgcolor\":\"#E5ECF6\",\"angularaxis\":{\"gridcolor\":\"white\",\"linecolor\":\"white\",\"ticks\":\"\"},\"radialaxis\":{\"gridcolor\":\"white\",\"linecolor\":\"white\",\"ticks\":\"\"}},\"ternary\":{\"bgcolor\":\"#E5ECF6\",\"aaxis\":{\"gridcolor\":\"white\",\"linecolor\":\"white\",\"ticks\":\"\"},\"baxis\":{\"gridcolor\":\"white\",\"linecolor\":\"white\",\"ticks\":\"\"},\"caxis\":{\"gridcolor\":\"white\",\"linecolor\":\"white\",\"ticks\":\"\"}},\"coloraxis\":{\"colorbar\":{\"outlinewidth\":0,\"ticks\":\"\"}},\"colorscale\":{\"sequential\":[[0.0,\"#0d0887\"],[0.1111111111111111,\"#46039f\"],[0.2222222222222222,\"#7201a8\"],[0.3333333333333333,\"#9c179e\"],[0.4444444444444444,\"#bd3786\"],[0.5555555555555556,\"#d8576b\"],[0.6666666666666666,\"#ed7953\"],[0.7777777777777778,\"#fb9f3a\"],[0.8888888888888888,\"#fdca26\"],[1.0,\"#f0f921\"]],\"sequentialminus\":[[0.0,\"#0d0887\"],[0.1111111111111111,\"#46039f\"],[0.2222222222222222,\"#7201a8\"],[0.3333333333333333,\"#9c179e\"],[0.4444444444444444,\"#bd3786\"],[0.5555555555555556,\"#d8576b\"],[0.6666666666666666,\"#ed7953\"],[0.7777777777777778,\"#fb9f3a\"],[0.8888888888888888,\"#fdca26\"],[1.0,\"#f0f921\"]],\"diverging\":[[0,\"#8e0152\"],[0.1,\"#c51b7d\"],[0.2,\"#de77ae\"],[0.3,\"#f1b6da\"],[0.4,\"#fde0ef\"],[0.5,\"#f7f7f7\"],[0.6,\"#e6f5d0\"],[0.7,\"#b8e186\"],[0.8,\"#7fbc41\"],[0.9,\"#4d9221\"],[1,\"#276419\"]]},\"xaxis\":{\"gridcolor\":\"white\",\"linecolor\":\"white\",\"ticks\":\"\",\"title\":{\"standoff\":15},\"zerolinecolor\":\"white\",\"automargin\":true,\"zerolinewidth\":2},\"yaxis\":{\"gridcolor\":\"white\",\"linecolor\":\"white\",\"ticks\":\"\",\"title\":{\"standoff\":15},\"zerolinecolor\":\"white\",\"automargin\":true,\"zerolinewidth\":2},\"scene\":{\"xaxis\":{\"backgroundcolor\":\"#E5ECF6\",\"gridcolor\":\"white\",\"linecolor\":\"white\",\"showbackground\":true,\"ticks\":\"\",\"zerolinecolor\":\"white\",\"gridwidth\":2},\"yaxis\":{\"backgroundcolor\":\"#E5ECF6\",\"gridcolor\":\"white\",\"linecolor\":\"white\",\"showbackground\":true,\"ticks\":\"\",\"zerolinecolor\":\"white\",\"gridwidth\":2},\"zaxis\":{\"backgroundcolor\":\"#E5ECF6\",\"gridcolor\":\"white\",\"linecolor\":\"white\",\"showbackground\":true,\"ticks\":\"\",\"zerolinecolor\":\"white\",\"gridwidth\":2}},\"shapedefaults\":{\"line\":{\"color\":\"#2a3f5f\"}},\"annotationdefaults\":{\"arrowcolor\":\"#2a3f5f\",\"arrowhead\":0,\"arrowwidth\":1},\"geo\":{\"bgcolor\":\"white\",\"landcolor\":\"#E5ECF6\",\"subunitcolor\":\"white\",\"showland\":true,\"showlakes\":true,\"lakecolor\":\"white\"},\"title\":{\"x\":0.05},\"mapbox\":{\"style\":\"light\"}}},\"xaxis\":{\"anchor\":\"y\",\"domain\":[0.0,1.0],\"title\":{\"text\":\"Certificate\"}},\"yaxis\":{\"anchor\":\"x\",\"domain\":[0.0,1.0],\"title\":{\"text\":\"IMDB_Rating\"}},\"legend\":{\"tracegroupgap\":0},\"title\":{\"text\":\"IMDB rating scattering over the years\"}},                        {\"responsive\": true}                    ).then(function(){\n",
              "                            \n",
              "var gd = document.getElementById('75ad9c6a-36db-490f-a433-03a098a0a5d1');\n",
              "var x = new MutationObserver(function (mutations, observer) {{\n",
              "        var display = window.getComputedStyle(gd).display;\n",
              "        if (!display || display === 'none') {{\n",
              "            console.log([gd, 'removed!']);\n",
              "            Plotly.purge(gd);\n",
              "            observer.disconnect();\n",
              "        }}\n",
              "}});\n",
              "\n",
              "// Listen for the removal of the full notebook cells\n",
              "var notebookContainer = gd.closest('#notebook-container');\n",
              "if (notebookContainer) {{\n",
              "    x.observe(notebookContainer, {childList: true});\n",
              "}}\n",
              "\n",
              "// Listen for the clearing of the current output cell\n",
              "var outputEl = gd.closest('.output');\n",
              "if (outputEl) {{\n",
              "    x.observe(outputEl, {childList: true});\n",
              "}}\n",
              "\n",
              "                        })                };                            </script>        </div>\n",
              "</body>\n",
              "</html>"
            ]
          },
          "metadata": {}
        }
      ]
    },
    {
      "cell_type": "markdown",
      "source": [
        "The above Scatterplot gives us the imdb ratings of a particular certificate movie.\n",
        "From this we can infer that A certificate movies have a wide range of rating and also have higher rating , whereas U/A certificate movies have less ratings."
      ],
      "metadata": {
        "id": "PzKjmt1i_yns"
      }
    },
    {
      "cell_type": "code",
      "source": [
        "px.bar(movies, x= 'Released_Year', y = 'Runtime', color = 'IMDB_Rating')"
      ],
      "metadata": {
        "id": "sOEbK3Sy-8pg",
        "outputId": "de970ae7-8aa4-4fda-8915-0ae7db993a79",
        "colab": {
          "base_uri": "https://localhost:8080/",
          "height": 542
        }
      },
      "execution_count": null,
      "outputs": [
        {
          "output_type": "display_data",
          "data": {
            "text/html": [
              "<html>\n",
              "<head><meta charset=\"utf-8\" /></head>\n",
              "<body>\n",
              "    <div>            <script src=\"https://cdnjs.cloudflare.com/ajax/libs/mathjax/2.7.5/MathJax.js?config=TeX-AMS-MML_SVG\"></script><script type=\"text/javascript\">if (window.MathJax && window.MathJax.Hub && window.MathJax.Hub.Config) {window.MathJax.Hub.Config({SVG: {font: \"STIX-Web\"}});}</script>                <script type=\"text/javascript\">window.PlotlyConfig = {MathJaxConfig: 'local'};</script>\n",
              "        <script src=\"https://cdn.plot.ly/plotly-2.18.2.min.js\"></script>                <div id=\"fa2f6fd0-2915-445c-9dcb-71d10dbda242\" class=\"plotly-graph-div\" style=\"height:525px; width:100%;\"></div>            <script type=\"text/javascript\">                                    window.PLOTLYENV=window.PLOTLYENV || {};                                    if (document.getElementById(\"fa2f6fd0-2915-445c-9dcb-71d10dbda242\")) {                    Plotly.newPlot(                        \"fa2f6fd0-2915-445c-9dcb-71d10dbda242\",                        [{\"alignmentgroup\":\"True\",\"hovertemplate\":\"Released_Year=%{x}<br>Runtime=%{y}<br>IMDB_Rating=%{marker.color}<extra></extra>\",\"legendgroup\":\"\",\"marker\":{\"color\":[9.3,9.2,9.0,9.0,9.0,8.9,8.9,8.9,8.8,8.8,8.8,8.8,8.8,8.7,8.7,8.7,8.7,8.7,8.6,8.6,8.6,8.6,8.6,8.6,8.6,8.6,8.6,8.6,8.6,8.6,8.6,8.6,8.6,8.5,8.5,8.5,8.5,8.5,8.5,8.5,8.5,8.5,8.5,8.5,8.5,8.5,8.5,8.5,8.5,8.5,8.5,8.5,8.5,8.4,8.4,8.4,8.4,8.4,8.4,8.4,8.4,8.4,8.4,8.4,8.4,8.4,8.4,8.4,8.4,8.4,8.4,8.4,8.4,8.4,8.4,8.4,8.4,8.4,8.4,8.4,8.4,8.4,8.4,8.4,8.3,8.3,8.3,8.3,8.3,8.3,8.3,8.3,8.3,8.3,8.3,8.3,8.3,8.3,8.3,8.3,8.3,8.3,8.3,8.3,8.3,8.3,8.3,8.3,8.3,8.3,8.3,8.3,8.3,8.3,8.3,8.3,8.3,8.3,8.3,8.3,8.3,8.3,8.3,8.3,8.3,8.3,8.3,8.3,8.2,8.2,8.2,8.2,8.2,8.2,8.2,8.2,8.2,8.2,8.2,8.2,8.2,8.2,8.2,8.2,8.2,8.2,8.2,8.2,8.2,8.2,8.2,8.2,8.2,8.2,8.2,8.2,8.2,8.2,8.2,8.2,8.2,8.2,8.2,8.2,8.2,8.2,8.2,8.2,8.2,8.2,8.2,8.2,8.2,8.2,8.2,8.2,8.2,8.2,8.2,8.2,8.2,8.2,8.2,8.2,8.2,8.2,8.2,8.2,8.2,8.2,8.2,8.2,8.2,8.2,8.2,8.1,8.1,8.1,8.1,8.1,8.1,8.1,8.1,8.1,8.1,8.1,8.1,8.1,8.1,8.1,8.1,8.1,8.1,8.1,8.1,8.1,8.1,8.1,8.1,8.1,8.1,8.1,8.1,8.1,8.1,8.1,8.1,8.1,8.1,8.1,8.1,8.1,8.1,8.1,8.1,8.1,8.1,8.1,8.1,8.1,8.1,8.1,8.1,8.1,8.1,8.1,8.1,8.1,8.1,8.1,8.1,8.1,8.1,8.1,8.1,8.1,8.1,8.1,8.1,8.1,8.1,8.1,8.1,8.1,8.1,8.1,8.1,8.1,8.1,8.1,8.1,8.1,8.1,8.1,8.1,8.1,8.1,8.1,8.1,8.1,8.1,8.1,8.1,8.1,8.1,8.1,8.1,8.1,8.1,8.1,8.1,8.1,8.1,8.1,8.1,8.1,8.1,8.1,8.1,8.1,8.1,8.1,8.1,8.1,8.1,8.1,8.1,8.1,8.1,8.1,8.1,8.1,8.1,8.1,8.1,8.1,8.1,8.1,8.1,8.1,8.1,8.1,8.0,8.0,8.0,8.0,8.0,8.0,8.0,8.0,8.0,8.0,8.0,8.0,8.0,8.0,8.0,8.0,8.0,8.0,8.0,8.0,8.0,8.0,8.0,8.0,8.0,8.0,8.0,8.0,8.0,8.0,8.0,8.0,8.0,8.0,8.0,8.0,8.0,8.0,8.0,8.0,8.0,8.0,8.0,8.0,8.0,8.0,8.0,8.0,8.0,8.0,8.0,8.0,8.0,8.0,8.0,8.0,8.0,8.0,8.0,8.0,8.0,8.0,8.0,8.0,8.0,8.0,8.0,8.0,8.0,8.0,8.0,8.0,8.0,8.0,8.0,8.0,8.0,8.0,8.0,8.0,8.0,8.0,8.0,8.0,8.0,8.0,8.0,8.0,8.0,8.0,8.0,8.0,8.0,8.0,8.0,8.0,8.0,8.0,8.0,8.0,8.0,8.0,8.0,8.0,8.0,8.0,8.0,8.0,8.0,8.0,8.0,8.0,8.0,8.0,8.0,8.0,8.0,8.0,8.0,8.0,8.0,8.0,8.0,8.0,8.0,8.0,8.0,8.0,8.0,8.0,8.0,8.0,8.0,8.0,8.0,8.0,8.0,8.0,8.0,8.0,8.0,7.9,7.9,7.9,7.9,7.9,7.9,7.9,7.9,7.9,7.9,7.9,7.9,7.9,7.9,7.9,7.9,7.9,7.9,7.9,7.9,7.9,7.9,7.9,7.9,7.9,7.9,7.9,7.9,7.9,7.9,7.9,7.9,7.9,7.9,7.9,7.9,7.9,7.9,7.9,7.9,7.9,7.9,7.9,7.9,7.9,7.9,7.9,7.9,7.9,7.9,7.9,7.9,7.9,7.9,7.9,7.9,7.9,7.9,7.9,7.9,7.9,7.9,7.9,7.9,7.9,7.9,7.9,7.9,7.9,7.9,7.9,7.9,7.9,7.9,7.9,7.9,7.9,7.9,7.9,7.9,7.9,7.9,7.9,7.9,7.9,7.9,7.9,7.9,7.9,7.9,7.9,7.9,7.9,7.9,7.9,7.9,7.9,7.9,7.9,7.9,7.9,7.9,7.9,7.9,7.9,7.9,7.8,7.8,7.8,7.8,7.8,7.8,7.8,7.8,7.8,7.8,7.8,7.8,7.8,7.8,7.8,7.8,7.8,7.8,7.8,7.8,7.8,7.8,7.8,7.8,7.8,7.8,7.8,7.8,7.8,7.8,7.8,7.8,7.8,7.8,7.8,7.8,7.8,7.8,7.8,7.8,7.8,7.8,7.8,7.8,7.8,7.8,7.8,7.8,7.8,7.8,7.8,7.8,7.8,7.8,7.8,7.8,7.8,7.8,7.8,7.8,7.8,7.8,7.8,7.8,7.8,7.8,7.8,7.8,7.8,7.8,7.8,7.8,7.8,7.8,7.8,7.8,7.8,7.8,7.8,7.8,7.8,7.8,7.8,7.8,7.8,7.8,7.8,7.8,7.8,7.8,7.8,7.8,7.8,7.8,7.8,7.8,7.8,7.8,7.8,7.8,7.8,7.8,7.8,7.8,7.8,7.8,7.8,7.8,7.8,7.8,7.8,7.8,7.8,7.8,7.8,7.8,7.8,7.8,7.8,7.8,7.8,7.8,7.8,7.8,7.8,7.8,7.8,7.8,7.8,7.8,7.8,7.8,7.8,7.8,7.8,7.8,7.8,7.8,7.8,7.8,7.8,7.8,7.8,7.8,7.8,7.8,7.8,7.8,7.8,7.8,7.8,7.7,7.7,7.7,7.7,7.7,7.7,7.7,7.7,7.7,7.7,7.7,7.7,7.7,7.7,7.7,7.7,7.7,7.7,7.7,7.7,7.7,7.7,7.7,7.7,7.7,7.7,7.7,7.7,7.7,7.7,7.7,7.7,7.7,7.7,7.7,7.7,7.7,7.7,7.7,7.7,7.7,7.7,7.7,7.7,7.7,7.7,7.7,7.7,7.7,7.7,7.7,7.7,7.7,7.7,7.7,7.7,7.7,7.7,7.7,7.7,7.7,7.7,7.7,7.7,7.7,7.7,7.7,7.7,7.7,7.7,7.7,7.7,7.7,7.7,7.7,7.7,7.7,7.7,7.7,7.7,7.7,7.7,7.7,7.7,7.7,7.7,7.7,7.7,7.7,7.7,7.7,7.7,7.7,7.7,7.7,7.7,7.7,7.7,7.7,7.7,7.7,7.7,7.7,7.7,7.7,7.7,7.7,7.7,7.7,7.7,7.7,7.7,7.7,7.7,7.7,7.7,7.7,7.7,7.7,7.7,7.7,7.7,7.7,7.7,7.7,7.7,7.7,7.7,7.7,7.7,7.7,7.7,7.7,7.7,7.7,7.7,7.7,7.7,7.7,7.7,7.7,7.7,7.7,7.7,7.7,7.7,7.7,7.7,7.7,7.7,7.7,7.7,7.7,7.7,7.7,7.7,7.7,7.6,7.6,7.6,7.6,7.6,7.6,7.6,7.6,7.6,7.6,7.6,7.6,7.6,7.6,7.6,7.6,7.6,7.6,7.6,7.6,7.6,7.6,7.6,7.6,7.6,7.6,7.6,7.6,7.6,7.6,7.6,7.6,7.6,7.6,7.6,7.6,7.6,7.6,7.6,7.6,7.6,7.6,7.6,7.6,7.6,7.6,7.6,7.6,7.6,7.6,7.6,7.6,7.6,7.6,7.6,7.6,7.6,7.6,7.6,7.6,7.6,7.6,7.6,7.6,7.6,7.6,7.6,7.6,7.6,7.6,7.6,7.6,7.6,7.6,7.6,7.6,7.6,7.6,7.6,7.6,7.6,7.6,7.6,7.6,7.6,7.6,7.6,7.6,7.6,7.6,7.6,7.6,7.6,7.6,7.6,7.6,7.6,7.6,7.6,7.6,7.6,7.6,7.6,7.6,7.6,7.6,7.6,7.6,7.6,7.6,7.6,7.6,7.6,7.6,7.6,7.6,7.6,7.6,7.6,7.6,7.6,7.6,7.6],\"coloraxis\":\"coloraxis\",\"pattern\":{\"shape\":\"\"}},\"name\":\"\",\"offsetgroup\":\"\",\"orientation\":\"v\",\"showlegend\":false,\"textposition\":\"auto\",\"x\":[\"1994\",\"1972\",\"2008\",\"1974\",\"1957\",\"2003\",\"1994\",\"1993\",\"2010\",\"1999\",\"2001\",\"1994\",\"1966\",\"2002\",\"1999\",\"1990\",\"1980\",\"1975\",\"2020\",\"2019\",\"2020\",\"2014\",\"2002\",\"2001\",\"1998\",\"1999\",\"1997\",\"1995\",\"1991\",\"1977\",\"1962\",\"1954\",\"1946\",\"2019\",\"2014\",\"2011\",\"2006\",\"2006\",\"2002\",\"2000\",\"1998\",\"1995\",\"1994\",\"1994\",\"1991\",\"1988\",\"1988\",\"1985\",\"1968\",\"1960\",\"1942\",\"1936\",\"1931\",\"2018\",\"2017\",\"2017\",\"2016\",\"2016\",\"2018\",\"2019\",\"2018\",\"2017\",\"2012\",\"2012\",\"2009\",\"2007\",\"2008\",\"2006\",\"2003\",\"2000\",\"1997\",\"1984\",\"1981\",\"1980\",\"1979\",\"1979\",\"1971\",\"1963\",\"1964\",\"1957\",\"1957\",\"1954\",\"1950\",\"1940\",\"2019\",\"2018\",\"2018\",\"2013\",\"2012\",\"2011\",\"2010\",\"2019\",\"2005\",\"2009\",\"2004\",\"2001\",\"2000\",\"2000\",\"1999\",\"1997\",\"1997\",\"1995\",\"1995\",\"1992\",\"1987\",\"1985\",\"1986\",\"1984\",\"1983\",\"1983\",\"1981\",\"1976\",\"1973\",\"1971\",\"1968\",\"1965\",\"1962\",\"1960\",\"1959\",\"1958\",\"1952\",\"1952\",\"1948\",\"1944\",\"1941\",\"1931\",\"1927\",\"1921\",\"2019\",\"2018\",\"2018\",\"2018\",\"2017\",\"2015\",\"2017\",\"2019\",\"2015\",\"2013\",\"2013\",\"2013\",\"2012\",\"2010\",\"2012\",\"2009\",\"2011\",\"2010\",\"2009\",\"2013\",\"2007\",\"2007\",\"2006\",\"2010\",\"2005\",\"2006\",\"2005\",\"2005\",\"2004\",\"2004\",\"2004\",\"2001\",\"2000\",\"1998\",\"1997\",\"1996\",\"1995\",\"1995\",\"1994\",\"1992\",\"1989\",\"1988\",\"1988\",\"1988\",\"1985\",\"1980\",\"1979\",\"1978\",\"1976\",\"1975\",\"1975\",\"1963\",\"1962\",\"1961\",\"1961\",\"1959\",\"1957\",\"1957\",\"1955\",\"1954\",\"1953\",\"1950\",\"1950\",\"1948\",\"1942\",\"1925\",\"1924\",\"2019\",\"2016\",\"2016\",\"2016\",\"2016\",\"2014\",\"2014\",\"2017\",\"2015\",\"2014\",\"2020\",\"2014\",\"2014\",\"2012\",\"2014\",\"2014\",\"2012\",\"2016\",\"2015\",\"2012\",\"2013\",\"2013\",\"2019\",\"2015\",\"2014\",\"2012\",\"2011\",\"2013\",\"2015\",\"2008\",\"2008\",\"2011\",\"2008\",\"2009\",\"2009\",\"2010\",\"2007\",\"2007\",\"2006\",\"2004\",\"2004\",\"2004\",\"2004\",\"2003\",\"2003\",\"2001\",\"2003\",\"2003\",\"2002\",\"2000\",\"2001\",\"1997\",\"2001\",\"1999\",\"1998\",\"1998\",\"1998\",\"1998\",\"2000\",\"1996\",\"1996\",\"1995\",\"1995\",\"1995\",\"1995\",\"1994\",\"1994\",\"1993\",\"1993\",\"1993\",\"1991\",\"1989\",\"1986\",\"1986\",\"1984\",\"1984\",\"1982\",\"1982\",\"1982\",\"1982\",\"1982\",\"1980\",\"1979\",\"1978\",\"1976\",\"1976\",\"1975\",\"1975\",\"1974\",\"1973\",\"1972\",\"1972\",\"1967\",\"1967\",\"1966\",\"1966\",\"1966\",\"1962\",\"1962\",\"1962\",\"1962\",\"1962\",\"1960\",\"1960\",\"1959\",\"1959\",\"1958\",\"1957\",\"1957\",\"1957\",\"1954\",\"1953\",\"1951\",\"1949\",\"1949\",\"1948\",\"1940\",\"1940\",\"1939\",\"1939\",\"1937\",\"1934\",\"1928\",\"1928\",\"1927\",\"1926\",\"1920\",\"2018\",\"2019\",\"2016\",\"2015\",\"2015\",\"2016\",\"2016\",\"2015\",\"2016\",\"2015\",\"2013\",\"2017\",\"2019\",\"2013\",\"2013\",\"2014\",\"2014\",\"2014\",\"2017\",\"2013\",\"2018\",\"2015\",\"2012\",\"2010\",\"2010\",\"2011\",\"2016\",\"2009\",\"2009\",\"2008\",\"2010\",\"2009\",\"2008\",\"2010\",\"2007\",\"2012\",\"2007\",\"2013\",\"2006\",\"2006\",\"2007\",\"2004\",\"2005\",\"2007\",\"2004\",\"2007\",\"2006\",\"2004\",\"2003\",\"2003\",\"2014\",\"2005\",\"2003\",\"2002\",\"2003\",\"2003\",\"2004\",\"2001\",\"2003\",\"2001\",\"2001\",\"1999\",\"2000\",\"1999\",\"1997\",\"1998\",\"1998\",\"1999\",\"1997\",\"1996\",\"1996\",\"1995\",\"1995\",\"1993\",\"1993\",\"1993\",\"1992\",\"1992\",\"1991\",\"1991\",\"1990\",\"1989\",\"1988\",\"1988\",\"1987\",\"1987\",\"1987\",\"1986\",\"1984\",\"1982\",\"1980\",\"1979\",\"1977\",\"1975\",\"1975\",\"1974\",\"1973\",\"1973\",\"1972\",\"1971\",\"1971\",\"1970\",\"1969\",\"1968\",\"1968\",\"1967\",\"1966\",\"1965\",\"1965\",\"1964\",\"1963\",\"1962\",\"1961\",\"1960\",\"1959\",\"1959\",\"1958\",\"1958\",\"1957\",\"1956\",\"1955\",\"1954\",\"1955\",\"1953\",\"1953\",\"1951\",\"1950\",\"1949\",\"1948\",\"1947\",\"1945\",\"1944\",\"1946\",\"1942\",\"1941\",\"1940\",\"1939\",\"1939\",\"1934\",\"1930\",\"1925\",\"2019\",\"2020\",\"2018\",\"2019\",\"2017\",\"2016\",\"2018\",\"2016\",\"2016\",\"2016\",\"2017\",\"2014\",\"2019\",\"2016\",\"2015\",\"2013\",\"2014\",\"2011\",\"2011\",\"2014\",\"2012\",\"2019\",\"2009\",\"2009\",\"2008\",\"2009\",\"2008\",\"2007\",\"2014\",\"2007\",\"2009\",\"2008\",\"2007\",\"2006\",\"2006\",\"2012\",\"2009\",\"2005\",\"2004\",\"2008\",\"2004\",\"2004\",\"2003\",\"2004\",\"2002\",\"2002\",\"2001\",\"2001\",\"2002\",\"2000\",\"2006\",\"2000\",\"2001\",\"1999\",\"1997\",\"1995\",\"1994\",\"1993\",\"1993\",\"1993\",\"1993\",\"1990\",\"1989\",\"1989\",\"1987\",\"1986\",\"1985\",\"1984\",\"1983\",\"1980\",\"1979\",\"1979\",\"1978\",\"1976\",\"1973\",\"1973\",\"1972\",\"1972\",\"1971\",\"1970\",\"1969\",\"1968\",\"1968\",\"1967\",\"1963\",\"1962\",\"1960\",\"1960\",\"1959\",\"1956\",\"1956\",\"1955\",\"1952\",\"1951\",\"1950\",\"1947\",\"1946\",\"1946\",\"1945\",\"1940\",\"1940\",\"1938\",\"1935\",\"1933\",\"1932\",\"1922\",\"2019\",\"2018\",\"2019\",\"2016\",\"2017\",\"2016\",\"2016\",\"2017\",\"2016\",\"2016\",\"2016\",\"2016\",\"2015\",\"2016\",\"2016\",\"2015\",\"2019\",\"2017\",\"2014\",\"2013\",\"2013\",\"2013\",\"2012\",\"2014\",\"2013\",\"2012\",\"2013\",\"2019\",\"2013\",\"2012\",\"2014\",\"2015\",\"2010\",\"2010\",\"2011\",\"2013\",\"2010\",\"2015\",\"2009\",\"2008\",\"2013\",\"2009\",\"2009\",\"2020\",\"2020\",\"2010\",\"2008\",\"2008\",\"2007\",\"2012\",\"2007\",\"2007\",\"2011\",\"2007\",\"2009\",\"2009\",\"2006\",\"2006\",\"2007\",\"2008\",\"2004\",\"2005\",\"2005\",\"2005\",\"2003\",\"2005\",\"2005\",\"2003\",\"2004\",\"2004\",\"2002\",\"2003\",\"2000\",\"2002\",\"2001\",\"2000\",\"2000\",\"1999\",\"2000\",\"1999\",\"1999\",\"1999\",\"2001\",\"1997\",\"1997\",\"1997\",\"1997\",\"1996\",\"1994\",\"1993\",\"1993\",\"1993\",\"1993\",\"1993\",\"1993\",\"1993\",\"1993\",\"1992\",\"1991\",\"1991\",\"1991\",\"1990\",\"1990\",\"1989\",\"1989\",\"1989\",\"1989\",\"1988\",\"1987\",\"1987\",\"1986\",\"1986\",\"1985\",\"1985\",\"1985\",\"1984\",\"1984\",\"1983\",\"1982\",\"1982\",\"1979\",\"1978\",\"1976\",\"1975\",\"1974\",\"1973\",\"1973\",\"1973\",\"1972\",\"1971\",\"1969\",\"1967\",\"1967\",\"1967\",\"1964\",\"1964\",\"1962\",\"1962\",\"1961\",\"1960\",\"1948\",\"1948\",\"1944\",\"1943\",\"1939\",\"1938\",\"1938\",\"1935\",\"1933\",\"1932\",\"1931\",\"2018\",\"2017\",\"2018\",\"2017\",\"2017\",\"2018\",\"2015\",\"2014\",\"2014\",\"2014\",\"2014\",\"2014\",\"2015\",\"2014\",\"2013\",\"2013\",\"2012\",\"2014\",\"2011\",\"2013\",\"2012\",\"2015\",\"2011\",\"2011\",\"2014\",\"2013\",\"2013\",\"2015\",\"2010\",\"2011\",\"2009\",\"2012\",\"2012\",\"2012\",\"2009\",\"2010\",\"2008\",\"2008\",\"2006\",\"2008\",\"2010\",\"2006\",\"2006\",\"2006\",\"2014\",\"2006\",\"2006\",\"2007\",\"2006\",\"2005\",\"2007\",\"2010\",\"2006\",\"2005\",\"2007\",\"2004\",\"2004\",\"2004\",\"2004\",\"2004\",\"2003\",\"2005\",\"2004\",\"2009\",\"2003\",\"2002\",\"2003\",\"2002\",\"2001\",\"2002\",\"2001\",\"2002\",\"2001\",\"2000\",\"2001\",\"2001\",\"2000\",\"2000\",\"2002\",\"1999\",\"1999\",\"1998\",\"2001\",\"1998\",\"1997\",\"1999\",\"1997\",\"1997\",\"1998\",\"1997\",\"1996\",\"1996\",\"1996\",\"1995\",\"1995\",\"1994\",\"1994\",\"1993\",\"1993\",\"1992\",\"1992\",\"1992\",\"1992\",\"1992\",\"1992\",\"1991\",\"1991\",\"1990\",\"1988\",\"1988\",\"1987\",\"1987\",\"1987\",\"1986\",\"1986\",\"1985\",\"1985\",\"1983\",\"1982\",\"1982\",\"1982\",\"1980\",\"1980\",\"1979\",\"1978\",\"1976\",\"1975\",\"1974\",\"1974\",\"1973\",\"1973\",\"1972\",\"1971\",\"1971\",\"1968\",\"1968\",\"1967\",\"1967\",\"1966\",\"1965\",\"1964\",\"1964\",\"1963\",\"1962\",\"1960\",\"1960\",\"1960\",\"1956\",\"1955\",\"1955\",\"1954\",\"1952\",\"1951\",\"1951\",\"1946\",\"1940\",\"1933\",\"2019\",\"2018\",\"2019\",\"2017\",\"2017\",\"2019\",\"2017\",\"2019\",\"2015\",\"2015\",\"2017\",\"2017\",\"2017\",\"2015\",\"2018\",\"2016\",\"2015\",\"2015\",\"2014\",\"2016\",\"2013\",\"2014\",\"2012\",\"2011\",\"2012\",\"2010\",\"2018\",\"2010\",\"2010\",\"2010\",\"2011\",\"2010\",\"2009\",\"2011\",\"2011\",\"2009\",\"2008\",\"2009\",\"2009\",\"2007\",\"2008\",\"2007\",\"2007\",\"2009\",\"2006\",\"2007\",\"2007\",\"2006\",\"2006\",\"2004\",\"2009\",\"2006\",\"2005\",\"2009\",\"2005\",\"2004\",\"2008\",\"2004\",\"2003\",\"2004\",\"2003\",\"2003\",\"2002\",\"2004\",\"2002\",\"2004\",\"2002\",\"2000\",\"2001\",\"2001\",\"2001\",\"2001\",\"2001\",\"2001\",\"2002\",\"1999\",\"2000\",\"1998\",\"1998\",\"1998\",\"1998\",\"1997\",\"1998\",\"1996\",\"1997\",\"1995\",\"1995\",\"1995\",\"1995\",\"PG\",\"1994\",\"1993\",\"1993\",\"1992\",\"1991\",\"1991\",\"1990\",\"1990\",\"1989\",\"1989\",\"1988\",\"1987\",\"1987\",\"1984\",\"1981\",\"1981\",\"1979\",\"1979\",\"1979\",\"1978\",\"1978\",\"1977\",\"1973\",\"1971\",\"1970\",\"1967\",\"1966\",\"1964\",\"1961\",\"1956\",\"1953\",\"1944\",\"1935\"],\"xaxis\":\"x\",\"y\":[\"142 min\",\"175 min\",\"152 min\",\"202 min\",\"96 min\",\"201 min\",\"154 min\",\"195 min\",\"148 min\",\"139 min\",\"178 min\",\"142 min\",\"161 min\",\"179 min\",\"136 min\",\"146 min\",\"124 min\",\"133 min\",\"160 min\",\"132 min\",\"153 min\",\"169 min\",\"130 min\",\"125 min\",\"169 min\",\"189 min\",\"116 min\",\"127 min\",\"118 min\",\"121 min\",\"133 min\",\"207 min\",\"130 min\",\"122 min\",\"106 min\",\"112 min\",\"130 min\",\"151 min\",\"150 min\",\"155 min\",\"119 min\",\"106 min\",\"110 min\",\"88 min\",\"137 min\",\"155 min\",\"89 min\",\"116 min\",\"165 min\",\"109 min\",\"102 min\",\"87 min\",\"87 min\",\"126 min\",\"125 min\",\"147 min\",\"106 min\",\"161 min\",\"117 min\",\"181 min\",\"149 min\",\"105 min\",\"165 min\",\"164 min\",\"170 min\",\"165 min\",\"98 min\",\"137 min\",\"101 min\",\"113 min\",\"134 min\",\"229 min\",\"115 min\",\"146 min\",\"147 min\",\"117 min\",\"122 min\",\"143 min\",\"95 min\",\"116 min\",\"88 min\",\"112 min\",\"110 min\",\"125 min\",\"119 min\",\"104 min\",\"139 min\",\"160 min\",\"115 min\",\"123 min\",\"131 min\",\"132 min\",\"112 min\",\"153 min\",\"108 min\",\"122 min\",\"104 min\",\"102 min\",\"122 min\",\"126 min\",\"89 min\",\"81 min\",\"178 min\",\"99 min\",\"116 min\",\"142 min\",\"137 min\",\"160 min\",\"170 min\",\"131 min\",\"149 min\",\"114 min\",\"129 min\",\"136 min\",\"149 min\",\"132 min\",\"228 min\",\"125 min\",\"136 min\",\"128 min\",\"103 min\",\"143 min\",\"89 min\",\"107 min\",\"119 min\",\"117 min\",\"153 min\",\"68 min\",\"143 min\",\"138 min\",\"156 min\",\"130 min\",\"115 min\",\"132 min\",\"167 min\",\"96 min\",\"163 min\",\"146 min\",\"87 min\",\"186 min\",\"321 min\",\"134 min\",\"135 min\",\"129 min\",\"140 min\",\"138 min\",\"96 min\",\"180 min\",\"153 min\",\"158 min\",\"118 min\",\"103 min\",\"132 min\",\"167 min\",\"122 min\",\"140 min\",\"210 min\",\"156 min\",\"119 min\",\"135 min\",\"156 min\",\"107 min\",\"138 min\",\"128 min\",\"170 min\",\"178 min\",\"160 min\",\"130 min\",\"127 min\",\"142 min\",\"86 min\",\"132 min\",\"162 min\",\"129 min\",\"162 min\",\"99 min\",\"177 min\",\"204 min\",\"91 min\",\"172 min\",\"129 min\",\"110 min\",\"179 min\",\"121 min\",\"91 min\",\"96 min\",\"118 min\",\"105 min\",\"136 min\",\"88 min\",\"138 min\",\"126 min\",\"99 min\",\"95 min\",\"45 min\",\"122 min\",\"136 min\",\"130 min\",\"106 min\",\"145 min\",\"139 min\",\"160 min\",\"137 min\",\"118 min\",\"122 min\",\"100 min\",\"196 min\",\"153 min\",\"125 min\",\"99 min\",\"149 min\",\"117 min\",\"139 min\",\"95 min\",\"151 min\",\"134 min\",\"123 min\",\"152 min\",\"129 min\",\"93 min\",\"122 min\",\"155 min\",\"153 min\",\"120 min\",\"104 min\",\"116 min\",\"130 min\",\"130 min\",\"93 min\",\"92 min\",\"98 min\",\"148 min\",\"122 min\",\"144 min\",\"132 min\",\"121 min\",\"140 min\",\"80 min\",\"156 min\",\"131 min\",\"183 min\",\"111 min\",\"100 min\",\"141 min\",\"154 min\",\"92 min\",\"87 min\",\"224 min\",\"107 min\",\"169 min\",\"103 min\",\"127 min\",\"117 min\",\"98 min\",\"93 min\",\"98 min\",\"170 min\",\"98 min\",\"189 min\",\"101 min\",\"99 min\",\"102 min\",\"127 min\",\"133 min\",\"171 min\",\"125 min\",\"128 min\",\"89 min\",\"120 min\",\"145 min\",\"117 min\",\"109 min\",\"95 min\",\"158 min\",\"188 min\",\"117 min\",\"124 min\",\"94 min\",\"183 min\",\"120 min\",\"121 min\",\"185 min\",\"107 min\",\"130 min\",\"102 min\",\"91 min\",\"167 min\",\"105 min\",\"127 min\",\"85 min\",\"205 min\",\"121 min\",\"95 min\",\"134 min\",\"96 min\",\"123 min\",\"95 min\",\"89 min\",\"128 min\",\"99 min\",\"212 min\",\"139 min\",\"110 min\",\"110 min\",\"161 min\",\"108 min\",\"131 min\",\"111 min\",\"114 min\",\"104 min\",\"135 min\",\"99 min\",\"130 min\",\"129 min\",\"238 min\",\"113 min\",\"105 min\",\"110 min\",\"72 min\",\"94 min\",\"67 min\",\"76 min\",\"124 min\",\"113 min\",\"130 min\",\"163 min\",\"159 min\",\"128 min\",\"118 min\",\"144 min\",\"108 min\",\"159 min\",\"137 min\",\"113 min\",\"154 min\",\"144 min\",\"96 min\",\"150 min\",\"114 min\",\"121 min\",\"164 min\",\"126 min\",\"134 min\",\"156 min\",\"103 min\",\"115 min\",\"118 min\",\"146 min\",\"108 min\",\"119 min\",\"144 min\",\"106 min\",\"165 min\",\"128 min\",\"120 min\",\"108 min\",\"115 min\",\"143 min\",\"96 min\",\"117 min\",\"117 min\",\"143 min\",\"115 min\",\"88 min\",\"124 min\",\"112 min\",\"127 min\",\"111 min\",\"144 min\",\"137 min\",\"110 min\",\"103 min\",\"126 min\",\"144 min\",\"186 min\",\"101 min\",\"143 min\",\"125 min\",\"115 min\",\"137 min\",\"178 min\",\"110 min\",\"113 min\",\"188 min\",\"140 min\",\"112 min\",\"81 min\",\"105 min\",\"110 min\",\"86 min\",\"87 min\",\"135 min\",\"136 min\",\"129 min\",\"83 min\",\"76 min\",\"101 min\",\"180 min\",\"156 min\",\"90 min\",\"189 min\",\"84 min\",\"181 min\",\"120 min\",\"133 min\",\"124 min\",\"98 min\",\"128 min\",\"104 min\",\"125 min\",\"107 min\",\"191 min\",\"180 min\",\"130 min\",\"93 min\",\"124 min\",\"125 min\",\"106 min\",\"151 min\",\"122 min\",\"138 min\",\"118 min\",\"181 min\",\"113 min\",\"110 min\",\"137 min\",\"112 min\",\"106 min\",\"131 min\",\"172 min\",\"197 min\",\"99 min\",\"138 min\",\"80 min\",\"134 min\",\"174 min\",\"141 min\",\"161 min\",\"95 min\",\"108 min\",\"96 min\",\"84 min\",\"92 min\",\"108 min\",\"117 min\",\"120 min\",\"118 min\",\"122 min\",\"94 min\",\"106 min\",\"80 min\",\"97 min\",\"86 min\",\"88 min\",\"170 min\",\"118 min\",\"100 min\",\"129 min\",\"102 min\",\"110 min\",\"91 min\",\"152 min\",\"75 min\",\"130 min\",\"101 min\",\"121 min\",\"137 min\",\"132 min\",\"100 min\",\"101 min\",\"101 min\",\"118 min\",\"106 min\",\"130 min\",\"117 min\",\"108 min\",\"116 min\",\"138 min\",\"109 min\",\"132 min\",\"157 min\",\"100 min\",\"113 min\",\"127 min\",\"209 min\",\"155 min\",\"97 min\",\"114 min\",\"112 min\",\"109 min\",\"138 min\",\"165 min\",\"113 min\",\"127 min\",\"107 min\",\"87 min\",\"141 min\",\"117 min\",\"127 min\",\"87 min\",\"129 min\",\"97 min\",\"126 min\",\"99 min\",\"121 min\",\"138 min\",\"142 min\",\"120 min\",\"112 min\",\"98 min\",\"115 min\",\"119 min\",\"114 min\",\"109 min\",\"122 min\",\"147 min\",\"92 min\",\"155 min\",\"111 min\",\"102 min\",\"119 min\",\"94 min\",\"94 min\",\"144 min\",\"105 min\",\"103 min\",\"104 min\",\"119 min\",\"107 min\",\"132 min\",\"82 min\",\"93 min\",\"133 min\",\"96 min\",\"123 min\",\"127 min\",\"138 min\",\"114 min\",\"123 min\",\"102 min\",\"95 min\",\"91 min\",\"172 min\",\"145 min\",\"96 min\",\"134 min\",\"110 min\",\"113 min\",\"126 min\",\"197 min\",\"144 min\",\"90 min\",\"220 min\",\"119 min\",\"118 min\",\"85 min\",\"101 min\",\"104 min\",\"96 min\",\"102 min\",\"114 min\",\"101 min\",\"112 min\",\"92 min\",\"102 min\",\"96 min\",\"100 min\",\"64 min\",\"94 min\",\"113 min\",\"138 min\",\"120 min\",\"124 min\",\"106 min\",\"96 min\",\"127 min\",\"103 min\",\"148 min\",\"101 min\",\"184 min\",\"137 min\",\"100 min\",\"133 min\",\"147 min\",\"168 min\",\"135 min\",\"94 min\",\"119 min\",\"130 min\",\"141 min\",\"104 min\",\"126 min\",\"102 min\",\"123 min\",\"134 min\",\"126 min\",\"100 min\",\"131 min\",\"94 min\",\"102 min\",\"130 min\",\"106 min\",\"144 min\",\"158 min\",\"134 min\",\"119 min\",\"147 min\",\"129 min\",\"125 min\",\"161 min\",\"144 min\",\"152 min\",\"129 min\",\"117 min\",\"116 min\",\"90 min\",\"94 min\",\"86 min\",\"169 min\",\"122 min\",\"123 min\",\"100 min\",\"157 min\",\"162 min\",\"141 min\",\"139 min\",\"101 min\",\"121 min\",\"166 min\",\"192 min\",\"94 min\",\"129 min\",\"127 min\",\"90 min\",\"119 min\",\"136 min\",\"113 min\",\"123 min\",\"126 min\",\"109 min\",\"80 min\",\"110 min\",\"131 min\",\"99 min\",\"113 min\",\"120 min\",\"101 min\",\"143 min\",\"108 min\",\"157 min\",\"108 min\",\"90 min\",\"194 min\",\"103 min\",\"106 min\",\"129 min\",\"159 min\",\"127 min\",\"118 min\",\"130 min\",\"101 min\",\"134 min\",\"132 min\",\"130 min\",\"121 min\",\"76 min\",\"128 min\",\"129 min\",\"98 min\",\"112 min\",\"107 min\",\"121 min\",\"103 min\",\"122 min\",\"111 min\",\"108 min\",\"128 min\",\"107 min\",\"84 min\",\"103 min\",\"107 min\",\"114 min\",\"154 min\",\"97 min\",\"141 min\",\"105 min\",\"193 min\",\"109 min\",\"115 min\",\"105 min\",\"94 min\",\"135 min\",\"129 min\",\"113 min\",\"72 min\",\"143 min\",\"94 min\",\"124 min\",\"100 min\",\"113 min\",\"108 min\",\"108 min\",\"111 min\",\"170 min\",\"139 min\",\"178 min\",\"105 min\",\"100 min\",\"90 min\",\"133 min\",\"100 min\",\"100 min\",\"108 min\",\"96 min\",\"96 min\",\"102 min\",\"75 min\",\"69 min\",\"93 min\",\"70 min\",\"135 min\",\"104 min\",\"119 min\",\"107 min\",\"104 min\",\"147 min\",\"116 min\",\"86 min\",\"103 min\",\"123 min\",\"129 min\",\"126 min\",\"105 min\",\"119 min\",\"180 min\",\"130 min\",\"111 min\",\"136 min\",\"159 min\",\"115 min\",\"101 min\",\"108 min\",\"98 min\",\"96 min\",\"100 min\",\"91 min\",\"132 min\",\"137 min\",\"120 min\",\"131 min\",\"100 min\",\"143 min\",\"122 min\",\"120 min\",\"95 min\",\"146 min\",\"101 min\",\"122 min\",\"90 min\",\"141 min\",\"90 min\",\"98 min\",\"126 min\",\"101 min\",\"108 min\",\"120 min\",\"123 min\",\"157 min\",\"110 min\",\"116 min\",\"122 min\",\"100 min\",\"145 min\",\"134 min\",\"122 min\",\"112 min\",\"99 min\",\"108 min\",\"101 min\",\"152 min\",\"102 min\",\"157 min\",\"146 min\",\"100 min\",\"154 min\",\"114 min\",\"121 min\",\"105 min\",\"132 min\",\"115 min\",\"144 min\",\"117 min\",\"120 min\",\"110 min\",\"95 min\",\"116 min\",\"103 min\",\"107 min\",\"116 min\",\"81 min\",\"89 min\",\"134 min\",\"122 min\",\"93 min\",\"119 min\",\"113 min\",\"139 min\",\"126 min\",\"80 min\",\"127 min\",\"105 min\",\"129 min\",\"242 min\",\"97 min\",\"99 min\",\"108 min\",\"92 min\",\"188 min\",\"125 min\",\"85 min\",\"202 min\",\"112 min\",\"94 min\",\"100 min\",\"138 min\",\"130 min\",\"116 min\",\"115 min\",\"104 min\",\"107 min\",\"107 min\",\"163 min\",\"153 min\",\"130 min\",\"120 min\",\"82 min\",\"97 min\",\"79 min\",\"129 min\",\"113 min\",\"93 min\",\"124 min\",\"88 min\",\"100 min\",\"91 min\",\"126 min\",\"85 min\",\"104 min\",\"93 min\",\"130 min\",\"102 min\",\"109 min\",\"104 min\",\"102 min\",\"158 min\",\"105 min\",\"150 min\",\"100 min\",\"120 min\",\"105 min\",\"138 min\",\"110 min\",\"119 min\",\"106 min\",\"101 min\",\"128 min\",\"90 min\",\"80 min\",\"111 min\",\"91 min\",\"113 min\",\"129 min\",\"92 min\",\"105 min\",\"110 min\",\"125 min\",\"71 min\",\"126 min\",\"102 min\",\"161 min\",\"127 min\",\"111 min\",\"137 min\",\"101 min\",\"97 min\",\"138 min\",\"97 min\",\"136 min\",\"113 min\",\"134 min\",\"142 min\",\"118 min\",\"107 min\",\"121 min\",\"133 min\",\"140 min\",\"102 min\",\"98 min\",\"130 min\",\"112 min\",\"101 min\",\"109 min\",\"94 min\",\"136 min\",\"110 min\",\"118 min\",\"95 min\",\"100 min\",\"117 min\",\"113 min\",\"133 min\",\"120 min\",\"88 min\",\"107 min\",\"128 min\",\"129 min\",\"104 min\",\"123 min\",\"100 min\",\"127 min\",\"71 min\",\"129 min\",\"114 min\",\"140 min\",\"104 min\",\"110 min\",\"90 min\",\"153 min\",\"117 min\",\"124 min\",\"162 min\",\"122 min\",\"103 min\",\"124 min\",\"105 min\",\"93 min\",\"133 min\",\"89 min\",\"124 min\",\"129 min\",\"106 min\",\"135 min\",\"113 min\",\"113 min\",\"114 min\",\"110 min\",\"106 min\",\"152 min\",\"101 min\",\"124 min\",\"131 min\",\"145 min\",\"146 min\",\"101 min\",\"81 min\",\"170 min\",\"88 min\",\"118 min\",\"108 min\",\"100 min\",\"147 min\",\"134 min\",\"136 min\",\"128 min\",\"121 min\",\"135 min\",\"140 min\",\"92 min\",\"113 min\",\"102 min\",\"120 min\",\"118 min\",\"99 min\",\"103 min\",\"162 min\",\"95 min\",\"83 min\",\"85 min\",\"93 min\",\"109 min\",\"99 min\",\"109 min\",\"96 min\",\"92 min\",\"95 min\",\"112 min\",\"91 min\",\"121 min\",\"138 min\",\"112 min\",\"157 min\",\"144 min\",\"78 min\",\"111 min\",\"87 min\",\"115 min\",\"201 min\",\"118 min\",\"97 min\",\"86 min\"],\"yaxis\":\"y\",\"type\":\"bar\"}],                        {\"template\":{\"data\":{\"histogram2dcontour\":[{\"type\":\"histogram2dcontour\",\"colorbar\":{\"outlinewidth\":0,\"ticks\":\"\"},\"colorscale\":[[0.0,\"#0d0887\"],[0.1111111111111111,\"#46039f\"],[0.2222222222222222,\"#7201a8\"],[0.3333333333333333,\"#9c179e\"],[0.4444444444444444,\"#bd3786\"],[0.5555555555555556,\"#d8576b\"],[0.6666666666666666,\"#ed7953\"],[0.7777777777777778,\"#fb9f3a\"],[0.8888888888888888,\"#fdca26\"],[1.0,\"#f0f921\"]]}],\"choropleth\":[{\"type\":\"choropleth\",\"colorbar\":{\"outlinewidth\":0,\"ticks\":\"\"}}],\"histogram2d\":[{\"type\":\"histogram2d\",\"colorbar\":{\"outlinewidth\":0,\"ticks\":\"\"},\"colorscale\":[[0.0,\"#0d0887\"],[0.1111111111111111,\"#46039f\"],[0.2222222222222222,\"#7201a8\"],[0.3333333333333333,\"#9c179e\"],[0.4444444444444444,\"#bd3786\"],[0.5555555555555556,\"#d8576b\"],[0.6666666666666666,\"#ed7953\"],[0.7777777777777778,\"#fb9f3a\"],[0.8888888888888888,\"#fdca26\"],[1.0,\"#f0f921\"]]}],\"heatmap\":[{\"type\":\"heatmap\",\"colorbar\":{\"outlinewidth\":0,\"ticks\":\"\"},\"colorscale\":[[0.0,\"#0d0887\"],[0.1111111111111111,\"#46039f\"],[0.2222222222222222,\"#7201a8\"],[0.3333333333333333,\"#9c179e\"],[0.4444444444444444,\"#bd3786\"],[0.5555555555555556,\"#d8576b\"],[0.6666666666666666,\"#ed7953\"],[0.7777777777777778,\"#fb9f3a\"],[0.8888888888888888,\"#fdca26\"],[1.0,\"#f0f921\"]]}],\"heatmapgl\":[{\"type\":\"heatmapgl\",\"colorbar\":{\"outlinewidth\":0,\"ticks\":\"\"},\"colorscale\":[[0.0,\"#0d0887\"],[0.1111111111111111,\"#46039f\"],[0.2222222222222222,\"#7201a8\"],[0.3333333333333333,\"#9c179e\"],[0.4444444444444444,\"#bd3786\"],[0.5555555555555556,\"#d8576b\"],[0.6666666666666666,\"#ed7953\"],[0.7777777777777778,\"#fb9f3a\"],[0.8888888888888888,\"#fdca26\"],[1.0,\"#f0f921\"]]}],\"contourcarpet\":[{\"type\":\"contourcarpet\",\"colorbar\":{\"outlinewidth\":0,\"ticks\":\"\"}}],\"contour\":[{\"type\":\"contour\",\"colorbar\":{\"outlinewidth\":0,\"ticks\":\"\"},\"colorscale\":[[0.0,\"#0d0887\"],[0.1111111111111111,\"#46039f\"],[0.2222222222222222,\"#7201a8\"],[0.3333333333333333,\"#9c179e\"],[0.4444444444444444,\"#bd3786\"],[0.5555555555555556,\"#d8576b\"],[0.6666666666666666,\"#ed7953\"],[0.7777777777777778,\"#fb9f3a\"],[0.8888888888888888,\"#fdca26\"],[1.0,\"#f0f921\"]]}],\"surface\":[{\"type\":\"surface\",\"colorbar\":{\"outlinewidth\":0,\"ticks\":\"\"},\"colorscale\":[[0.0,\"#0d0887\"],[0.1111111111111111,\"#46039f\"],[0.2222222222222222,\"#7201a8\"],[0.3333333333333333,\"#9c179e\"],[0.4444444444444444,\"#bd3786\"],[0.5555555555555556,\"#d8576b\"],[0.6666666666666666,\"#ed7953\"],[0.7777777777777778,\"#fb9f3a\"],[0.8888888888888888,\"#fdca26\"],[1.0,\"#f0f921\"]]}],\"mesh3d\":[{\"type\":\"mesh3d\",\"colorbar\":{\"outlinewidth\":0,\"ticks\":\"\"}}],\"scatter\":[{\"fillpattern\":{\"fillmode\":\"overlay\",\"size\":10,\"solidity\":0.2},\"type\":\"scatter\"}],\"parcoords\":[{\"type\":\"parcoords\",\"line\":{\"colorbar\":{\"outlinewidth\":0,\"ticks\":\"\"}}}],\"scatterpolargl\":[{\"type\":\"scatterpolargl\",\"marker\":{\"colorbar\":{\"outlinewidth\":0,\"ticks\":\"\"}}}],\"bar\":[{\"error_x\":{\"color\":\"#2a3f5f\"},\"error_y\":{\"color\":\"#2a3f5f\"},\"marker\":{\"line\":{\"color\":\"#E5ECF6\",\"width\":0.5},\"pattern\":{\"fillmode\":\"overlay\",\"size\":10,\"solidity\":0.2}},\"type\":\"bar\"}],\"scattergeo\":[{\"type\":\"scattergeo\",\"marker\":{\"colorbar\":{\"outlinewidth\":0,\"ticks\":\"\"}}}],\"scatterpolar\":[{\"type\":\"scatterpolar\",\"marker\":{\"colorbar\":{\"outlinewidth\":0,\"ticks\":\"\"}}}],\"histogram\":[{\"marker\":{\"pattern\":{\"fillmode\":\"overlay\",\"size\":10,\"solidity\":0.2}},\"type\":\"histogram\"}],\"scattergl\":[{\"type\":\"scattergl\",\"marker\":{\"colorbar\":{\"outlinewidth\":0,\"ticks\":\"\"}}}],\"scatter3d\":[{\"type\":\"scatter3d\",\"line\":{\"colorbar\":{\"outlinewidth\":0,\"ticks\":\"\"}},\"marker\":{\"colorbar\":{\"outlinewidth\":0,\"ticks\":\"\"}}}],\"scattermapbox\":[{\"type\":\"scattermapbox\",\"marker\":{\"colorbar\":{\"outlinewidth\":0,\"ticks\":\"\"}}}],\"scatterternary\":[{\"type\":\"scatterternary\",\"marker\":{\"colorbar\":{\"outlinewidth\":0,\"ticks\":\"\"}}}],\"scattercarpet\":[{\"type\":\"scattercarpet\",\"marker\":{\"colorbar\":{\"outlinewidth\":0,\"ticks\":\"\"}}}],\"carpet\":[{\"aaxis\":{\"endlinecolor\":\"#2a3f5f\",\"gridcolor\":\"white\",\"linecolor\":\"white\",\"minorgridcolor\":\"white\",\"startlinecolor\":\"#2a3f5f\"},\"baxis\":{\"endlinecolor\":\"#2a3f5f\",\"gridcolor\":\"white\",\"linecolor\":\"white\",\"minorgridcolor\":\"white\",\"startlinecolor\":\"#2a3f5f\"},\"type\":\"carpet\"}],\"table\":[{\"cells\":{\"fill\":{\"color\":\"#EBF0F8\"},\"line\":{\"color\":\"white\"}},\"header\":{\"fill\":{\"color\":\"#C8D4E3\"},\"line\":{\"color\":\"white\"}},\"type\":\"table\"}],\"barpolar\":[{\"marker\":{\"line\":{\"color\":\"#E5ECF6\",\"width\":0.5},\"pattern\":{\"fillmode\":\"overlay\",\"size\":10,\"solidity\":0.2}},\"type\":\"barpolar\"}],\"pie\":[{\"automargin\":true,\"type\":\"pie\"}]},\"layout\":{\"autotypenumbers\":\"strict\",\"colorway\":[\"#636efa\",\"#EF553B\",\"#00cc96\",\"#ab63fa\",\"#FFA15A\",\"#19d3f3\",\"#FF6692\",\"#B6E880\",\"#FF97FF\",\"#FECB52\"],\"font\":{\"color\":\"#2a3f5f\"},\"hovermode\":\"closest\",\"hoverlabel\":{\"align\":\"left\"},\"paper_bgcolor\":\"white\",\"plot_bgcolor\":\"#E5ECF6\",\"polar\":{\"bgcolor\":\"#E5ECF6\",\"angularaxis\":{\"gridcolor\":\"white\",\"linecolor\":\"white\",\"ticks\":\"\"},\"radialaxis\":{\"gridcolor\":\"white\",\"linecolor\":\"white\",\"ticks\":\"\"}},\"ternary\":{\"bgcolor\":\"#E5ECF6\",\"aaxis\":{\"gridcolor\":\"white\",\"linecolor\":\"white\",\"ticks\":\"\"},\"baxis\":{\"gridcolor\":\"white\",\"linecolor\":\"white\",\"ticks\":\"\"},\"caxis\":{\"gridcolor\":\"white\",\"linecolor\":\"white\",\"ticks\":\"\"}},\"coloraxis\":{\"colorbar\":{\"outlinewidth\":0,\"ticks\":\"\"}},\"colorscale\":{\"sequential\":[[0.0,\"#0d0887\"],[0.1111111111111111,\"#46039f\"],[0.2222222222222222,\"#7201a8\"],[0.3333333333333333,\"#9c179e\"],[0.4444444444444444,\"#bd3786\"],[0.5555555555555556,\"#d8576b\"],[0.6666666666666666,\"#ed7953\"],[0.7777777777777778,\"#fb9f3a\"],[0.8888888888888888,\"#fdca26\"],[1.0,\"#f0f921\"]],\"sequentialminus\":[[0.0,\"#0d0887\"],[0.1111111111111111,\"#46039f\"],[0.2222222222222222,\"#7201a8\"],[0.3333333333333333,\"#9c179e\"],[0.4444444444444444,\"#bd3786\"],[0.5555555555555556,\"#d8576b\"],[0.6666666666666666,\"#ed7953\"],[0.7777777777777778,\"#fb9f3a\"],[0.8888888888888888,\"#fdca26\"],[1.0,\"#f0f921\"]],\"diverging\":[[0,\"#8e0152\"],[0.1,\"#c51b7d\"],[0.2,\"#de77ae\"],[0.3,\"#f1b6da\"],[0.4,\"#fde0ef\"],[0.5,\"#f7f7f7\"],[0.6,\"#e6f5d0\"],[0.7,\"#b8e186\"],[0.8,\"#7fbc41\"],[0.9,\"#4d9221\"],[1,\"#276419\"]]},\"xaxis\":{\"gridcolor\":\"white\",\"linecolor\":\"white\",\"ticks\":\"\",\"title\":{\"standoff\":15},\"zerolinecolor\":\"white\",\"automargin\":true,\"zerolinewidth\":2},\"yaxis\":{\"gridcolor\":\"white\",\"linecolor\":\"white\",\"ticks\":\"\",\"title\":{\"standoff\":15},\"zerolinecolor\":\"white\",\"automargin\":true,\"zerolinewidth\":2},\"scene\":{\"xaxis\":{\"backgroundcolor\":\"#E5ECF6\",\"gridcolor\":\"white\",\"linecolor\":\"white\",\"showbackground\":true,\"ticks\":\"\",\"zerolinecolor\":\"white\",\"gridwidth\":2},\"yaxis\":{\"backgroundcolor\":\"#E5ECF6\",\"gridcolor\":\"white\",\"linecolor\":\"white\",\"showbackground\":true,\"ticks\":\"\",\"zerolinecolor\":\"white\",\"gridwidth\":2},\"zaxis\":{\"backgroundcolor\":\"#E5ECF6\",\"gridcolor\":\"white\",\"linecolor\":\"white\",\"showbackground\":true,\"ticks\":\"\",\"zerolinecolor\":\"white\",\"gridwidth\":2}},\"shapedefaults\":{\"line\":{\"color\":\"#2a3f5f\"}},\"annotationdefaults\":{\"arrowcolor\":\"#2a3f5f\",\"arrowhead\":0,\"arrowwidth\":1},\"geo\":{\"bgcolor\":\"white\",\"landcolor\":\"#E5ECF6\",\"subunitcolor\":\"white\",\"showland\":true,\"showlakes\":true,\"lakecolor\":\"white\"},\"title\":{\"x\":0.05},\"mapbox\":{\"style\":\"light\"}}},\"xaxis\":{\"anchor\":\"y\",\"domain\":[0.0,1.0],\"title\":{\"text\":\"Released_Year\"}},\"yaxis\":{\"anchor\":\"x\",\"domain\":[0.0,1.0],\"title\":{\"text\":\"Runtime\"}},\"coloraxis\":{\"colorbar\":{\"title\":{\"text\":\"IMDB_Rating\"}},\"colorscale\":[[0.0,\"#0d0887\"],[0.1111111111111111,\"#46039f\"],[0.2222222222222222,\"#7201a8\"],[0.3333333333333333,\"#9c179e\"],[0.4444444444444444,\"#bd3786\"],[0.5555555555555556,\"#d8576b\"],[0.6666666666666666,\"#ed7953\"],[0.7777777777777778,\"#fb9f3a\"],[0.8888888888888888,\"#fdca26\"],[1.0,\"#f0f921\"]]},\"legend\":{\"tracegroupgap\":0},\"margin\":{\"t\":60},\"barmode\":\"relative\"},                        {\"responsive\": true}                    ).then(function(){\n",
              "                            \n",
              "var gd = document.getElementById('fa2f6fd0-2915-445c-9dcb-71d10dbda242');\n",
              "var x = new MutationObserver(function (mutations, observer) {{\n",
              "        var display = window.getComputedStyle(gd).display;\n",
              "        if (!display || display === 'none') {{\n",
              "            console.log([gd, 'removed!']);\n",
              "            Plotly.purge(gd);\n",
              "            observer.disconnect();\n",
              "        }}\n",
              "}});\n",
              "\n",
              "// Listen for the removal of the full notebook cells\n",
              "var notebookContainer = gd.closest('#notebook-container');\n",
              "if (notebookContainer) {{\n",
              "    x.observe(notebookContainer, {childList: true});\n",
              "}}\n",
              "\n",
              "// Listen for the clearing of the current output cell\n",
              "var outputEl = gd.closest('.output');\n",
              "if (outputEl) {{\n",
              "    x.observe(outputEl, {childList: true});\n",
              "}}\n",
              "\n",
              "                        })                };                            </script>        </div>\n",
              "</body>\n",
              "</html>"
            ]
          },
          "metadata": {}
        }
      ]
    },
    {
      "cell_type": "markdown",
      "source": [
        "The above bar plot contains the data of IMDB rating also, and it is given by the hue pattern.\n",
        "The darker the bar(towards dark blue), the lower is the rating and viceversa(towards yellow)."
      ],
      "metadata": {
        "id": "q5N2R1qLA59F"
      }
    },
    {
      "cell_type": "code",
      "source": [
        "px.histogram(movies, x= 'Meta_score', nbins=2 ,title = 'No. of movies released in a year' , color_discrete_sequence = ['black'])"
      ],
      "metadata": {
        "id": "yXFzBL6AApha",
        "outputId": "14f6460b-cda8-492b-9671-ef1b1a8c50e4",
        "colab": {
          "base_uri": "https://localhost:8080/",
          "height": 542
        }
      },
      "execution_count": null,
      "outputs": [
        {
          "output_type": "display_data",
          "data": {
            "text/html": [
              "<html>\n",
              "<head><meta charset=\"utf-8\" /></head>\n",
              "<body>\n",
              "    <div>            <script src=\"https://cdnjs.cloudflare.com/ajax/libs/mathjax/2.7.5/MathJax.js?config=TeX-AMS-MML_SVG\"></script><script type=\"text/javascript\">if (window.MathJax && window.MathJax.Hub && window.MathJax.Hub.Config) {window.MathJax.Hub.Config({SVG: {font: \"STIX-Web\"}});}</script>                <script type=\"text/javascript\">window.PlotlyConfig = {MathJaxConfig: 'local'};</script>\n",
              "        <script src=\"https://cdn.plot.ly/plotly-2.18.2.min.js\"></script>                <div id=\"db0dc2cd-d928-48b6-bdd8-bebb1a2819b4\" class=\"plotly-graph-div\" style=\"height:525px; width:100%;\"></div>            <script type=\"text/javascript\">                                    window.PLOTLYENV=window.PLOTLYENV || {};                                    if (document.getElementById(\"db0dc2cd-d928-48b6-bdd8-bebb1a2819b4\")) {                    Plotly.newPlot(                        \"db0dc2cd-d928-48b6-bdd8-bebb1a2819b4\",                        [{\"alignmentgroup\":\"True\",\"bingroup\":\"x\",\"hovertemplate\":\"Meta_score=%{x}<br>count=%{y}<extra></extra>\",\"legendgroup\":\"\",\"marker\":{\"color\":\"black\",\"pattern\":{\"shape\":\"\"}},\"name\":\"\",\"nbinsx\":2,\"offsetgroup\":\"\",\"orientation\":\"v\",\"showlegend\":false,\"x\":[80.0,100.0,84.0,90.0,96.0,94.0,94.0,94.0,74.0,66.0,92.0,82.0,90.0,87.0,73.0,90.0,82.0,83.0,90.0,96.0,null,74.0,79.0,96.0,91.0,61.0,59.0,65.0,85.0,90.0,85.0,98.0,89.0,59.0,88.0,57.0,66.0,85.0,85.0,67.0,62.0,77.0,64.0,88.0,75.0,80.0,94.0,87.0,80.0,97.0,100.0,96.0,99.0,75.0,null,null,79.0,null,87.0,78.0,68.0,81.0,81.0,78.0,67.0,null,95.0,89.0,77.0,80.0,76.0,null,85.0,66.0,94.0,89.0,null,null,97.0,null,90.0,100.0,null,null,78.0,null,null,null,77.0,95.0,80.0,null,null,69.0,89.0,69.0,55.0,68.0,84.0,70.0,77.0,95.0,68.0,79.0,76.0,null,84.0,88.0,65.0,58.0,86.0,94.0,83.0,77.0,84.0,74.0,100.0,94.0,98.0,100.0,99.0,null,null,95.0,100.0,null,98.0,null,null,null,null,69.0,88.0,null,null,65.0,null,null,73.0,null,89.0,null,null,80.0,71.0,63.0,88.0,75.0,68.0,93.0,98.0,92.0,62.0,null,null,70.0,null,82.0,80.0,72.0,null,66.0,90.0,null,76.0,73.0,null,85.0,65.0,null,86.0,72.0,96.0,89.0,null,null,null,null,91.0,86.0,88.0,null,60.0,98.0,88.0,88.0,97.0,75.0,null,98.0,98.0,98.0,86.0,null,null,95.0,null,78.0,null,84.0,74.0,null,77.0,86.0,77.0,83.0,88.0,null,null,88.0,79.0,71.0,71.0,94.0,null,96.0,74.0,81.0,93.0,85.0,null,null,70.0,90.0,null,72.0,85.0,68.0,null,null,75.0,73.0,91.0,null,86.0,79.0,64.0,90.0,null,82.0,null,69.0,90.0,75.0,83.0,79.0,null,84.0,64.0,58.0,90.0,73.0,71.0,85.0,83.0,85.0,null,null,null,77.0,100.0,77.0,68.0,84.0,null,null,79.0,75.0,92.0,78.0,86.0,57.0,47.0,null,100.0,84.0,78.0,77.0,86.0,70.0,83.0,89.0,null,92.0,77.0,null,90.0,null,92.0,86.0,null,96.0,null,75.0,null,94.0,null,null,75.0,null,90.0,null,null,null,87.0,91.0,85.0,72.0,null,97.0,null,96.0,86.0,73.0,97.0,null,87.0,null,90.0,null,null,null,null,69.0,null,null,null,94.0,69.0,80.0,78.0,null,89.0,66.0,65.0,null,82.0,71.0,73.0,76.0,81.0,90.0,49.0,76.0,67.0,71.0,88.0,62.0,65.0,87.0,null,59.0,50.0,null,84.0,79.0,33.0,69.0,90.0,80.0,64.0,64.0,85.0,72.0,74.0,92.0,null,96.0,80.0,83.0,82.0,85.0,74.0,69.0,54.0,75.0,63.0,58.0,90.0,null,60.0,null,88.0,77.0,61.0,86.0,null,82.0,80.0,85.0,null,84.0,91.0,74.0,76.0,82.0,72.0,47.0,59.0,86.0,72.0,95.0,72.0,93.0,65.0,null,77.0,79.0,88.0,78.0,84.0,79.0,84.0,83.0,92.0,87.0,86.0,80.0,58.0,81.0,null,93.0,67.0,100.0,66.0,96.0,79.0,83.0,75.0,63.0,69.0,65.0,91.0,null,90.0,95.0,93.0,95.0,99.0,84.0,100.0,91.0,99.0,null,null,84.0,78.0,97.0,null,null,73.0,null,92.0,null,93.0,null,96.0,96.0,92.0,null,86.0,91.0,97.0,82.0,null,93.0,94.0,93.0,78.0,82.0,81.0,72.0,79.0,74.0,76.0,58.0,81.0,80.0,94.0,75.0,82.0,89.0,71.0,94.0,94.0,90.0,67.0,82.0,81.0,80.0,null,100.0,97.0,82.0,67.0,null,89.0,64.0,79.0,83.0,81.0,56.0,79.0,76.0,78.0,84.0,82.0,85.0,86.0,84.0,61.0,68.0,80.0,84.0,90.0,85.0,88.0,85.0,75.0,77.0,59.0,85.0,null,65.0,74.0,97.0,77.0,79.0,90.0,84.0,92.0,77.0,60.0,83.0,72.0,71.0,84.0,76.0,null,93.0,null,62.0,91.0,97.0,89.0,null,75.0,83.0,94.0,87.0,null,null,null,94.0,72.0,89.0,88.0,null,88.0,100.0,null,null,96.0,null,97.0,null,90.0,80.0,null,51.0,null,81.0,85.0,94.0,null,74.0,88.0,null,84.0,null,96.0,75.0,65.0,75.0,68.0,91.0,62.0,79.0,85.0,86.0,76.0,null,74.0,55.0,null,83.0,84.0,49.0,84.0,76.0,81.0,null,67.0,71.0,82.0,null,72.0,79.0,64.0,66.0,82.0,76.0,77.0,81.0,79.0,51.0,55.0,88.0,58.0,85.0,85.0,78.0,76.0,83.0,63.0,68.0,80.0,81.0,70.0,67.0,51.0,82.0,68.0,73.0,74.0,72.0,61.0,53.0,75.0,82.0,91.0,58.0,61.0,83.0,48.0,94.0,87.0,73.0,44.0,84.0,71.0,84.0,75.0,null,64.0,61.0,76.0,70.0,73.0,50.0,55.0,84.0,84.0,87.0,80.0,null,null,68.0,86.0,76.0,75.0,74.0,83.0,78.0,82.0,57.0,65.0,45.0,72.0,61.0,75.0,62.0,78.0,66.0,76.0,71.0,91.0,73.0,91.0,77.0,93.0,69.0,91.0,85.0,73.0,80.0,93.0,80.0,67.0,79.0,81.0,63.0,86.0,95.0,88.0,75.0,97.0,88.0,null,null,null,null,94.0,93.0,98.0,91.0,95.0,93.0,87.0,91.0,96.0,85.0,66.0,73.0,85.0,86.0,70.0,76.0,72.0,72.0,60.0,69.0,74.0,87.0,89.0,40.0,70.0,70.0,null,87.0,72.0,70.0,52.0,81.0,83.0,96.0,72.0,79.0,95.0,65.0,73.0,81.0,81.0,86.0,76.0,65.0,86.0,80.0,81.0,63.0,45.0,null,null,86.0,78.0,78.0,74.0,78.0,53.0,70.0,78.0,71.0,71.0,87.0,76.0,66.0,78.0,73.0,61.0,73.0,89.0,81.0,47.0,80.0,55.0,83.0,68.0,76.0,28.0,83.0,74.0,72.0,60.0,74.0,85.0,74.0,62.0,69.0,null,73.0,68.0,81.0,69.0,86.0,null,90.0,67.0,52.0,73.0,76.0,87.0,47.0,null,83.0,71.0,81.0,70.0,79.0,66.0,64.0,73.0,76.0,83.0,82.0,62.0,64.0,69.0,66.0,83.0,null,84.0,76.0,62.0,54.0,76.0,75.0,90.0,null,77.0,67.0,61.0,86.0,78.0,71.0,87.0,71.0,89.0,68.0,73.0,87.0,83.0,80.0,94.0,90.0,63.0,86.0,73.0,null,72.0,91.0,77.0,87.0,90.0,76.0,null,74.0,90.0,92.0,89.0,91.0,72.0,null,null,91.0,null,96.0,87.0,73.0,71.0,83.0,86.0,92.0,68.0,60.0,70.0,77.0,83.0,67.0,86.0,72.0,81.0,80.0,81.0,82.0,82.0,92.0,88.0,77.0,79.0,null,73.0,68.0,80.0,88.0,80.0,65.0,72.0,72.0,66.0,null,87.0,70.0,73.0,null,57.0,53.0,79.0,36.0,82.0,66.0,81.0,76.0,72.0,66.0,70.0,68.0,52.0,78.0,52.0,72.0,56.0,62.0,46.0,67.0,73.0,45.0,76.0,81.0,70.0,56.0,67.0,68.0,30.0,73.0,81.0,76.0,88.0,64.0,74.0,52.0,53.0,80.0,74.0,64.0,77.0,78.0,71.0,41.0,69.0,66.0,49.0,52.0,84.0,58.0,62.0,69.0,77.0,88.0,56.0,78.0,68.0,90.0,66.0,63.0,60.0,76.0,88.0,76.0,72.0,68.0,82.0,68.0,77.0,65.0,74.0,76.0,64.0,59.0,90.0,87.0,77.0,50.0,65.0,82.0,96.0,76.0,84.0,85.0,78.0,93.0],\"xaxis\":\"x\",\"yaxis\":\"y\",\"type\":\"histogram\"}],                        {\"template\":{\"data\":{\"histogram2dcontour\":[{\"type\":\"histogram2dcontour\",\"colorbar\":{\"outlinewidth\":0,\"ticks\":\"\"},\"colorscale\":[[0.0,\"#0d0887\"],[0.1111111111111111,\"#46039f\"],[0.2222222222222222,\"#7201a8\"],[0.3333333333333333,\"#9c179e\"],[0.4444444444444444,\"#bd3786\"],[0.5555555555555556,\"#d8576b\"],[0.6666666666666666,\"#ed7953\"],[0.7777777777777778,\"#fb9f3a\"],[0.8888888888888888,\"#fdca26\"],[1.0,\"#f0f921\"]]}],\"choropleth\":[{\"type\":\"choropleth\",\"colorbar\":{\"outlinewidth\":0,\"ticks\":\"\"}}],\"histogram2d\":[{\"type\":\"histogram2d\",\"colorbar\":{\"outlinewidth\":0,\"ticks\":\"\"},\"colorscale\":[[0.0,\"#0d0887\"],[0.1111111111111111,\"#46039f\"],[0.2222222222222222,\"#7201a8\"],[0.3333333333333333,\"#9c179e\"],[0.4444444444444444,\"#bd3786\"],[0.5555555555555556,\"#d8576b\"],[0.6666666666666666,\"#ed7953\"],[0.7777777777777778,\"#fb9f3a\"],[0.8888888888888888,\"#fdca26\"],[1.0,\"#f0f921\"]]}],\"heatmap\":[{\"type\":\"heatmap\",\"colorbar\":{\"outlinewidth\":0,\"ticks\":\"\"},\"colorscale\":[[0.0,\"#0d0887\"],[0.1111111111111111,\"#46039f\"],[0.2222222222222222,\"#7201a8\"],[0.3333333333333333,\"#9c179e\"],[0.4444444444444444,\"#bd3786\"],[0.5555555555555556,\"#d8576b\"],[0.6666666666666666,\"#ed7953\"],[0.7777777777777778,\"#fb9f3a\"],[0.8888888888888888,\"#fdca26\"],[1.0,\"#f0f921\"]]}],\"heatmapgl\":[{\"type\":\"heatmapgl\",\"colorbar\":{\"outlinewidth\":0,\"ticks\":\"\"},\"colorscale\":[[0.0,\"#0d0887\"],[0.1111111111111111,\"#46039f\"],[0.2222222222222222,\"#7201a8\"],[0.3333333333333333,\"#9c179e\"],[0.4444444444444444,\"#bd3786\"],[0.5555555555555556,\"#d8576b\"],[0.6666666666666666,\"#ed7953\"],[0.7777777777777778,\"#fb9f3a\"],[0.8888888888888888,\"#fdca26\"],[1.0,\"#f0f921\"]]}],\"contourcarpet\":[{\"type\":\"contourcarpet\",\"colorbar\":{\"outlinewidth\":0,\"ticks\":\"\"}}],\"contour\":[{\"type\":\"contour\",\"colorbar\":{\"outlinewidth\":0,\"ticks\":\"\"},\"colorscale\":[[0.0,\"#0d0887\"],[0.1111111111111111,\"#46039f\"],[0.2222222222222222,\"#7201a8\"],[0.3333333333333333,\"#9c179e\"],[0.4444444444444444,\"#bd3786\"],[0.5555555555555556,\"#d8576b\"],[0.6666666666666666,\"#ed7953\"],[0.7777777777777778,\"#fb9f3a\"],[0.8888888888888888,\"#fdca26\"],[1.0,\"#f0f921\"]]}],\"surface\":[{\"type\":\"surface\",\"colorbar\":{\"outlinewidth\":0,\"ticks\":\"\"},\"colorscale\":[[0.0,\"#0d0887\"],[0.1111111111111111,\"#46039f\"],[0.2222222222222222,\"#7201a8\"],[0.3333333333333333,\"#9c179e\"],[0.4444444444444444,\"#bd3786\"],[0.5555555555555556,\"#d8576b\"],[0.6666666666666666,\"#ed7953\"],[0.7777777777777778,\"#fb9f3a\"],[0.8888888888888888,\"#fdca26\"],[1.0,\"#f0f921\"]]}],\"mesh3d\":[{\"type\":\"mesh3d\",\"colorbar\":{\"outlinewidth\":0,\"ticks\":\"\"}}],\"scatter\":[{\"fillpattern\":{\"fillmode\":\"overlay\",\"size\":10,\"solidity\":0.2},\"type\":\"scatter\"}],\"parcoords\":[{\"type\":\"parcoords\",\"line\":{\"colorbar\":{\"outlinewidth\":0,\"ticks\":\"\"}}}],\"scatterpolargl\":[{\"type\":\"scatterpolargl\",\"marker\":{\"colorbar\":{\"outlinewidth\":0,\"ticks\":\"\"}}}],\"bar\":[{\"error_x\":{\"color\":\"#2a3f5f\"},\"error_y\":{\"color\":\"#2a3f5f\"},\"marker\":{\"line\":{\"color\":\"#E5ECF6\",\"width\":0.5},\"pattern\":{\"fillmode\":\"overlay\",\"size\":10,\"solidity\":0.2}},\"type\":\"bar\"}],\"scattergeo\":[{\"type\":\"scattergeo\",\"marker\":{\"colorbar\":{\"outlinewidth\":0,\"ticks\":\"\"}}}],\"scatterpolar\":[{\"type\":\"scatterpolar\",\"marker\":{\"colorbar\":{\"outlinewidth\":0,\"ticks\":\"\"}}}],\"histogram\":[{\"marker\":{\"pattern\":{\"fillmode\":\"overlay\",\"size\":10,\"solidity\":0.2}},\"type\":\"histogram\"}],\"scattergl\":[{\"type\":\"scattergl\",\"marker\":{\"colorbar\":{\"outlinewidth\":0,\"ticks\":\"\"}}}],\"scatter3d\":[{\"type\":\"scatter3d\",\"line\":{\"colorbar\":{\"outlinewidth\":0,\"ticks\":\"\"}},\"marker\":{\"colorbar\":{\"outlinewidth\":0,\"ticks\":\"\"}}}],\"scattermapbox\":[{\"type\":\"scattermapbox\",\"marker\":{\"colorbar\":{\"outlinewidth\":0,\"ticks\":\"\"}}}],\"scatterternary\":[{\"type\":\"scatterternary\",\"marker\":{\"colorbar\":{\"outlinewidth\":0,\"ticks\":\"\"}}}],\"scattercarpet\":[{\"type\":\"scattercarpet\",\"marker\":{\"colorbar\":{\"outlinewidth\":0,\"ticks\":\"\"}}}],\"carpet\":[{\"aaxis\":{\"endlinecolor\":\"#2a3f5f\",\"gridcolor\":\"white\",\"linecolor\":\"white\",\"minorgridcolor\":\"white\",\"startlinecolor\":\"#2a3f5f\"},\"baxis\":{\"endlinecolor\":\"#2a3f5f\",\"gridcolor\":\"white\",\"linecolor\":\"white\",\"minorgridcolor\":\"white\",\"startlinecolor\":\"#2a3f5f\"},\"type\":\"carpet\"}],\"table\":[{\"cells\":{\"fill\":{\"color\":\"#EBF0F8\"},\"line\":{\"color\":\"white\"}},\"header\":{\"fill\":{\"color\":\"#C8D4E3\"},\"line\":{\"color\":\"white\"}},\"type\":\"table\"}],\"barpolar\":[{\"marker\":{\"line\":{\"color\":\"#E5ECF6\",\"width\":0.5},\"pattern\":{\"fillmode\":\"overlay\",\"size\":10,\"solidity\":0.2}},\"type\":\"barpolar\"}],\"pie\":[{\"automargin\":true,\"type\":\"pie\"}]},\"layout\":{\"autotypenumbers\":\"strict\",\"colorway\":[\"#636efa\",\"#EF553B\",\"#00cc96\",\"#ab63fa\",\"#FFA15A\",\"#19d3f3\",\"#FF6692\",\"#B6E880\",\"#FF97FF\",\"#FECB52\"],\"font\":{\"color\":\"#2a3f5f\"},\"hovermode\":\"closest\",\"hoverlabel\":{\"align\":\"left\"},\"paper_bgcolor\":\"white\",\"plot_bgcolor\":\"#E5ECF6\",\"polar\":{\"bgcolor\":\"#E5ECF6\",\"angularaxis\":{\"gridcolor\":\"white\",\"linecolor\":\"white\",\"ticks\":\"\"},\"radialaxis\":{\"gridcolor\":\"white\",\"linecolor\":\"white\",\"ticks\":\"\"}},\"ternary\":{\"bgcolor\":\"#E5ECF6\",\"aaxis\":{\"gridcolor\":\"white\",\"linecolor\":\"white\",\"ticks\":\"\"},\"baxis\":{\"gridcolor\":\"white\",\"linecolor\":\"white\",\"ticks\":\"\"},\"caxis\":{\"gridcolor\":\"white\",\"linecolor\":\"white\",\"ticks\":\"\"}},\"coloraxis\":{\"colorbar\":{\"outlinewidth\":0,\"ticks\":\"\"}},\"colorscale\":{\"sequential\":[[0.0,\"#0d0887\"],[0.1111111111111111,\"#46039f\"],[0.2222222222222222,\"#7201a8\"],[0.3333333333333333,\"#9c179e\"],[0.4444444444444444,\"#bd3786\"],[0.5555555555555556,\"#d8576b\"],[0.6666666666666666,\"#ed7953\"],[0.7777777777777778,\"#fb9f3a\"],[0.8888888888888888,\"#fdca26\"],[1.0,\"#f0f921\"]],\"sequentialminus\":[[0.0,\"#0d0887\"],[0.1111111111111111,\"#46039f\"],[0.2222222222222222,\"#7201a8\"],[0.3333333333333333,\"#9c179e\"],[0.4444444444444444,\"#bd3786\"],[0.5555555555555556,\"#d8576b\"],[0.6666666666666666,\"#ed7953\"],[0.7777777777777778,\"#fb9f3a\"],[0.8888888888888888,\"#fdca26\"],[1.0,\"#f0f921\"]],\"diverging\":[[0,\"#8e0152\"],[0.1,\"#c51b7d\"],[0.2,\"#de77ae\"],[0.3,\"#f1b6da\"],[0.4,\"#fde0ef\"],[0.5,\"#f7f7f7\"],[0.6,\"#e6f5d0\"],[0.7,\"#b8e186\"],[0.8,\"#7fbc41\"],[0.9,\"#4d9221\"],[1,\"#276419\"]]},\"xaxis\":{\"gridcolor\":\"white\",\"linecolor\":\"white\",\"ticks\":\"\",\"title\":{\"standoff\":15},\"zerolinecolor\":\"white\",\"automargin\":true,\"zerolinewidth\":2},\"yaxis\":{\"gridcolor\":\"white\",\"linecolor\":\"white\",\"ticks\":\"\",\"title\":{\"standoff\":15},\"zerolinecolor\":\"white\",\"automargin\":true,\"zerolinewidth\":2},\"scene\":{\"xaxis\":{\"backgroundcolor\":\"#E5ECF6\",\"gridcolor\":\"white\",\"linecolor\":\"white\",\"showbackground\":true,\"ticks\":\"\",\"zerolinecolor\":\"white\",\"gridwidth\":2},\"yaxis\":{\"backgroundcolor\":\"#E5ECF6\",\"gridcolor\":\"white\",\"linecolor\":\"white\",\"showbackground\":true,\"ticks\":\"\",\"zerolinecolor\":\"white\",\"gridwidth\":2},\"zaxis\":{\"backgroundcolor\":\"#E5ECF6\",\"gridcolor\":\"white\",\"linecolor\":\"white\",\"showbackground\":true,\"ticks\":\"\",\"zerolinecolor\":\"white\",\"gridwidth\":2}},\"shapedefaults\":{\"line\":{\"color\":\"#2a3f5f\"}},\"annotationdefaults\":{\"arrowcolor\":\"#2a3f5f\",\"arrowhead\":0,\"arrowwidth\":1},\"geo\":{\"bgcolor\":\"white\",\"landcolor\":\"#E5ECF6\",\"subunitcolor\":\"white\",\"showland\":true,\"showlakes\":true,\"lakecolor\":\"white\"},\"title\":{\"x\":0.05},\"mapbox\":{\"style\":\"light\"}}},\"xaxis\":{\"anchor\":\"y\",\"domain\":[0.0,1.0],\"title\":{\"text\":\"Meta_score\"}},\"yaxis\":{\"anchor\":\"x\",\"domain\":[0.0,1.0],\"title\":{\"text\":\"count\"}},\"legend\":{\"tracegroupgap\":0},\"title\":{\"text\":\"No. of movies released in a year\"},\"barmode\":\"relative\"},                        {\"responsive\": true}                    ).then(function(){\n",
              "                            \n",
              "var gd = document.getElementById('db0dc2cd-d928-48b6-bdd8-bebb1a2819b4');\n",
              "var x = new MutationObserver(function (mutations, observer) {{\n",
              "        var display = window.getComputedStyle(gd).display;\n",
              "        if (!display || display === 'none') {{\n",
              "            console.log([gd, 'removed!']);\n",
              "            Plotly.purge(gd);\n",
              "            observer.disconnect();\n",
              "        }}\n",
              "}});\n",
              "\n",
              "// Listen for the removal of the full notebook cells\n",
              "var notebookContainer = gd.closest('#notebook-container');\n",
              "if (notebookContainer) {{\n",
              "    x.observe(notebookContainer, {childList: true});\n",
              "}}\n",
              "\n",
              "// Listen for the clearing of the current output cell\n",
              "var outputEl = gd.closest('.output');\n",
              "if (outputEl) {{\n",
              "    x.observe(outputEl, {childList: true});\n",
              "}}\n",
              "\n",
              "                        })                };                            </script>        </div>\n",
              "</body>\n",
              "</html>"
            ]
          },
          "metadata": {}
        }
      ]
    },
    {
      "cell_type": "markdown",
      "source": [
        "For most of the movies the meta score lies between 50-99.\n",
        "This conclusion can be drawn from the above histogram"
      ],
      "metadata": {
        "id": "AFRxLHz4B1Ta"
      }
    }
  ]
}